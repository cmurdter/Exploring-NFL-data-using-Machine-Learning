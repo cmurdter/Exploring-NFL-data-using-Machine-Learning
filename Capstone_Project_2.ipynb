{
 "cells": [
  {
   "cell_type": "code",
   "execution_count": 1,
   "metadata": {},
   "outputs": [],
   "source": [
    "from sklearn.metrics import accuracy_score\n",
    "import matplotlib.pyplot as plt\n",
    "from sklearn import ensemble\n",
    "import pandas as pd\n",
    "import numpy as np\n",
    "import seaborn as sns\n",
    "import xgboost as xgb\n",
    "from sklearn import metrics\n",
    "from sklearn.metrics import classification_report"
   ]
  },
  {
   "cell_type": "code",
   "execution_count": 2,
   "metadata": {},
   "outputs": [],
   "source": [
    "import warnings\n",
    "warnings.filterwarnings('ignore')"
   ]
  },
  {
   "cell_type": "code",
   "execution_count": 3,
   "metadata": {
    "scrolled": true
   },
   "outputs": [],
   "source": [
    "#downloading data by NFL season\n",
    "\n",
    "pbp_2009 = pd.read_csv('reg_pbp_2009.csv')\n",
    "pbp_2010 = pd.read_csv('reg_pbp_2010.csv')\n",
    "pbp_2011 = pd.read_csv('reg_pbp_2011.csv')\n",
    "pbp_2012 = pd.read_csv('reg_pbp_2012.csv')\n",
    "pbp_2013 = pd.read_csv('reg_pbp_2013.csv')\n",
    "pbp_2014 = pd.read_csv('reg_pbp_2014.csv')\n",
    "pbp_2015 = pd.read_csv('reg_pbp_2015.csv')\n",
    "pbp_2016 = pd.read_csv('reg_pbp_2016.csv')\n",
    "pbp_2017 = pd.read_csv('reg_pbp_2017.csv')\n",
    "pbp_2018 = pd.read_csv('reg_pbp_2018.csv')\n",
    "pbp_2019 = pd.read_csv('reg_pbp_2019_full.csv')"
   ]
  },
  {
   "cell_type": "code",
   "execution_count": 4,
   "metadata": {},
   "outputs": [
    {
     "data": {
      "text/html": [
       "<div>\n",
       "<style scoped>\n",
       "    .dataframe tbody tr th:only-of-type {\n",
       "        vertical-align: middle;\n",
       "    }\n",
       "\n",
       "    .dataframe tbody tr th {\n",
       "        vertical-align: top;\n",
       "    }\n",
       "\n",
       "    .dataframe thead th {\n",
       "        text-align: right;\n",
       "    }\n",
       "</style>\n",
       "<table border=\"1\" class=\"dataframe\">\n",
       "  <thead>\n",
       "    <tr style=\"text-align: right;\">\n",
       "      <th></th>\n",
       "      <th>play_id</th>\n",
       "      <th>game_id</th>\n",
       "      <th>home_team</th>\n",
       "      <th>away_team</th>\n",
       "      <th>posteam</th>\n",
       "      <th>posteam_type</th>\n",
       "      <th>defteam</th>\n",
       "      <th>side_of_field</th>\n",
       "      <th>yardline_100</th>\n",
       "      <th>game_date</th>\n",
       "      <th>...</th>\n",
       "      <th>penalty_player_id</th>\n",
       "      <th>penalty_player_name</th>\n",
       "      <th>penalty_yards</th>\n",
       "      <th>replay_or_challenge</th>\n",
       "      <th>replay_or_challenge_result</th>\n",
       "      <th>penalty_type</th>\n",
       "      <th>defensive_two_point_attempt</th>\n",
       "      <th>defensive_two_point_conv</th>\n",
       "      <th>defensive_extra_point_attempt</th>\n",
       "      <th>defensive_extra_point_conv</th>\n",
       "    </tr>\n",
       "  </thead>\n",
       "  <tbody>\n",
       "    <tr>\n",
       "      <th>45151</th>\n",
       "      <td>4261</td>\n",
       "      <td>2018123011</td>\n",
       "      <td>TEN</td>\n",
       "      <td>IND</td>\n",
       "      <td>TEN</td>\n",
       "      <td>home</td>\n",
       "      <td>IND</td>\n",
       "      <td>TEN</td>\n",
       "      <td>72.0</td>\n",
       "      <td>2018-12-30</td>\n",
       "      <td>...</td>\n",
       "      <td>NaN</td>\n",
       "      <td>NaN</td>\n",
       "      <td>NaN</td>\n",
       "      <td>0</td>\n",
       "      <td>NaN</td>\n",
       "      <td>NaN</td>\n",
       "      <td>0.0</td>\n",
       "      <td>0.0</td>\n",
       "      <td>0.0</td>\n",
       "      <td>0.0</td>\n",
       "    </tr>\n",
       "    <tr>\n",
       "      <th>45152</th>\n",
       "      <td>4288</td>\n",
       "      <td>2018123011</td>\n",
       "      <td>TEN</td>\n",
       "      <td>IND</td>\n",
       "      <td>IND</td>\n",
       "      <td>away</td>\n",
       "      <td>TEN</td>\n",
       "      <td>TEN</td>\n",
       "      <td>8.0</td>\n",
       "      <td>2018-12-30</td>\n",
       "      <td>...</td>\n",
       "      <td>NaN</td>\n",
       "      <td>NaN</td>\n",
       "      <td>NaN</td>\n",
       "      <td>0</td>\n",
       "      <td>NaN</td>\n",
       "      <td>NaN</td>\n",
       "      <td>0.0</td>\n",
       "      <td>0.0</td>\n",
       "      <td>0.0</td>\n",
       "      <td>0.0</td>\n",
       "    </tr>\n",
       "    <tr>\n",
       "      <th>45153</th>\n",
       "      <td>4310</td>\n",
       "      <td>2018123011</td>\n",
       "      <td>TEN</td>\n",
       "      <td>IND</td>\n",
       "      <td>IND</td>\n",
       "      <td>away</td>\n",
       "      <td>TEN</td>\n",
       "      <td>TEN</td>\n",
       "      <td>9.0</td>\n",
       "      <td>2018-12-30</td>\n",
       "      <td>...</td>\n",
       "      <td>NaN</td>\n",
       "      <td>NaN</td>\n",
       "      <td>NaN</td>\n",
       "      <td>0</td>\n",
       "      <td>NaN</td>\n",
       "      <td>NaN</td>\n",
       "      <td>0.0</td>\n",
       "      <td>0.0</td>\n",
       "      <td>0.0</td>\n",
       "      <td>0.0</td>\n",
       "    </tr>\n",
       "    <tr>\n",
       "      <th>45154</th>\n",
       "      <td>4332</td>\n",
       "      <td>2018123011</td>\n",
       "      <td>TEN</td>\n",
       "      <td>IND</td>\n",
       "      <td>IND</td>\n",
       "      <td>away</td>\n",
       "      <td>TEN</td>\n",
       "      <td>TEN</td>\n",
       "      <td>10.0</td>\n",
       "      <td>2018-12-30</td>\n",
       "      <td>...</td>\n",
       "      <td>NaN</td>\n",
       "      <td>NaN</td>\n",
       "      <td>NaN</td>\n",
       "      <td>0</td>\n",
       "      <td>NaN</td>\n",
       "      <td>NaN</td>\n",
       "      <td>0.0</td>\n",
       "      <td>0.0</td>\n",
       "      <td>0.0</td>\n",
       "      <td>0.0</td>\n",
       "    </tr>\n",
       "    <tr>\n",
       "      <th>45155</th>\n",
       "      <td>4354</td>\n",
       "      <td>2018123011</td>\n",
       "      <td>TEN</td>\n",
       "      <td>IND</td>\n",
       "      <td>NaN</td>\n",
       "      <td>NaN</td>\n",
       "      <td>NaN</td>\n",
       "      <td>TEN</td>\n",
       "      <td>NaN</td>\n",
       "      <td>2018-12-30</td>\n",
       "      <td>...</td>\n",
       "      <td>NaN</td>\n",
       "      <td>NaN</td>\n",
       "      <td>NaN</td>\n",
       "      <td>0</td>\n",
       "      <td>NaN</td>\n",
       "      <td>NaN</td>\n",
       "      <td>NaN</td>\n",
       "      <td>NaN</td>\n",
       "      <td>NaN</td>\n",
       "      <td>NaN</td>\n",
       "    </tr>\n",
       "  </tbody>\n",
       "</table>\n",
       "<p>5 rows × 256 columns</p>\n",
       "</div>"
      ],
      "text/plain": [
       "       play_id     game_id home_team away_team posteam posteam_type defteam  \\\n",
       "45151     4261  2018123011       TEN       IND     TEN         home     IND   \n",
       "45152     4288  2018123011       TEN       IND     IND         away     TEN   \n",
       "45153     4310  2018123011       TEN       IND     IND         away     TEN   \n",
       "45154     4332  2018123011       TEN       IND     IND         away     TEN   \n",
       "45155     4354  2018123011       TEN       IND     NaN          NaN     NaN   \n",
       "\n",
       "      side_of_field  yardline_100   game_date             ...              \\\n",
       "45151           TEN          72.0  2018-12-30             ...               \n",
       "45152           TEN           8.0  2018-12-30             ...               \n",
       "45153           TEN           9.0  2018-12-30             ...               \n",
       "45154           TEN          10.0  2018-12-30             ...               \n",
       "45155           TEN           NaN  2018-12-30             ...               \n",
       "\n",
       "       penalty_player_id  penalty_player_name  penalty_yards  \\\n",
       "45151                NaN                  NaN            NaN   \n",
       "45152                NaN                  NaN            NaN   \n",
       "45153                NaN                  NaN            NaN   \n",
       "45154                NaN                  NaN            NaN   \n",
       "45155                NaN                  NaN            NaN   \n",
       "\n",
       "      replay_or_challenge  replay_or_challenge_result  penalty_type  \\\n",
       "45151                   0                         NaN           NaN   \n",
       "45152                   0                         NaN           NaN   \n",
       "45153                   0                         NaN           NaN   \n",
       "45154                   0                         NaN           NaN   \n",
       "45155                   0                         NaN           NaN   \n",
       "\n",
       "       defensive_two_point_attempt  defensive_two_point_conv  \\\n",
       "45151                          0.0                       0.0   \n",
       "45152                          0.0                       0.0   \n",
       "45153                          0.0                       0.0   \n",
       "45154                          0.0                       0.0   \n",
       "45155                          NaN                       NaN   \n",
       "\n",
       "       defensive_extra_point_attempt  defensive_extra_point_conv  \n",
       "45151                            0.0                         0.0  \n",
       "45152                            0.0                         0.0  \n",
       "45153                            0.0                         0.0  \n",
       "45154                            0.0                         0.0  \n",
       "45155                            NaN                         NaN  \n",
       "\n",
       "[5 rows x 256 columns]"
      ]
     },
     "execution_count": 4,
     "metadata": {},
     "output_type": "execute_result"
    }
   ],
   "source": [
    "pbp_2018.tail()"
   ]
  },
  {
   "cell_type": "code",
   "execution_count": 5,
   "metadata": {},
   "outputs": [],
   "source": [
    "#concatenating the data together\n",
    "pbp_test = pd.concat([pbp_2009, pbp_2010,pbp_2011,pbp_2012,pbp_2013,pbp_2014,pbp_2015,pbp_2016,pbp_2017,\n",
    "                     pbp_2018,pbp_2019], axis=0,ignore_index=True)"
   ]
  },
  {
   "cell_type": "code",
   "execution_count": 6,
   "metadata": {},
   "outputs": [
    {
     "data": {
      "text/html": [
       "<div>\n",
       "<style scoped>\n",
       "    .dataframe tbody tr th:only-of-type {\n",
       "        vertical-align: middle;\n",
       "    }\n",
       "\n",
       "    .dataframe tbody tr th {\n",
       "        vertical-align: top;\n",
       "    }\n",
       "\n",
       "    .dataframe thead th {\n",
       "        text-align: right;\n",
       "    }\n",
       "</style>\n",
       "<table border=\"1\" class=\"dataframe\">\n",
       "  <thead>\n",
       "    <tr style=\"text-align: right;\">\n",
       "      <th></th>\n",
       "      <th>play_id</th>\n",
       "      <th>game_id</th>\n",
       "      <th>home_team</th>\n",
       "      <th>away_team</th>\n",
       "      <th>posteam</th>\n",
       "      <th>posteam_type</th>\n",
       "      <th>defteam</th>\n",
       "      <th>side_of_field</th>\n",
       "      <th>yardline_100</th>\n",
       "      <th>game_date</th>\n",
       "      <th>...</th>\n",
       "      <th>penalty_player_id</th>\n",
       "      <th>penalty_player_name</th>\n",
       "      <th>penalty_yards</th>\n",
       "      <th>replay_or_challenge</th>\n",
       "      <th>replay_or_challenge_result</th>\n",
       "      <th>penalty_type</th>\n",
       "      <th>defensive_two_point_attempt</th>\n",
       "      <th>defensive_two_point_conv</th>\n",
       "      <th>defensive_extra_point_attempt</th>\n",
       "      <th>defensive_extra_point_conv</th>\n",
       "    </tr>\n",
       "  </thead>\n",
       "  <tbody>\n",
       "    <tr>\n",
       "      <th>498388</th>\n",
       "      <td>3955</td>\n",
       "      <td>2019122915</td>\n",
       "      <td>SEA</td>\n",
       "      <td>SF</td>\n",
       "      <td>SEA</td>\n",
       "      <td>home</td>\n",
       "      <td>SF</td>\n",
       "      <td>SF</td>\n",
       "      <td>5.0</td>\n",
       "      <td>2019-12-29</td>\n",
       "      <td>...</td>\n",
       "      <td>NaN</td>\n",
       "      <td>NaN</td>\n",
       "      <td>NaN</td>\n",
       "      <td>0</td>\n",
       "      <td>NaN</td>\n",
       "      <td>NaN</td>\n",
       "      <td>0.0</td>\n",
       "      <td>0.0</td>\n",
       "      <td>0.0</td>\n",
       "      <td>0.0</td>\n",
       "    </tr>\n",
       "    <tr>\n",
       "      <th>498389</th>\n",
       "      <td>3977</td>\n",
       "      <td>2019122915</td>\n",
       "      <td>SEA</td>\n",
       "      <td>SF</td>\n",
       "      <td>SEA</td>\n",
       "      <td>home</td>\n",
       "      <td>SF</td>\n",
       "      <td>SF</td>\n",
       "      <td>5.0</td>\n",
       "      <td>2019-12-29</td>\n",
       "      <td>...</td>\n",
       "      <td>NaN</td>\n",
       "      <td>NaN</td>\n",
       "      <td>NaN</td>\n",
       "      <td>0</td>\n",
       "      <td>NaN</td>\n",
       "      <td>NaN</td>\n",
       "      <td>0.0</td>\n",
       "      <td>0.0</td>\n",
       "      <td>0.0</td>\n",
       "      <td>0.0</td>\n",
       "    </tr>\n",
       "    <tr>\n",
       "      <th>498390</th>\n",
       "      <td>3999</td>\n",
       "      <td>2019122915</td>\n",
       "      <td>SEA</td>\n",
       "      <td>SF</td>\n",
       "      <td>SEA</td>\n",
       "      <td>home</td>\n",
       "      <td>SF</td>\n",
       "      <td>SF</td>\n",
       "      <td>5.0</td>\n",
       "      <td>2019-12-29</td>\n",
       "      <td>...</td>\n",
       "      <td>NaN</td>\n",
       "      <td>NaN</td>\n",
       "      <td>NaN</td>\n",
       "      <td>1</td>\n",
       "      <td>upheld</td>\n",
       "      <td>NaN</td>\n",
       "      <td>0.0</td>\n",
       "      <td>0.0</td>\n",
       "      <td>0.0</td>\n",
       "      <td>0.0</td>\n",
       "    </tr>\n",
       "    <tr>\n",
       "      <th>498391</th>\n",
       "      <td>4080</td>\n",
       "      <td>2019122915</td>\n",
       "      <td>SEA</td>\n",
       "      <td>SF</td>\n",
       "      <td>SF</td>\n",
       "      <td>away</td>\n",
       "      <td>SEA</td>\n",
       "      <td>SF</td>\n",
       "      <td>99.0</td>\n",
       "      <td>2019-12-29</td>\n",
       "      <td>...</td>\n",
       "      <td>NaN</td>\n",
       "      <td>NaN</td>\n",
       "      <td>NaN</td>\n",
       "      <td>0</td>\n",
       "      <td>NaN</td>\n",
       "      <td>NaN</td>\n",
       "      <td>0.0</td>\n",
       "      <td>0.0</td>\n",
       "      <td>0.0</td>\n",
       "      <td>0.0</td>\n",
       "    </tr>\n",
       "    <tr>\n",
       "      <th>498392</th>\n",
       "      <td>4101</td>\n",
       "      <td>2019122915</td>\n",
       "      <td>SEA</td>\n",
       "      <td>SF</td>\n",
       "      <td>NaN</td>\n",
       "      <td>NaN</td>\n",
       "      <td>NaN</td>\n",
       "      <td>SF</td>\n",
       "      <td>NaN</td>\n",
       "      <td>2019-12-29</td>\n",
       "      <td>...</td>\n",
       "      <td>NaN</td>\n",
       "      <td>NaN</td>\n",
       "      <td>NaN</td>\n",
       "      <td>0</td>\n",
       "      <td>NaN</td>\n",
       "      <td>NaN</td>\n",
       "      <td>NaN</td>\n",
       "      <td>NaN</td>\n",
       "      <td>NaN</td>\n",
       "      <td>NaN</td>\n",
       "    </tr>\n",
       "  </tbody>\n",
       "</table>\n",
       "<p>5 rows × 256 columns</p>\n",
       "</div>"
      ],
      "text/plain": [
       "        play_id     game_id home_team away_team posteam posteam_type defteam  \\\n",
       "498388     3955  2019122915       SEA        SF     SEA         home      SF   \n",
       "498389     3977  2019122915       SEA        SF     SEA         home      SF   \n",
       "498390     3999  2019122915       SEA        SF     SEA         home      SF   \n",
       "498391     4080  2019122915       SEA        SF      SF         away     SEA   \n",
       "498392     4101  2019122915       SEA        SF     NaN          NaN     NaN   \n",
       "\n",
       "       side_of_field  yardline_100   game_date             ...              \\\n",
       "498388            SF           5.0  2019-12-29             ...               \n",
       "498389            SF           5.0  2019-12-29             ...               \n",
       "498390            SF           5.0  2019-12-29             ...               \n",
       "498391            SF          99.0  2019-12-29             ...               \n",
       "498392            SF           NaN  2019-12-29             ...               \n",
       "\n",
       "        penalty_player_id  penalty_player_name  penalty_yards  \\\n",
       "498388                NaN                  NaN            NaN   \n",
       "498389                NaN                  NaN            NaN   \n",
       "498390                NaN                  NaN            NaN   \n",
       "498391                NaN                  NaN            NaN   \n",
       "498392                NaN                  NaN            NaN   \n",
       "\n",
       "       replay_or_challenge  replay_or_challenge_result  penalty_type  \\\n",
       "498388                   0                         NaN           NaN   \n",
       "498389                   0                         NaN           NaN   \n",
       "498390                   1                      upheld           NaN   \n",
       "498391                   0                         NaN           NaN   \n",
       "498392                   0                         NaN           NaN   \n",
       "\n",
       "        defensive_two_point_attempt  defensive_two_point_conv  \\\n",
       "498388                          0.0                       0.0   \n",
       "498389                          0.0                       0.0   \n",
       "498390                          0.0                       0.0   \n",
       "498391                          0.0                       0.0   \n",
       "498392                          NaN                       NaN   \n",
       "\n",
       "        defensive_extra_point_attempt  defensive_extra_point_conv  \n",
       "498388                            0.0                         0.0  \n",
       "498389                            0.0                         0.0  \n",
       "498390                            0.0                         0.0  \n",
       "498391                            0.0                         0.0  \n",
       "498392                            NaN                         NaN  \n",
       "\n",
       "[5 rows x 256 columns]"
      ]
     },
     "execution_count": 6,
     "metadata": {},
     "output_type": "execute_result"
    }
   ],
   "source": [
    "pbp_test.tail()"
   ]
  },
  {
   "cell_type": "code",
   "execution_count": 7,
   "metadata": {},
   "outputs": [
    {
     "data": {
      "text/plain": [
       "498393"
      ]
     },
     "execution_count": 7,
     "metadata": {},
     "output_type": "execute_result"
    }
   ],
   "source": [
    "len(pbp_test)"
   ]
  },
  {
   "cell_type": "code",
   "execution_count": 8,
   "metadata": {
    "scrolled": true
   },
   "outputs": [
    {
     "name": "stdout",
     "output_type": "stream",
     "text": [
      "play_id\n",
      "game_id\n",
      "home_team\n",
      "away_team\n",
      "posteam\n",
      "posteam_type\n",
      "defteam\n",
      "side_of_field\n",
      "yardline_100\n",
      "game_date\n",
      "quarter_seconds_remaining\n",
      "half_seconds_remaining\n",
      "game_seconds_remaining\n",
      "game_half\n",
      "quarter_end\n",
      "drive\n",
      "sp\n",
      "qtr\n",
      "down\n",
      "goal_to_go\n",
      "time\n",
      "yrdln\n",
      "ydstogo\n",
      "ydsnet\n",
      "desc\n",
      "play_type\n",
      "yards_gained\n",
      "shotgun\n",
      "no_huddle\n",
      "qb_dropback\n",
      "qb_kneel\n",
      "qb_spike\n",
      "qb_scramble\n",
      "pass_length\n",
      "pass_location\n",
      "air_yards\n",
      "yards_after_catch\n",
      "run_location\n",
      "run_gap\n",
      "field_goal_result\n",
      "kick_distance\n",
      "extra_point_result\n",
      "two_point_conv_result\n",
      "home_timeouts_remaining\n",
      "away_timeouts_remaining\n",
      "timeout\n",
      "timeout_team\n",
      "td_team\n",
      "posteam_timeouts_remaining\n",
      "defteam_timeouts_remaining\n",
      "total_home_score\n",
      "total_away_score\n",
      "posteam_score\n",
      "defteam_score\n",
      "score_differential\n",
      "posteam_score_post\n",
      "defteam_score_post\n",
      "score_differential_post\n",
      "no_score_prob\n",
      "opp_fg_prob\n",
      "opp_safety_prob\n",
      "opp_td_prob\n",
      "fg_prob\n",
      "safety_prob\n",
      "td_prob\n",
      "extra_point_prob\n",
      "two_point_conversion_prob\n",
      "ep\n",
      "epa\n",
      "total_home_epa\n",
      "total_away_epa\n",
      "total_home_rush_epa\n",
      "total_away_rush_epa\n",
      "total_home_pass_epa\n",
      "total_away_pass_epa\n",
      "air_epa\n",
      "yac_epa\n",
      "comp_air_epa\n",
      "comp_yac_epa\n",
      "total_home_comp_air_epa\n",
      "total_away_comp_air_epa\n",
      "total_home_comp_yac_epa\n",
      "total_away_comp_yac_epa\n",
      "total_home_raw_air_epa\n",
      "total_away_raw_air_epa\n",
      "total_home_raw_yac_epa\n",
      "total_away_raw_yac_epa\n",
      "wp\n",
      "def_wp\n",
      "home_wp\n",
      "away_wp\n",
      "wpa\n",
      "home_wp_post\n",
      "away_wp_post\n",
      "total_home_rush_wpa\n",
      "total_away_rush_wpa\n",
      "total_home_pass_wpa\n",
      "total_away_pass_wpa\n",
      "air_wpa\n",
      "yac_wpa\n",
      "comp_air_wpa\n",
      "comp_yac_wpa\n",
      "total_home_comp_air_wpa\n",
      "total_away_comp_air_wpa\n",
      "total_home_comp_yac_wpa\n",
      "total_away_comp_yac_wpa\n",
      "total_home_raw_air_wpa\n",
      "total_away_raw_air_wpa\n",
      "total_home_raw_yac_wpa\n",
      "total_away_raw_yac_wpa\n",
      "punt_blocked\n",
      "first_down_rush\n",
      "first_down_pass\n",
      "first_down_penalty\n",
      "third_down_converted\n",
      "third_down_failed\n",
      "fourth_down_converted\n",
      "fourth_down_failed\n",
      "incomplete_pass\n",
      "touchback\n",
      "interception\n",
      "punt_inside_twenty\n",
      "punt_in_endzone\n",
      "punt_out_of_bounds\n",
      "punt_downed\n",
      "punt_fair_catch\n",
      "kickoff_inside_twenty\n",
      "kickoff_in_endzone\n",
      "kickoff_out_of_bounds\n",
      "kickoff_downed\n",
      "kickoff_fair_catch\n",
      "fumble_forced\n",
      "fumble_not_forced\n",
      "fumble_out_of_bounds\n",
      "solo_tackle\n",
      "safety\n",
      "penalty\n",
      "tackled_for_loss\n",
      "fumble_lost\n",
      "own_kickoff_recovery\n",
      "own_kickoff_recovery_td\n",
      "qb_hit\n",
      "rush_attempt\n",
      "pass_attempt\n",
      "sack\n",
      "touchdown\n",
      "pass_touchdown\n",
      "rush_touchdown\n",
      "return_touchdown\n",
      "extra_point_attempt\n",
      "two_point_attempt\n",
      "field_goal_attempt\n",
      "kickoff_attempt\n",
      "punt_attempt\n",
      "fumble\n",
      "complete_pass\n",
      "assist_tackle\n",
      "lateral_reception\n",
      "lateral_rush\n",
      "lateral_return\n",
      "lateral_recovery\n",
      "passer_player_id\n",
      "passer_player_name\n",
      "receiver_player_id\n",
      "receiver_player_name\n",
      "rusher_player_id\n",
      "rusher_player_name\n",
      "lateral_receiver_player_id\n",
      "lateral_receiver_player_name\n",
      "lateral_rusher_player_id\n",
      "lateral_rusher_player_name\n",
      "lateral_sack_player_id\n",
      "lateral_sack_player_name\n",
      "interception_player_id\n",
      "interception_player_name\n",
      "lateral_interception_player_id\n",
      "lateral_interception_player_name\n",
      "punt_returner_player_id\n",
      "punt_returner_player_name\n",
      "lateral_punt_returner_player_id\n",
      "lateral_punt_returner_player_name\n",
      "kickoff_returner_player_name\n",
      "kickoff_returner_player_id\n",
      "lateral_kickoff_returner_player_id\n",
      "lateral_kickoff_returner_player_name\n",
      "punter_player_id\n",
      "punter_player_name\n",
      "kicker_player_name\n",
      "kicker_player_id\n",
      "own_kickoff_recovery_player_id\n",
      "own_kickoff_recovery_player_name\n",
      "blocked_player_id\n",
      "blocked_player_name\n",
      "tackle_for_loss_1_player_id\n",
      "tackle_for_loss_1_player_name\n",
      "tackle_for_loss_2_player_id\n",
      "tackle_for_loss_2_player_name\n",
      "qb_hit_1_player_id\n",
      "qb_hit_1_player_name\n",
      "qb_hit_2_player_id\n",
      "qb_hit_2_player_name\n",
      "forced_fumble_player_1_team\n",
      "forced_fumble_player_1_player_id\n",
      "forced_fumble_player_1_player_name\n",
      "forced_fumble_player_2_team\n",
      "forced_fumble_player_2_player_id\n",
      "forced_fumble_player_2_player_name\n",
      "solo_tackle_1_team\n",
      "solo_tackle_2_team\n",
      "solo_tackle_1_player_id\n",
      "solo_tackle_2_player_id\n",
      "solo_tackle_1_player_name\n",
      "solo_tackle_2_player_name\n",
      "assist_tackle_1_player_id\n",
      "assist_tackle_1_player_name\n",
      "assist_tackle_1_team\n",
      "assist_tackle_2_player_id\n",
      "assist_tackle_2_player_name\n",
      "assist_tackle_2_team\n",
      "assist_tackle_3_player_id\n",
      "assist_tackle_3_player_name\n",
      "assist_tackle_3_team\n",
      "assist_tackle_4_player_id\n",
      "assist_tackle_4_player_name\n",
      "assist_tackle_4_team\n",
      "pass_defense_1_player_id\n",
      "pass_defense_1_player_name\n",
      "pass_defense_2_player_id\n",
      "pass_defense_2_player_name\n",
      "fumbled_1_team\n",
      "fumbled_1_player_id\n",
      "fumbled_1_player_name\n",
      "fumbled_2_player_id\n",
      "fumbled_2_player_name\n",
      "fumbled_2_team\n",
      "fumble_recovery_1_team\n",
      "fumble_recovery_1_yards\n",
      "fumble_recovery_1_player_id\n",
      "fumble_recovery_1_player_name\n",
      "fumble_recovery_2_team\n",
      "fumble_recovery_2_yards\n",
      "fumble_recovery_2_player_id\n",
      "fumble_recovery_2_player_name\n",
      "return_team\n",
      "return_yards\n",
      "penalty_team\n",
      "penalty_player_id\n",
      "penalty_player_name\n",
      "penalty_yards\n",
      "replay_or_challenge\n",
      "replay_or_challenge_result\n",
      "penalty_type\n",
      "defensive_two_point_attempt\n",
      "defensive_two_point_conv\n",
      "defensive_extra_point_attempt\n",
      "defensive_extra_point_conv\n"
     ]
    }
   ],
   "source": [
    "#looking at all the data columns to find features\n",
    "for col in pbp_test.columns: \n",
    "    print(col) "
   ]
  },
  {
   "cell_type": "code",
   "execution_count": 9,
   "metadata": {},
   "outputs": [],
   "source": [
    "#cleaning data \n",
    "df = pbp_test[['game_date', 'posteam','yardline_100','quarter_seconds_remaining','half_seconds_remaining','game_seconds_remaining','qtr','down','goal_to_go','ydstogo','play_type','score_differential','shotgun','no_huddle']]\n",
    "\n",
    "df = df.dropna()"
   ]
  },
  {
   "cell_type": "code",
   "execution_count": 10,
   "metadata": {},
   "outputs": [
    {
     "data": {
      "text/html": [
       "<div>\n",
       "<style scoped>\n",
       "    .dataframe tbody tr th:only-of-type {\n",
       "        vertical-align: middle;\n",
       "    }\n",
       "\n",
       "    .dataframe tbody tr th {\n",
       "        vertical-align: top;\n",
       "    }\n",
       "\n",
       "    .dataframe thead th {\n",
       "        text-align: right;\n",
       "    }\n",
       "</style>\n",
       "<table border=\"1\" class=\"dataframe\">\n",
       "  <thead>\n",
       "    <tr style=\"text-align: right;\">\n",
       "      <th></th>\n",
       "      <th>yardline_100</th>\n",
       "      <th>quarter_seconds_remaining</th>\n",
       "      <th>half_seconds_remaining</th>\n",
       "      <th>game_seconds_remaining</th>\n",
       "      <th>qtr</th>\n",
       "      <th>down</th>\n",
       "      <th>goal_to_go</th>\n",
       "      <th>ydstogo</th>\n",
       "      <th>score_differential</th>\n",
       "      <th>shotgun</th>\n",
       "      <th>no_huddle</th>\n",
       "    </tr>\n",
       "  </thead>\n",
       "  <tbody>\n",
       "    <tr>\n",
       "      <th>count</th>\n",
       "      <td>422062.000000</td>\n",
       "      <td>422062.000000</td>\n",
       "      <td>422062.000000</td>\n",
       "      <td>422062.000000</td>\n",
       "      <td>422062.000000</td>\n",
       "      <td>422062.000000</td>\n",
       "      <td>422062.000000</td>\n",
       "      <td>422062.000000</td>\n",
       "      <td>422062.000000</td>\n",
       "      <td>422062.000000</td>\n",
       "      <td>422062.000000</td>\n",
       "    </tr>\n",
       "    <tr>\n",
       "      <th>mean</th>\n",
       "      <td>52.287451</td>\n",
       "      <td>429.633556</td>\n",
       "      <td>837.252342</td>\n",
       "      <td>1731.264596</td>\n",
       "      <td>2.560693</td>\n",
       "      <td>1.998142</td>\n",
       "      <td>0.057271</td>\n",
       "      <td>8.611486</td>\n",
       "      <td>-1.249864</td>\n",
       "      <td>0.484381</td>\n",
       "      <td>0.078408</td>\n",
       "    </tr>\n",
       "    <tr>\n",
       "      <th>std</th>\n",
       "      <td>24.600960</td>\n",
       "      <td>271.470752</td>\n",
       "      <td>542.835688</td>\n",
       "      <td>1047.231087</td>\n",
       "      <td>1.129888</td>\n",
       "      <td>1.004951</td>\n",
       "      <td>0.232360</td>\n",
       "      <td>4.109082</td>\n",
       "      <td>10.803787</td>\n",
       "      <td>0.499757</td>\n",
       "      <td>0.268813</td>\n",
       "    </tr>\n",
       "    <tr>\n",
       "      <th>min</th>\n",
       "      <td>1.000000</td>\n",
       "      <td>0.000000</td>\n",
       "      <td>0.000000</td>\n",
       "      <td>0.000000</td>\n",
       "      <td>1.000000</td>\n",
       "      <td>1.000000</td>\n",
       "      <td>0.000000</td>\n",
       "      <td>1.000000</td>\n",
       "      <td>-59.000000</td>\n",
       "      <td>0.000000</td>\n",
       "      <td>0.000000</td>\n",
       "    </tr>\n",
       "    <tr>\n",
       "      <th>25%</th>\n",
       "      <td>33.000000</td>\n",
       "      <td>182.000000</td>\n",
       "      <td>341.000000</td>\n",
       "      <td>820.000000</td>\n",
       "      <td>2.000000</td>\n",
       "      <td>1.000000</td>\n",
       "      <td>0.000000</td>\n",
       "      <td>6.000000</td>\n",
       "      <td>-7.000000</td>\n",
       "      <td>0.000000</td>\n",
       "      <td>0.000000</td>\n",
       "    </tr>\n",
       "    <tr>\n",
       "      <th>50%</th>\n",
       "      <td>56.000000</td>\n",
       "      <td>420.000000</td>\n",
       "      <td>825.500000</td>\n",
       "      <td>1798.000000</td>\n",
       "      <td>3.000000</td>\n",
       "      <td>2.000000</td>\n",
       "      <td>0.000000</td>\n",
       "      <td>10.000000</td>\n",
       "      <td>0.000000</td>\n",
       "      <td>0.000000</td>\n",
       "      <td>0.000000</td>\n",
       "    </tr>\n",
       "    <tr>\n",
       "      <th>75%</th>\n",
       "      <td>73.000000</td>\n",
       "      <td>666.000000</td>\n",
       "      <td>1307.000000</td>\n",
       "      <td>2620.000000</td>\n",
       "      <td>4.000000</td>\n",
       "      <td>3.000000</td>\n",
       "      <td>0.000000</td>\n",
       "      <td>10.000000</td>\n",
       "      <td>4.000000</td>\n",
       "      <td>1.000000</td>\n",
       "      <td>0.000000</td>\n",
       "    </tr>\n",
       "    <tr>\n",
       "      <th>max</th>\n",
       "      <td>99.000000</td>\n",
       "      <td>900.000000</td>\n",
       "      <td>1800.000000</td>\n",
       "      <td>3600.000000</td>\n",
       "      <td>5.000000</td>\n",
       "      <td>4.000000</td>\n",
       "      <td>1.000000</td>\n",
       "      <td>50.000000</td>\n",
       "      <td>59.000000</td>\n",
       "      <td>1.000000</td>\n",
       "      <td>1.000000</td>\n",
       "    </tr>\n",
       "  </tbody>\n",
       "</table>\n",
       "</div>"
      ],
      "text/plain": [
       "        yardline_100  quarter_seconds_remaining  half_seconds_remaining  \\\n",
       "count  422062.000000              422062.000000           422062.000000   \n",
       "mean       52.287451                 429.633556              837.252342   \n",
       "std        24.600960                 271.470752              542.835688   \n",
       "min         1.000000                   0.000000                0.000000   \n",
       "25%        33.000000                 182.000000              341.000000   \n",
       "50%        56.000000                 420.000000              825.500000   \n",
       "75%        73.000000                 666.000000             1307.000000   \n",
       "max        99.000000                 900.000000             1800.000000   \n",
       "\n",
       "       game_seconds_remaining            qtr           down     goal_to_go  \\\n",
       "count           422062.000000  422062.000000  422062.000000  422062.000000   \n",
       "mean              1731.264596       2.560693       1.998142       0.057271   \n",
       "std               1047.231087       1.129888       1.004951       0.232360   \n",
       "min                  0.000000       1.000000       1.000000       0.000000   \n",
       "25%                820.000000       2.000000       1.000000       0.000000   \n",
       "50%               1798.000000       3.000000       2.000000       0.000000   \n",
       "75%               2620.000000       4.000000       3.000000       0.000000   \n",
       "max               3600.000000       5.000000       4.000000       1.000000   \n",
       "\n",
       "             ydstogo  score_differential        shotgun      no_huddle  \n",
       "count  422062.000000       422062.000000  422062.000000  422062.000000  \n",
       "mean        8.611486           -1.249864       0.484381       0.078408  \n",
       "std         4.109082           10.803787       0.499757       0.268813  \n",
       "min         1.000000          -59.000000       0.000000       0.000000  \n",
       "25%         6.000000           -7.000000       0.000000       0.000000  \n",
       "50%        10.000000            0.000000       0.000000       0.000000  \n",
       "75%        10.000000            4.000000       1.000000       0.000000  \n",
       "max        50.000000           59.000000       1.000000       1.000000  "
      ]
     },
     "execution_count": 10,
     "metadata": {},
     "output_type": "execute_result"
    }
   ],
   "source": [
    "df.describe()"
   ]
  },
  {
   "cell_type": "code",
   "execution_count": 11,
   "metadata": {},
   "outputs": [
    {
     "name": "stdout",
     "output_type": "stream",
     "text": [
      "<class 'pandas.core.frame.DataFrame'>\n",
      "Int64Index: 422062 entries, 1 to 498391\n",
      "Data columns (total 14 columns):\n",
      "game_date                    422062 non-null object\n",
      "posteam                      422062 non-null object\n",
      "yardline_100                 422062 non-null float64\n",
      "quarter_seconds_remaining    422062 non-null float64\n",
      "half_seconds_remaining       422062 non-null float64\n",
      "game_seconds_remaining       422062 non-null float64\n",
      "qtr                          422062 non-null int64\n",
      "down                         422062 non-null float64\n",
      "goal_to_go                   422062 non-null float64\n",
      "ydstogo                      422062 non-null int64\n",
      "play_type                    422062 non-null object\n",
      "score_differential           422062 non-null float64\n",
      "shotgun                      422062 non-null int64\n",
      "no_huddle                    422062 non-null int64\n",
      "dtypes: float64(7), int64(4), object(3)\n",
      "memory usage: 48.3+ MB\n"
     ]
    }
   ],
   "source": [
    "df.info()"
   ]
  },
  {
   "cell_type": "code",
   "execution_count": 12,
   "metadata": {
    "scrolled": true
   },
   "outputs": [
    {
     "data": {
      "image/png": "[encoded data removed]",
      "text/plain": [
       "<Figure size 360x360 with 1 Axes>"
      ]
     },
     "metadata": {
      "needs_background": "light"
     },
     "output_type": "display_data"
    }
   ],
   "source": [
    "sns.catplot(x='play_type', kind='count', data=df, orient='h')\n",
    "plt.title('NFL play type vs Count')\n",
    "plt.show()"
   ]
  },
  {
   "cell_type": "code",
   "execution_count": 13,
   "metadata": {
    "scrolled": false
   },
   "outputs": [
    {
     "data": {
      "image/png": "[encoded data removed]",
      "text/plain": [
       "<Figure size 444.25x360 with 1 Axes>"
      ]
     },
     "metadata": {
      "needs_background": "light"
     },
     "output_type": "display_data"
    }
   ],
   "source": [
    "sns.catplot(x=\"down\", kind=\"count\", hue='play_type', data=df);\n",
    "plt.title('NFL play type per Down')\n",
    "plt.show()"
   ]
  },
  {
   "cell_type": "markdown",
   "metadata": {},
   "source": [
    "# remove special teams and kneels/spikes"
   ]
  },
  {
   "cell_type": "code",
   "execution_count": 14,
   "metadata": {},
   "outputs": [],
   "source": [
    "df = df[~df['play_type'].str.contains(\"qb_kneel\")]\n",
    "df = df[~df['play_type'].str.contains(\"qb_spike\")]\n",
    "df = df[~df['play_type'].str.contains(\"no_play\")]\n",
    "df = df[~df['play_type'].str.contains(\"punt\")]\n",
    "df = df[~df['play_type'].str.contains(\"field_goal\")]"
   ]
  },
  {
   "cell_type": "code",
   "execution_count": 16,
   "metadata": {},
   "outputs": [
    {
     "name": "stdout",
     "output_type": "stream",
     "text": [
      "<class 'pandas.core.frame.DataFrame'>\n",
      "Int64Index: 353095 entries, 1 to 498391\n",
      "Data columns (total 14 columns):\n",
      "game_date                    353095 non-null object\n",
      "posteam                      353095 non-null object\n",
      "yardline_100                 353095 non-null float64\n",
      "quarter_seconds_remaining    353095 non-null float64\n",
      "half_seconds_remaining       353095 non-null float64\n",
      "game_seconds_remaining       353095 non-null float64\n",
      "qtr                          353095 non-null int64\n",
      "down                         353095 non-null float64\n",
      "goal_to_go                   353095 non-null float64\n",
      "ydstogo                      353095 non-null int64\n",
      "play_type                    353095 non-null object\n",
      "score_differential           353095 non-null float64\n",
      "shotgun                      353095 non-null int64\n",
      "no_huddle                    353095 non-null int64\n",
      "dtypes: float64(7), int64(4), object(3)\n",
      "memory usage: 40.4+ MB\n"
     ]
    }
   ],
   "source": [
    "df.info()"
   ]
  },
  {
   "cell_type": "code",
   "execution_count": 17,
   "metadata": {},
   "outputs": [
    {
     "data": {
      "image/png": "[encoded data removed]",
      "text/plain": [
       "<Figure size 418.875x360 with 1 Axes>"
      ]
     },
     "metadata": {
      "needs_background": "light"
     },
     "output_type": "display_data"
    }
   ],
   "source": [
    "sns.catplot(x=\"down\", kind=\"count\", hue='play_type', data=df)\n",
    "plt.title('Count of Pass vs Run on each Down')\n",
    "plt.show()"
   ]
  },
  {
   "cell_type": "code",
   "execution_count": 18,
   "metadata": {},
   "outputs": [],
   "source": [
    "df['BinaryPlayType'] = df['play_type'].map(lambda p: 1 if p == 'pass' else 0)"
   ]
  },
  {
   "cell_type": "code",
   "execution_count": 19,
   "metadata": {},
   "outputs": [
    {
     "data": {
      "text/plain": [
       "353095"
      ]
     },
     "execution_count": 19,
     "metadata": {},
     "output_type": "execute_result"
    }
   ],
   "source": [
    "len(df['BinaryPlayType'])"
   ]
  },
  {
   "cell_type": "code",
   "execution_count": 20,
   "metadata": {
    "scrolled": true
   },
   "outputs": [
    {
     "name": "stdout",
     "output_type": "stream",
     "text": [
      "1    1\n",
      "2    0\n",
      "3    1\n",
      "5    0\n",
      "6    1\n",
      "Name: BinaryPlayType, dtype: int64\n"
     ]
    }
   ],
   "source": [
    "print(df['BinaryPlayType'].head())"
   ]
  },
  {
   "cell_type": "code",
   "execution_count": 21,
   "metadata": {},
   "outputs": [
    {
     "data": {
      "text/plain": [
       "1    206594\n",
       "0    146501\n",
       "Name: BinaryPlayType, dtype: int64"
      ]
     },
     "execution_count": 21,
     "metadata": {},
     "output_type": "execute_result"
    }
   ],
   "source": [
    "df['BinaryPlayType'].value_counts()"
   ]
  },
  {
   "cell_type": "code",
   "execution_count": 22,
   "metadata": {},
   "outputs": [
    {
     "data": {
      "text/plain": [
       "0.5108288639687957"
      ]
     },
     "execution_count": 22,
     "metadata": {},
     "output_type": "execute_result"
    }
   ],
   "source": [
    "209542/(209542+200658)\n",
    "\n",
    "# this means a base model has close to a 50% accuracy. "
   ]
  },
  {
   "cell_type": "code",
   "execution_count": 23,
   "metadata": {},
   "outputs": [
    {
     "data": {
      "image/png": "[encoded data removed]",
      "text/plain": [
       "<Figure size 720x360 with 1 Axes>"
      ]
     },
     "metadata": {
      "needs_background": "light"
     },
     "output_type": "display_data"
    }
   ],
   "source": [
    "sns.lmplot(x=\"ydstogo\", y=\"BinaryPlayType\", data=df, y_jitter=.03, logistic=True, aspect=2);\n",
    "\n",
    "plt.show()\n",
    "\n",
    "#plot data and regriossion model fits across facetgrid \n",
    "\n"
   ]
  },
  {
   "cell_type": "markdown",
   "metadata": {},
   "source": [
    "### Plot above shows that as the yards to go increases the more teams heavily rely on passing plays. This makes sense as run plays are used for short yardage situations. Even though there are run plays in high yardage situations these could be done for lows risk play to eventually punt the ball without throwing a high risk passing play that could result in a turnover"
   ]
  },
  {
   "cell_type": "code",
   "execution_count": 24,
   "metadata": {},
   "outputs": [],
   "source": [
    "training_df = df[(~df.game_date.str.contains('2019')) & (df.posteam == 'NE') & (df.down.isin(range(1,5))) & ((df.play_type == 'run') | (df.play_type == 'pass'))]\n",
    "\n",
    "testing_df = df[(df.game_date.str.contains('2019')) & (df.posteam == 'NE') & (df.down.isin(range(1,5))) & ((df.play_type == 'run') | (df.play_type == 'pass'))]"
   ]
  },
  {
   "cell_type": "code",
   "execution_count": 25,
   "metadata": {
    "scrolled": true
   },
   "outputs": [
    {
     "data": {
      "text/html": [
       "<div>\n",
       "<style scoped>\n",
       "    .dataframe tbody tr th:only-of-type {\n",
       "        vertical-align: middle;\n",
       "    }\n",
       "\n",
       "    .dataframe tbody tr th {\n",
       "        vertical-align: top;\n",
       "    }\n",
       "\n",
       "    .dataframe thead th {\n",
       "        text-align: right;\n",
       "    }\n",
       "</style>\n",
       "<table border=\"1\" class=\"dataframe\">\n",
       "  <thead>\n",
       "    <tr style=\"text-align: right;\">\n",
       "      <th></th>\n",
       "      <th>game_date</th>\n",
       "      <th>posteam</th>\n",
       "      <th>yardline_100</th>\n",
       "      <th>quarter_seconds_remaining</th>\n",
       "      <th>half_seconds_remaining</th>\n",
       "      <th>game_seconds_remaining</th>\n",
       "      <th>qtr</th>\n",
       "      <th>down</th>\n",
       "      <th>goal_to_go</th>\n",
       "      <th>ydstogo</th>\n",
       "      <th>play_type</th>\n",
       "      <th>score_differential</th>\n",
       "      <th>shotgun</th>\n",
       "      <th>no_huddle</th>\n",
       "      <th>BinaryPlayType</th>\n",
       "    </tr>\n",
       "  </thead>\n",
       "  <tbody>\n",
       "    <tr>\n",
       "      <th>450985</th>\n",
       "      <td>2018-12-30</td>\n",
       "      <td>NE</td>\n",
       "      <td>27.0</td>\n",
       "      <td>263.0</td>\n",
       "      <td>263.0</td>\n",
       "      <td>263.0</td>\n",
       "      <td>4</td>\n",
       "      <td>1.0</td>\n",
       "      <td>0.0</td>\n",
       "      <td>10</td>\n",
       "      <td>run</td>\n",
       "      <td>27.0</td>\n",
       "      <td>0</td>\n",
       "      <td>0</td>\n",
       "      <td>0</td>\n",
       "    </tr>\n",
       "    <tr>\n",
       "      <th>450986</th>\n",
       "      <td>2018-12-30</td>\n",
       "      <td>NE</td>\n",
       "      <td>19.0</td>\n",
       "      <td>227.0</td>\n",
       "      <td>227.0</td>\n",
       "      <td>227.0</td>\n",
       "      <td>4</td>\n",
       "      <td>2.0</td>\n",
       "      <td>0.0</td>\n",
       "      <td>2</td>\n",
       "      <td>pass</td>\n",
       "      <td>27.0</td>\n",
       "      <td>0</td>\n",
       "      <td>0</td>\n",
       "      <td>1</td>\n",
       "    </tr>\n",
       "    <tr>\n",
       "      <th>450988</th>\n",
       "      <td>2018-12-30</td>\n",
       "      <td>NE</td>\n",
       "      <td>17.0</td>\n",
       "      <td>216.0</td>\n",
       "      <td>216.0</td>\n",
       "      <td>216.0</td>\n",
       "      <td>4</td>\n",
       "      <td>1.0</td>\n",
       "      <td>0.0</td>\n",
       "      <td>15</td>\n",
       "      <td>pass</td>\n",
       "      <td>27.0</td>\n",
       "      <td>1</td>\n",
       "      <td>0</td>\n",
       "      <td>1</td>\n",
       "    </tr>\n",
       "    <tr>\n",
       "      <th>450989</th>\n",
       "      <td>2018-12-30</td>\n",
       "      <td>NE</td>\n",
       "      <td>5.0</td>\n",
       "      <td>210.0</td>\n",
       "      <td>210.0</td>\n",
       "      <td>210.0</td>\n",
       "      <td>4</td>\n",
       "      <td>2.0</td>\n",
       "      <td>0.0</td>\n",
       "      <td>3</td>\n",
       "      <td>pass</td>\n",
       "      <td>27.0</td>\n",
       "      <td>0</td>\n",
       "      <td>0</td>\n",
       "      <td>1</td>\n",
       "    </tr>\n",
       "    <tr>\n",
       "      <th>450997</th>\n",
       "      <td>2018-12-30</td>\n",
       "      <td>NE</td>\n",
       "      <td>90.0</td>\n",
       "      <td>135.0</td>\n",
       "      <td>135.0</td>\n",
       "      <td>135.0</td>\n",
       "      <td>4</td>\n",
       "      <td>1.0</td>\n",
       "      <td>0.0</td>\n",
       "      <td>10</td>\n",
       "      <td>run</td>\n",
       "      <td>34.0</td>\n",
       "      <td>0</td>\n",
       "      <td>0</td>\n",
       "      <td>0</td>\n",
       "    </tr>\n",
       "  </tbody>\n",
       "</table>\n",
       "</div>"
      ],
      "text/plain": [
       "         game_date posteam  yardline_100  quarter_seconds_remaining  \\\n",
       "450985  2018-12-30      NE          27.0                      263.0   \n",
       "450986  2018-12-30      NE          19.0                      227.0   \n",
       "450988  2018-12-30      NE          17.0                      216.0   \n",
       "450989  2018-12-30      NE           5.0                      210.0   \n",
       "450997  2018-12-30      NE          90.0                      135.0   \n",
       "\n",
       "        half_seconds_remaining  game_seconds_remaining  qtr  down  goal_to_go  \\\n",
       "450985                   263.0                   263.0    4   1.0         0.0   \n",
       "450986                   227.0                   227.0    4   2.0         0.0   \n",
       "450988                   216.0                   216.0    4   1.0         0.0   \n",
       "450989                   210.0                   210.0    4   2.0         0.0   \n",
       "450997                   135.0                   135.0    4   1.0         0.0   \n",
       "\n",
       "        ydstogo play_type  score_differential  shotgun  no_huddle  \\\n",
       "450985       10       run                27.0        0          0   \n",
       "450986        2      pass                27.0        0          0   \n",
       "450988       15      pass                27.0        1          0   \n",
       "450989        3      pass                27.0        0          0   \n",
       "450997       10       run                34.0        0          0   \n",
       "\n",
       "        BinaryPlayType  \n",
       "450985               0  \n",
       "450986               1  \n",
       "450988               1  \n",
       "450989               1  \n",
       "450997               0  "
      ]
     },
     "execution_count": 25,
     "metadata": {},
     "output_type": "execute_result"
    }
   ],
   "source": [
    "training_df.tail()"
   ]
  },
  {
   "cell_type": "code",
   "execution_count": 27,
   "metadata": {},
   "outputs": [
    {
     "name": "stdout",
     "output_type": "stream",
     "text": [
      "<class 'pandas.core.frame.DataFrame'>\n",
      "Int64Index: 10583 entries, 2390 to 450997\n",
      "Data columns (total 15 columns):\n",
      "game_date                    10583 non-null object\n",
      "posteam                      10583 non-null object\n",
      "yardline_100                 10583 non-null float64\n",
      "quarter_seconds_remaining    10583 non-null float64\n",
      "half_seconds_remaining       10583 non-null float64\n",
      "game_seconds_remaining       10583 non-null float64\n",
      "qtr                          10583 non-null int64\n",
      "down                         10583 non-null float64\n",
      "goal_to_go                   10583 non-null float64\n",
      "ydstogo                      10583 non-null int64\n",
      "play_type                    10583 non-null object\n",
      "score_differential           10583 non-null float64\n",
      "shotgun                      10583 non-null int64\n",
      "no_huddle                    10583 non-null int64\n",
      "BinaryPlayType               10583 non-null int64\n",
      "dtypes: float64(7), int64(5), object(3)\n",
      "memory usage: 1.3+ MB\n"
     ]
    }
   ],
   "source": [
    "training_df.info()"
   ]
  },
  {
   "cell_type": "code",
   "execution_count": 28,
   "metadata": {
    "scrolled": false
   },
   "outputs": [
    {
     "data": {
      "text/html": [
       "<div>\n",
       "<style scoped>\n",
       "    .dataframe tbody tr th:only-of-type {\n",
       "        vertical-align: middle;\n",
       "    }\n",
       "\n",
       "    .dataframe tbody tr th {\n",
       "        vertical-align: top;\n",
       "    }\n",
       "\n",
       "    .dataframe thead th {\n",
       "        text-align: right;\n",
       "    }\n",
       "</style>\n",
       "<table border=\"1\" class=\"dataframe\">\n",
       "  <thead>\n",
       "    <tr style=\"text-align: right;\">\n",
       "      <th></th>\n",
       "      <th>game_date</th>\n",
       "      <th>posteam</th>\n",
       "      <th>yardline_100</th>\n",
       "      <th>quarter_seconds_remaining</th>\n",
       "      <th>half_seconds_remaining</th>\n",
       "      <th>game_seconds_remaining</th>\n",
       "      <th>qtr</th>\n",
       "      <th>down</th>\n",
       "      <th>goal_to_go</th>\n",
       "      <th>ydstogo</th>\n",
       "      <th>play_type</th>\n",
       "      <th>score_differential</th>\n",
       "      <th>shotgun</th>\n",
       "      <th>no_huddle</th>\n",
       "      <th>BinaryPlayType</th>\n",
       "    </tr>\n",
       "  </thead>\n",
       "  <tbody>\n",
       "    <tr>\n",
       "      <th>455194</th>\n",
       "      <td>2019-09-08</td>\n",
       "      <td>NE</td>\n",
       "      <td>80.0</td>\n",
       "      <td>896.0</td>\n",
       "      <td>1796.0</td>\n",
       "      <td>3596.0</td>\n",
       "      <td>1</td>\n",
       "      <td>1.0</td>\n",
       "      <td>0.0</td>\n",
       "      <td>10</td>\n",
       "      <td>run</td>\n",
       "      <td>0.0</td>\n",
       "      <td>0</td>\n",
       "      <td>0</td>\n",
       "      <td>0</td>\n",
       "    </tr>\n",
       "    <tr>\n",
       "      <th>455195</th>\n",
       "      <td>2019-09-08</td>\n",
       "      <td>NE</td>\n",
       "      <td>81.0</td>\n",
       "      <td>857.0</td>\n",
       "      <td>1757.0</td>\n",
       "      <td>3557.0</td>\n",
       "      <td>1</td>\n",
       "      <td>2.0</td>\n",
       "      <td>0.0</td>\n",
       "      <td>11</td>\n",
       "      <td>run</td>\n",
       "      <td>0.0</td>\n",
       "      <td>0</td>\n",
       "      <td>0</td>\n",
       "      <td>0</td>\n",
       "    </tr>\n",
       "    <tr>\n",
       "      <th>455196</th>\n",
       "      <td>2019-09-08</td>\n",
       "      <td>NE</td>\n",
       "      <td>74.0</td>\n",
       "      <td>823.0</td>\n",
       "      <td>1723.0</td>\n",
       "      <td>3523.0</td>\n",
       "      <td>1</td>\n",
       "      <td>3.0</td>\n",
       "      <td>0.0</td>\n",
       "      <td>4</td>\n",
       "      <td>run</td>\n",
       "      <td>0.0</td>\n",
       "      <td>1</td>\n",
       "      <td>0</td>\n",
       "      <td>0</td>\n",
       "    </tr>\n",
       "    <tr>\n",
       "      <th>455197</th>\n",
       "      <td>2019-09-08</td>\n",
       "      <td>NE</td>\n",
       "      <td>65.0</td>\n",
       "      <td>794.0</td>\n",
       "      <td>1694.0</td>\n",
       "      <td>3494.0</td>\n",
       "      <td>1</td>\n",
       "      <td>1.0</td>\n",
       "      <td>0.0</td>\n",
       "      <td>10</td>\n",
       "      <td>run</td>\n",
       "      <td>0.0</td>\n",
       "      <td>0</td>\n",
       "      <td>0</td>\n",
       "      <td>0</td>\n",
       "    </tr>\n",
       "    <tr>\n",
       "      <th>455198</th>\n",
       "      <td>2019-09-08</td>\n",
       "      <td>NE</td>\n",
       "      <td>62.0</td>\n",
       "      <td>763.0</td>\n",
       "      <td>1663.0</td>\n",
       "      <td>3463.0</td>\n",
       "      <td>1</td>\n",
       "      <td>2.0</td>\n",
       "      <td>0.0</td>\n",
       "      <td>7</td>\n",
       "      <td>run</td>\n",
       "      <td>0.0</td>\n",
       "      <td>0</td>\n",
       "      <td>0</td>\n",
       "      <td>0</td>\n",
       "    </tr>\n",
       "  </tbody>\n",
       "</table>\n",
       "</div>"
      ],
      "text/plain": [
       "         game_date posteam  yardline_100  quarter_seconds_remaining  \\\n",
       "455194  2019-09-08      NE          80.0                      896.0   \n",
       "455195  2019-09-08      NE          81.0                      857.0   \n",
       "455196  2019-09-08      NE          74.0                      823.0   \n",
       "455197  2019-09-08      NE          65.0                      794.0   \n",
       "455198  2019-09-08      NE          62.0                      763.0   \n",
       "\n",
       "        half_seconds_remaining  game_seconds_remaining  qtr  down  goal_to_go  \\\n",
       "455194                  1796.0                  3596.0    1   1.0         0.0   \n",
       "455195                  1757.0                  3557.0    1   2.0         0.0   \n",
       "455196                  1723.0                  3523.0    1   3.0         0.0   \n",
       "455197                  1694.0                  3494.0    1   1.0         0.0   \n",
       "455198                  1663.0                  3463.0    1   2.0         0.0   \n",
       "\n",
       "        ydstogo play_type  score_differential  shotgun  no_huddle  \\\n",
       "455194       10       run                 0.0        0          0   \n",
       "455195       11       run                 0.0        0          0   \n",
       "455196        4       run                 0.0        1          0   \n",
       "455197       10       run                 0.0        0          0   \n",
       "455198        7       run                 0.0        0          0   \n",
       "\n",
       "        BinaryPlayType  \n",
       "455194               0  \n",
       "455195               0  \n",
       "455196               0  \n",
       "455197               0  \n",
       "455198               0  "
      ]
     },
     "execution_count": 28,
     "metadata": {},
     "output_type": "execute_result"
    }
   ],
   "source": [
    "testing_df.head()"
   ]
  },
  {
   "cell_type": "code",
   "execution_count": 29,
   "metadata": {},
   "outputs": [
    {
     "name": "stdout",
     "output_type": "stream",
     "text": [
      "<class 'pandas.core.frame.DataFrame'>\n",
      "Int64Index: 1072 entries, 455194 to 495902\n",
      "Data columns (total 15 columns):\n",
      "game_date                    1072 non-null object\n",
      "posteam                      1072 non-null object\n",
      "yardline_100                 1072 non-null float64\n",
      "quarter_seconds_remaining    1072 non-null float64\n",
      "half_seconds_remaining       1072 non-null float64\n",
      "game_seconds_remaining       1072 non-null float64\n",
      "qtr                          1072 non-null int64\n",
      "down                         1072 non-null float64\n",
      "goal_to_go                   1072 non-null float64\n",
      "ydstogo                      1072 non-null int64\n",
      "play_type                    1072 non-null object\n",
      "score_differential           1072 non-null float64\n",
      "shotgun                      1072 non-null int64\n",
      "no_huddle                    1072 non-null int64\n",
      "BinaryPlayType               1072 non-null int64\n",
      "dtypes: float64(7), int64(5), object(3)\n",
      "memory usage: 134.0+ KB\n"
     ]
    }
   ],
   "source": [
    "testing_df.info()"
   ]
  },
  {
   "cell_type": "code",
   "execution_count": 30,
   "metadata": {},
   "outputs": [
    {
     "data": {
      "image/png": "[encoded data removed]",
      "text/plain": [
       "<Figure size 418.875x360 with 1 Axes>"
      ]
     },
     "metadata": {
      "needs_background": "light"
     },
     "output_type": "display_data"
    }
   ],
   "source": [
    "sns.catplot(x=\"down\", kind=\"count\", hue='play_type', data=training_df);\n",
    "plt.title(\"New England Patriots Play type on downs Training Data Set\")\n",
    "plt.show()"
   ]
  },
  {
   "cell_type": "code",
   "execution_count": 31,
   "metadata": {
    "scrolled": false
   },
   "outputs": [
    {
     "data": {
      "image/png": "[encoded data removed]",
      "text/plain": [
       "<Figure size 418.875x360 with 1 Axes>"
      ]
     },
     "metadata": {
      "needs_background": "light"
     },
     "output_type": "display_data"
    }
   ],
   "source": [
    "sns.catplot(x=\"down\", kind=\"count\", hue='play_type', data=testing_df);\n",
    "plt.title(\"New England Patriots Play type on downs 2019 Testing Data Set\")\n",
    "\n",
    "plt.show()"
   ]
  },
  {
   "cell_type": "code",
   "execution_count": 32,
   "metadata": {
    "scrolled": false
   },
   "outputs": [
    {
     "data": {
      "image/png": "[encoded data removed]",
      "text/plain": [
       "<Figure size 720x360 with 1 Axes>"
      ]
     },
     "metadata": {
      "needs_background": "light"
     },
     "output_type": "display_data"
    }
   ],
   "source": [
    "sns.lmplot(x=\"ydstogo\", y=\"BinaryPlayType\", data=testing_df, y_jitter=.03, logistic=True, aspect=2);\n",
    "plt.show()"
   ]
  },
  {
   "cell_type": "markdown",
   "metadata": {},
   "source": [
    "# Using Gradient Boosting to Predict plays for New England Patriots"
   ]
  },
  {
   "cell_type": "code",
   "execution_count": 33,
   "metadata": {},
   "outputs": [],
   "source": [
    "training_features = training_df[['yardline_100','quarter_seconds_remaining','half_seconds_remaining','game_seconds_remaining','qtr','down','goal_to_go','ydstogo','score_differential','shotgun','no_huddle']]\n",
    "\n",
    "training_label = training_df['play_type']\n",
    "\n",
    "testing_features = testing_df[['yardline_100','quarter_seconds_remaining','half_seconds_remaining','game_seconds_remaining','qtr','down','goal_to_go','ydstogo','score_differential','shotgun','no_huddle']]\n",
    "\n",
    "testing_label = testing_df['play_type']"
   ]
  },
  {
   "cell_type": "code",
   "execution_count": 37,
   "metadata": {},
   "outputs": [
    {
     "data": {
      "text/plain": [
       "GradientBoostingClassifier(criterion='friedman_mse', init=None,\n",
       "                           learning_rate=0.02, loss='deviance', max_depth=3,\n",
       "                           max_features=None, max_leaf_nodes=None,\n",
       "                           min_impurity_decrease=0.0, min_impurity_split=None,\n",
       "                           min_samples_leaf=1, min_samples_split=2,\n",
       "                           min_weight_fraction_leaf=0.0, n_estimators=100,\n",
       "                           n_iter_no_change=None, presort='auto',\n",
       "                           random_state=None, subsample=1.0, tol=0.0001,\n",
       "                           validation_fraction=0.1, verbose=0,\n",
       "                           warm_start=False)"
      ]
     },
     "execution_count": 37,
     "metadata": {},
     "output_type": "execute_result"
    }
   ],
   "source": [
    "gbr = ensemble.GradientBoostingClassifier(n_estimators = 100, learning_rate = 0.02)\n",
    "\n",
    "gbr.fit(training_features, training_label)"
   ]
  },
  {
   "cell_type": "code",
   "execution_count": 38,
   "metadata": {},
   "outputs": [
    {
     "name": "stdout",
     "output_type": "stream",
     "text": [
      "Accuracy: 76.12%\n"
     ]
    }
   ],
   "source": [
    "prediction = gbr.predict(testing_features)\n",
    "\n",
    "accuracy = accuracy_score(testing_label, prediction)\n",
    "\n",
    "print(\"Accuracy: \"+\"{:.2%}\".format(accuracy))"
   ]
  },
  {
   "cell_type": "code",
   "execution_count": 39,
   "metadata": {},
   "outputs": [
    {
     "name": "stdout",
     "output_type": "stream",
     "text": [
      "              precision    recall  f1-score   support\n",
      "\n",
      "        pass       0.84      0.74      0.79       642\n",
      "         run       0.67      0.79      0.73       430\n",
      "\n",
      "    accuracy                           0.76      1072\n",
      "   macro avg       0.76      0.77      0.76      1072\n",
      "weighted avg       0.77      0.76      0.76      1072\n",
      "\n"
     ]
    }
   ],
   "source": [
    "print(classification_report(testing_label, prediction))"
   ]
  },
  {
   "cell_type": "code",
   "execution_count": 102,
   "metadata": {},
   "outputs": [
    {
     "name": "stdout",
     "output_type": "stream",
     "text": [
      "[[476 166]\n",
      " [ 90 340]]\n"
     ]
    }
   ],
   "source": [
    "cm_NE = metrics.confusion_matrix(testing_label, prediction) #quick confusion matrix \n",
    "print(cm_NE)"
   ]
  },
  {
   "cell_type": "code",
   "execution_count": 128,
   "metadata": {},
   "outputs": [
    {
     "data": {
      "image/png": "[encoded data removed]",
      "text/plain": [
       "<Figure size 432x432 with 2 Axes>"
      ]
     },
     "metadata": {
      "needs_background": "light"
     },
     "output_type": "display_data"
    }
   ],
   "source": [
    "from itertools import *\n",
    "#confusion matrix plot\n",
    "def plot_confusion_matrix(testing_label,prediction, classes,\n",
    "                          normalize=False,\n",
    "                          title='Confusion Matrix for New England Patriots',\n",
    "                          cmap=plt.cm.Blues):\n",
    "   \n",
    "    plt.figure(figsize = (6,6))\n",
    "    plt.imshow(cm_NE, interpolation='nearest', cmap=cmap)\n",
    "    plt.title(title)\n",
    "    plt.colorbar()\n",
    "    tick_marks = np.arange(len(classes))\n",
    "    plt.xticks(tick_marks, classes, rotation=90,size = 12)\n",
    "    plt.yticks(tick_marks, classes,size = 12)\n",
    "    plt.ylim([1.5, -.5])\n",
    "    \n",
    "    thresh = cm_NE.max() / 2.\n",
    "    \n",
    "    \n",
    "    for i in range (cm_NE.shape[0]):\n",
    "        for j in range (cm_NE.shape[1]):\n",
    "            \n",
    "            plt.text(j, i, cm_NE[i, j],fontsize=45,\n",
    "                 horizontalalignment=\"center\",\n",
    "                 color=\"white\" if cm_NE[i, j] > thresh else \"black\")\n",
    "    \n",
    "    plt.tight_layout()\n",
    "    plt.ylabel('True label')\n",
    "    plt.xlabel('Predicted label')\n",
    "dict_characters = {0: 'Run', 1: 'Pass'}    \n",
    "plot_confusion_matrix(testing_label,prediction, classes = list(dict_characters.values())) \n",
    "plt.show()"
   ]
  },
  {
   "cell_type": "code",
   "execution_count": 40,
   "metadata": {
    "scrolled": false
   },
   "outputs": [
    {
     "data": {
      "image/png": "[encoded data removed]",
      "text/plain": [
       "<Figure size 432x288 with 1 Axes>"
      ]
     },
     "metadata": {
      "needs_background": "light"
     },
     "output_type": "display_data"
    }
   ],
   "source": [
    "features = ['yl_100', 'q_sec', 'h_sec', 'g_sec', 'qtr', 'down' ,'g2g', 'yd2g', 'sd', 'shot', 'nh'] \n",
    "\n",
    "feature_importance = gbr.feature_importances_.tolist()\n",
    "\n",
    "plt.bar(features,feature_importance)\n",
    "plt.title(\"gradient boosting classifier: feature importance\")\n",
    "plt.show()"
   ]
  },
  {
   "cell_type": "code",
   "execution_count": 41,
   "metadata": {},
   "outputs": [],
   "source": [
    "\n",
    "shotgun_df = df[(df.game_date.str.contains('2019')) & (df.posteam == 'NE') & (df.down.isin(range(1,5))) & ((df.play_type == 'run') | (df.play_type == 'pass')) & (df.shotgun == 1)]\n"
   ]
  },
  {
   "cell_type": "code",
   "execution_count": 42,
   "metadata": {
    "scrolled": true
   },
   "outputs": [
    {
     "data": {
      "text/html": [
       "<div>\n",
       "<style scoped>\n",
       "    .dataframe tbody tr th:only-of-type {\n",
       "        vertical-align: middle;\n",
       "    }\n",
       "\n",
       "    .dataframe tbody tr th {\n",
       "        vertical-align: top;\n",
       "    }\n",
       "\n",
       "    .dataframe thead th {\n",
       "        text-align: right;\n",
       "    }\n",
       "</style>\n",
       "<table border=\"1\" class=\"dataframe\">\n",
       "  <thead>\n",
       "    <tr style=\"text-align: right;\">\n",
       "      <th></th>\n",
       "      <th>game_date</th>\n",
       "      <th>posteam</th>\n",
       "      <th>yardline_100</th>\n",
       "      <th>quarter_seconds_remaining</th>\n",
       "      <th>half_seconds_remaining</th>\n",
       "      <th>game_seconds_remaining</th>\n",
       "      <th>qtr</th>\n",
       "      <th>down</th>\n",
       "      <th>goal_to_go</th>\n",
       "      <th>ydstogo</th>\n",
       "      <th>play_type</th>\n",
       "      <th>score_differential</th>\n",
       "      <th>shotgun</th>\n",
       "      <th>no_huddle</th>\n",
       "      <th>BinaryPlayType</th>\n",
       "    </tr>\n",
       "  </thead>\n",
       "  <tbody>\n",
       "    <tr>\n",
       "      <th>455196</th>\n",
       "      <td>2019-09-08</td>\n",
       "      <td>NE</td>\n",
       "      <td>74.0</td>\n",
       "      <td>823.0</td>\n",
       "      <td>1723.0</td>\n",
       "      <td>3523.0</td>\n",
       "      <td>1</td>\n",
       "      <td>3.0</td>\n",
       "      <td>0.0</td>\n",
       "      <td>4</td>\n",
       "      <td>run</td>\n",
       "      <td>0.0</td>\n",
       "      <td>1</td>\n",
       "      <td>0</td>\n",
       "      <td>0</td>\n",
       "    </tr>\n",
       "    <tr>\n",
       "      <th>455199</th>\n",
       "      <td>2019-09-08</td>\n",
       "      <td>NE</td>\n",
       "      <td>65.0</td>\n",
       "      <td>726.0</td>\n",
       "      <td>1626.0</td>\n",
       "      <td>3426.0</td>\n",
       "      <td>1</td>\n",
       "      <td>3.0</td>\n",
       "      <td>0.0</td>\n",
       "      <td>10</td>\n",
       "      <td>pass</td>\n",
       "      <td>0.0</td>\n",
       "      <td>1</td>\n",
       "      <td>0</td>\n",
       "      <td>1</td>\n",
       "    </tr>\n",
       "    <tr>\n",
       "      <th>455209</th>\n",
       "      <td>2019-09-08</td>\n",
       "      <td>NE</td>\n",
       "      <td>82.0</td>\n",
       "      <td>474.0</td>\n",
       "      <td>1374.0</td>\n",
       "      <td>3174.0</td>\n",
       "      <td>1</td>\n",
       "      <td>1.0</td>\n",
       "      <td>0.0</td>\n",
       "      <td>10</td>\n",
       "      <td>pass</td>\n",
       "      <td>0.0</td>\n",
       "      <td>1</td>\n",
       "      <td>0</td>\n",
       "      <td>1</td>\n",
       "    </tr>\n",
       "    <tr>\n",
       "      <th>455210</th>\n",
       "      <td>2019-09-08</td>\n",
       "      <td>NE</td>\n",
       "      <td>82.0</td>\n",
       "      <td>470.0</td>\n",
       "      <td>1370.0</td>\n",
       "      <td>3170.0</td>\n",
       "      <td>1</td>\n",
       "      <td>2.0</td>\n",
       "      <td>0.0</td>\n",
       "      <td>10</td>\n",
       "      <td>pass</td>\n",
       "      <td>0.0</td>\n",
       "      <td>1</td>\n",
       "      <td>0</td>\n",
       "      <td>1</td>\n",
       "    </tr>\n",
       "    <tr>\n",
       "      <th>455212</th>\n",
       "      <td>2019-09-08</td>\n",
       "      <td>NE</td>\n",
       "      <td>75.0</td>\n",
       "      <td>434.0</td>\n",
       "      <td>1334.0</td>\n",
       "      <td>3134.0</td>\n",
       "      <td>1</td>\n",
       "      <td>1.0</td>\n",
       "      <td>0.0</td>\n",
       "      <td>20</td>\n",
       "      <td>run</td>\n",
       "      <td>0.0</td>\n",
       "      <td>1</td>\n",
       "      <td>0</td>\n",
       "      <td>0</td>\n",
       "    </tr>\n",
       "  </tbody>\n",
       "</table>\n",
       "</div>"
      ],
      "text/plain": [
       "         game_date posteam  yardline_100  quarter_seconds_remaining  \\\n",
       "455196  2019-09-08      NE          74.0                      823.0   \n",
       "455199  2019-09-08      NE          65.0                      726.0   \n",
       "455209  2019-09-08      NE          82.0                      474.0   \n",
       "455210  2019-09-08      NE          82.0                      470.0   \n",
       "455212  2019-09-08      NE          75.0                      434.0   \n",
       "\n",
       "        half_seconds_remaining  game_seconds_remaining  qtr  down  goal_to_go  \\\n",
       "455196                  1723.0                  3523.0    1   3.0         0.0   \n",
       "455199                  1626.0                  3426.0    1   3.0         0.0   \n",
       "455209                  1374.0                  3174.0    1   1.0         0.0   \n",
       "455210                  1370.0                  3170.0    1   2.0         0.0   \n",
       "455212                  1334.0                  3134.0    1   1.0         0.0   \n",
       "\n",
       "        ydstogo play_type  score_differential  shotgun  no_huddle  \\\n",
       "455196        4       run                 0.0        1          0   \n",
       "455199       10      pass                 0.0        1          0   \n",
       "455209       10      pass                 0.0        1          0   \n",
       "455210       10      pass                 0.0        1          0   \n",
       "455212       20       run                 0.0        1          0   \n",
       "\n",
       "        BinaryPlayType  \n",
       "455196               0  \n",
       "455199               1  \n",
       "455209               1  \n",
       "455210               1  \n",
       "455212               0  "
      ]
     },
     "execution_count": 42,
     "metadata": {},
     "output_type": "execute_result"
    }
   ],
   "source": [
    "shotgun_df.head()"
   ]
  },
  {
   "cell_type": "code",
   "execution_count": 43,
   "metadata": {},
   "outputs": [
    {
     "data": {
      "image/png": "[encoded data removed]",
      "text/plain": [
       "<Figure size 432x288 with 1 Axes>"
      ]
     },
     "metadata": {
      "needs_background": "light"
     },
     "output_type": "display_data"
    }
   ],
   "source": [
    "ax = sns.countplot(x=\"shotgun\",hue='play_type', data=shotgun_df)\n",
    "plt.title(\"New England's 2019 shotgun formation play-type distribution\")\n",
    "plt.xlabel('Shotgun Formation')\n",
    "\n",
    "total = len(shotgun_df)\n",
    "for p in ax.patches:\n",
    "    height = p.get_height()\n",
    "    percentage = '{:.1f}%'.format(100 * p.get_width()/total)\n",
    "    ax.text(p.get_x()+p.get_width()/2.,\n",
    "    height + 3,'{:1.2f}'.format(height/total),ha=\"center\") \n",
    "\n",
    "plt.show()"
   ]
  },
  {
   "cell_type": "markdown",
   "metadata": {},
   "source": [
    "# New England QB Target Distribution\n",
    "\n",
    "## New England's QB Tom Brady targets Julian Edelman and James White the most according to NFL.com. The goal is to find where and when they are targeted to get a better look into the Patriots offense"
   ]
  },
  {
   "cell_type": "code",
   "execution_count": 44,
   "metadata": {},
   "outputs": [],
   "source": [
    "target = pbp_test[['game_date','posteam','play_type','desc','down','ydstogo','score_differential','shotgun','no_huddle']]\n",
    "\n",
    "target = target.dropna()"
   ]
  },
  {
   "cell_type": "code",
   "execution_count": 45,
   "metadata": {
    "scrolled": true
   },
   "outputs": [
    {
     "data": {
      "text/html": [
       "<div>\n",
       "<style scoped>\n",
       "    .dataframe tbody tr th:only-of-type {\n",
       "        vertical-align: middle;\n",
       "    }\n",
       "\n",
       "    .dataframe tbody tr th {\n",
       "        vertical-align: top;\n",
       "    }\n",
       "\n",
       "    .dataframe thead th {\n",
       "        text-align: right;\n",
       "    }\n",
       "</style>\n",
       "<table border=\"1\" class=\"dataframe\">\n",
       "  <thead>\n",
       "    <tr style=\"text-align: right;\">\n",
       "      <th></th>\n",
       "      <th>game_date</th>\n",
       "      <th>posteam</th>\n",
       "      <th>play_type</th>\n",
       "      <th>desc</th>\n",
       "      <th>down</th>\n",
       "      <th>ydstogo</th>\n",
       "      <th>score_differential</th>\n",
       "      <th>shotgun</th>\n",
       "      <th>no_huddle</th>\n",
       "    </tr>\n",
       "  </thead>\n",
       "  <tbody>\n",
       "    <tr>\n",
       "      <th>1</th>\n",
       "      <td>2009-09-10</td>\n",
       "      <td>PIT</td>\n",
       "      <td>pass</td>\n",
       "      <td>(14:53) B.Roethlisberger pass short left to H....</td>\n",
       "      <td>1.0</td>\n",
       "      <td>10</td>\n",
       "      <td>0.0</td>\n",
       "      <td>0</td>\n",
       "      <td>0</td>\n",
       "    </tr>\n",
       "    <tr>\n",
       "      <th>2</th>\n",
       "      <td>2009-09-10</td>\n",
       "      <td>PIT</td>\n",
       "      <td>run</td>\n",
       "      <td>(14:16) W.Parker right end to PIT 44 for -3 ya...</td>\n",
       "      <td>2.0</td>\n",
       "      <td>5</td>\n",
       "      <td>0.0</td>\n",
       "      <td>0</td>\n",
       "      <td>0</td>\n",
       "    </tr>\n",
       "    <tr>\n",
       "      <th>3</th>\n",
       "      <td>2009-09-10</td>\n",
       "      <td>PIT</td>\n",
       "      <td>pass</td>\n",
       "      <td>(13:35) (Shotgun) B.Roethlisberger pass incomp...</td>\n",
       "      <td>3.0</td>\n",
       "      <td>8</td>\n",
       "      <td>0.0</td>\n",
       "      <td>1</td>\n",
       "      <td>0</td>\n",
       "    </tr>\n",
       "    <tr>\n",
       "      <th>4</th>\n",
       "      <td>2009-09-10</td>\n",
       "      <td>PIT</td>\n",
       "      <td>punt</td>\n",
       "      <td>(13:27) (Punt formation) D.Sepulveda punts 54 ...</td>\n",
       "      <td>4.0</td>\n",
       "      <td>8</td>\n",
       "      <td>0.0</td>\n",
       "      <td>0</td>\n",
       "      <td>0</td>\n",
       "    </tr>\n",
       "    <tr>\n",
       "      <th>5</th>\n",
       "      <td>2009-09-10</td>\n",
       "      <td>TEN</td>\n",
       "      <td>run</td>\n",
       "      <td>(13:16) C.Johnson up the middle to TEN 2 for n...</td>\n",
       "      <td>1.0</td>\n",
       "      <td>10</td>\n",
       "      <td>0.0</td>\n",
       "      <td>0</td>\n",
       "      <td>0</td>\n",
       "    </tr>\n",
       "  </tbody>\n",
       "</table>\n",
       "</div>"
      ],
      "text/plain": [
       "    game_date posteam play_type  \\\n",
       "1  2009-09-10     PIT      pass   \n",
       "2  2009-09-10     PIT       run   \n",
       "3  2009-09-10     PIT      pass   \n",
       "4  2009-09-10     PIT      punt   \n",
       "5  2009-09-10     TEN       run   \n",
       "\n",
       "                                                desc  down  ydstogo  \\\n",
       "1  (14:53) B.Roethlisberger pass short left to H....   1.0       10   \n",
       "2  (14:16) W.Parker right end to PIT 44 for -3 ya...   2.0        5   \n",
       "3  (13:35) (Shotgun) B.Roethlisberger pass incomp...   3.0        8   \n",
       "4  (13:27) (Punt formation) D.Sepulveda punts 54 ...   4.0        8   \n",
       "5  (13:16) C.Johnson up the middle to TEN 2 for n...   1.0       10   \n",
       "\n",
       "   score_differential  shotgun  no_huddle  \n",
       "1                 0.0        0          0  \n",
       "2                 0.0        0          0  \n",
       "3                 0.0        1          0  \n",
       "4                 0.0        0          0  \n",
       "5                 0.0        0          0  "
      ]
     },
     "execution_count": 45,
     "metadata": {},
     "output_type": "execute_result"
    }
   ],
   "source": [
    "target.head()"
   ]
  },
  {
   "cell_type": "code",
   "execution_count": 46,
   "metadata": {},
   "outputs": [
    {
     "name": "stdout",
     "output_type": "stream",
     "text": [
      "<class 'pandas.core.frame.DataFrame'>\n",
      "Int64Index: 422062 entries, 1 to 498391\n",
      "Data columns (total 9 columns):\n",
      "game_date             422062 non-null object\n",
      "posteam               422062 non-null object\n",
      "play_type             422062 non-null object\n",
      "desc                  422062 non-null object\n",
      "down                  422062 non-null float64\n",
      "ydstogo               422062 non-null int64\n",
      "score_differential    422062 non-null float64\n",
      "shotgun               422062 non-null int64\n",
      "no_huddle             422062 non-null int64\n",
      "dtypes: float64(2), int64(3), object(4)\n",
      "memory usage: 32.2+ MB\n"
     ]
    }
   ],
   "source": [
    "target.info()"
   ]
  },
  {
   "cell_type": "code",
   "execution_count": 47,
   "metadata": {},
   "outputs": [],
   "source": [
    "NE_target_2019 = target[(target.game_date.str.contains('2019')) & (target.posteam == 'NE') & (target.down.isin(range(1,5))) & ((target.play_type == 'run') | (target.play_type == 'pass'))]\n"
   ]
  },
  {
   "cell_type": "code",
   "execution_count": 48,
   "metadata": {},
   "outputs": [
    {
     "name": "stdout",
     "output_type": "stream",
     "text": [
      "<class 'pandas.core.frame.DataFrame'>\n",
      "Int64Index: 1072 entries, 455194 to 495902\n",
      "Data columns (total 9 columns):\n",
      "game_date             1072 non-null object\n",
      "posteam               1072 non-null object\n",
      "play_type             1072 non-null object\n",
      "desc                  1072 non-null object\n",
      "down                  1072 non-null float64\n",
      "ydstogo               1072 non-null int64\n",
      "score_differential    1072 non-null float64\n",
      "shotgun               1072 non-null int64\n",
      "no_huddle             1072 non-null int64\n",
      "dtypes: float64(2), int64(3), object(4)\n",
      "memory usage: 83.8+ KB\n"
     ]
    }
   ],
   "source": [
    "NE_target_2019.info()"
   ]
  },
  {
   "cell_type": "code",
   "execution_count": 49,
   "metadata": {
    "scrolled": false
   },
   "outputs": [
    {
     "data": {
      "text/html": [
       "<div>\n",
       "<style scoped>\n",
       "    .dataframe tbody tr th:only-of-type {\n",
       "        vertical-align: middle;\n",
       "    }\n",
       "\n",
       "    .dataframe tbody tr th {\n",
       "        vertical-align: top;\n",
       "    }\n",
       "\n",
       "    .dataframe thead th {\n",
       "        text-align: right;\n",
       "    }\n",
       "</style>\n",
       "<table border=\"1\" class=\"dataframe\">\n",
       "  <thead>\n",
       "    <tr style=\"text-align: right;\">\n",
       "      <th></th>\n",
       "      <th>game_date</th>\n",
       "      <th>posteam</th>\n",
       "      <th>play_type</th>\n",
       "      <th>desc</th>\n",
       "      <th>down</th>\n",
       "      <th>ydstogo</th>\n",
       "      <th>score_differential</th>\n",
       "      <th>shotgun</th>\n",
       "      <th>no_huddle</th>\n",
       "    </tr>\n",
       "  </thead>\n",
       "  <tbody>\n",
       "    <tr>\n",
       "      <th>455194</th>\n",
       "      <td>2019-09-08</td>\n",
       "      <td>NE</td>\n",
       "      <td>run</td>\n",
       "      <td>(14:56) NE 12-Brady 4th player all-time to spe...</td>\n",
       "      <td>1.0</td>\n",
       "      <td>10</td>\n",
       "      <td>0.0</td>\n",
       "      <td>0</td>\n",
       "      <td>0</td>\n",
       "    </tr>\n",
       "    <tr>\n",
       "      <th>455195</th>\n",
       "      <td>2019-09-08</td>\n",
       "      <td>NE</td>\n",
       "      <td>run</td>\n",
       "      <td>(14:17) B.Bolden right end pushed ob at NE 26 ...</td>\n",
       "      <td>2.0</td>\n",
       "      <td>11</td>\n",
       "      <td>0.0</td>\n",
       "      <td>0</td>\n",
       "      <td>0</td>\n",
       "    </tr>\n",
       "    <tr>\n",
       "      <th>455196</th>\n",
       "      <td>2019-09-08</td>\n",
       "      <td>NE</td>\n",
       "      <td>run</td>\n",
       "      <td>(13:43) (Shotgun) J.White right end pushed ob ...</td>\n",
       "      <td>3.0</td>\n",
       "      <td>4</td>\n",
       "      <td>0.0</td>\n",
       "      <td>1</td>\n",
       "      <td>0</td>\n",
       "    </tr>\n",
       "    <tr>\n",
       "      <th>455197</th>\n",
       "      <td>2019-09-08</td>\n",
       "      <td>NE</td>\n",
       "      <td>run</td>\n",
       "      <td>(13:14) S.Michel left tackle to NE 38 for 3 ya...</td>\n",
       "      <td>1.0</td>\n",
       "      <td>10</td>\n",
       "      <td>0.0</td>\n",
       "      <td>0</td>\n",
       "      <td>0</td>\n",
       "    </tr>\n",
       "    <tr>\n",
       "      <th>455198</th>\n",
       "      <td>2019-09-08</td>\n",
       "      <td>NE</td>\n",
       "      <td>run</td>\n",
       "      <td>(12:43) S.Michel right end to NE 35 for -3 yar...</td>\n",
       "      <td>2.0</td>\n",
       "      <td>7</td>\n",
       "      <td>0.0</td>\n",
       "      <td>0</td>\n",
       "      <td>0</td>\n",
       "    </tr>\n",
       "  </tbody>\n",
       "</table>\n",
       "</div>"
      ],
      "text/plain": [
       "         game_date posteam play_type  \\\n",
       "455194  2019-09-08      NE       run   \n",
       "455195  2019-09-08      NE       run   \n",
       "455196  2019-09-08      NE       run   \n",
       "455197  2019-09-08      NE       run   \n",
       "455198  2019-09-08      NE       run   \n",
       "\n",
       "                                                     desc  down  ydstogo  \\\n",
       "455194  (14:56) NE 12-Brady 4th player all-time to spe...   1.0       10   \n",
       "455195  (14:17) B.Bolden right end pushed ob at NE 26 ...   2.0       11   \n",
       "455196  (13:43) (Shotgun) J.White right end pushed ob ...   3.0        4   \n",
       "455197  (13:14) S.Michel left tackle to NE 38 for 3 ya...   1.0       10   \n",
       "455198  (12:43) S.Michel right end to NE 35 for -3 yar...   2.0        7   \n",
       "\n",
       "        score_differential  shotgun  no_huddle  \n",
       "455194                 0.0        0          0  \n",
       "455195                 0.0        0          0  \n",
       "455196                 0.0        1          0  \n",
       "455197                 0.0        0          0  \n",
       "455198                 0.0        0          0  "
      ]
     },
     "execution_count": 49,
     "metadata": {},
     "output_type": "execute_result"
    }
   ],
   "source": [
    "NE_target_2019.head()"
   ]
  },
  {
   "cell_type": "code",
   "execution_count": 50,
   "metadata": {},
   "outputs": [],
   "source": [
    "Edelman_targets = NE_target_2019[(NE_target_2019.desc.str.contains('to J.Edelman'))]\n",
    "White_targets = NE_target_2019[(NE_target_2019.desc.str.contains('to J.White'))]"
   ]
  },
  {
   "cell_type": "code",
   "execution_count": 51,
   "metadata": {
    "scrolled": true
   },
   "outputs": [
    {
     "data": {
      "text/html": [
       "<div>\n",
       "<style scoped>\n",
       "    .dataframe tbody tr th:only-of-type {\n",
       "        vertical-align: middle;\n",
       "    }\n",
       "\n",
       "    .dataframe tbody tr th {\n",
       "        vertical-align: top;\n",
       "    }\n",
       "\n",
       "    .dataframe thead th {\n",
       "        text-align: right;\n",
       "    }\n",
       "</style>\n",
       "<table border=\"1\" class=\"dataframe\">\n",
       "  <thead>\n",
       "    <tr style=\"text-align: right;\">\n",
       "      <th></th>\n",
       "      <th>game_date</th>\n",
       "      <th>posteam</th>\n",
       "      <th>play_type</th>\n",
       "      <th>desc</th>\n",
       "      <th>down</th>\n",
       "      <th>ydstogo</th>\n",
       "      <th>score_differential</th>\n",
       "      <th>shotgun</th>\n",
       "      <th>no_huddle</th>\n",
       "    </tr>\n",
       "  </thead>\n",
       "  <tbody>\n",
       "    <tr>\n",
       "      <th>455199</th>\n",
       "      <td>2019-09-08</td>\n",
       "      <td>NE</td>\n",
       "      <td>pass</td>\n",
       "      <td>(12:06) (Shotgun) T.Brady pass incomplete deep...</td>\n",
       "      <td>3.0</td>\n",
       "      <td>10</td>\n",
       "      <td>0.0</td>\n",
       "      <td>1</td>\n",
       "      <td>0</td>\n",
       "    </tr>\n",
       "    <tr>\n",
       "      <th>455209</th>\n",
       "      <td>2019-09-08</td>\n",
       "      <td>NE</td>\n",
       "      <td>pass</td>\n",
       "      <td>(7:54) (Shotgun) T.Brady pass incomplete short...</td>\n",
       "      <td>1.0</td>\n",
       "      <td>10</td>\n",
       "      <td>0.0</td>\n",
       "      <td>1</td>\n",
       "      <td>0</td>\n",
       "    </tr>\n",
       "    <tr>\n",
       "      <th>455232</th>\n",
       "      <td>2019-09-08</td>\n",
       "      <td>NE</td>\n",
       "      <td>pass</td>\n",
       "      <td>(13:49) (Shotgun) T.Brady pass short middle to...</td>\n",
       "      <td>1.0</td>\n",
       "      <td>10</td>\n",
       "      <td>7.0</td>\n",
       "      <td>1</td>\n",
       "      <td>0</td>\n",
       "    </tr>\n",
       "    <tr>\n",
       "      <th>455256</th>\n",
       "      <td>2019-09-08</td>\n",
       "      <td>NE</td>\n",
       "      <td>pass</td>\n",
       "      <td>(5:17) T.Brady pass short middle to J.Edelman ...</td>\n",
       "      <td>1.0</td>\n",
       "      <td>10</td>\n",
       "      <td>10.0</td>\n",
       "      <td>0</td>\n",
       "      <td>0</td>\n",
       "    </tr>\n",
       "    <tr>\n",
       "      <th>455257</th>\n",
       "      <td>2019-09-08</td>\n",
       "      <td>NE</td>\n",
       "      <td>pass</td>\n",
       "      <td>(4:35) T.Brady pass short left to J.Edelman to...</td>\n",
       "      <td>1.0</td>\n",
       "      <td>10</td>\n",
       "      <td>10.0</td>\n",
       "      <td>0</td>\n",
       "      <td>0</td>\n",
       "    </tr>\n",
       "  </tbody>\n",
       "</table>\n",
       "</div>"
      ],
      "text/plain": [
       "         game_date posteam play_type  \\\n",
       "455199  2019-09-08      NE      pass   \n",
       "455209  2019-09-08      NE      pass   \n",
       "455232  2019-09-08      NE      pass   \n",
       "455256  2019-09-08      NE      pass   \n",
       "455257  2019-09-08      NE      pass   \n",
       "\n",
       "                                                     desc  down  ydstogo  \\\n",
       "455199  (12:06) (Shotgun) T.Brady pass incomplete deep...   3.0       10   \n",
       "455209  (7:54) (Shotgun) T.Brady pass incomplete short...   1.0       10   \n",
       "455232  (13:49) (Shotgun) T.Brady pass short middle to...   1.0       10   \n",
       "455256  (5:17) T.Brady pass short middle to J.Edelman ...   1.0       10   \n",
       "455257  (4:35) T.Brady pass short left to J.Edelman to...   1.0       10   \n",
       "\n",
       "        score_differential  shotgun  no_huddle  \n",
       "455199                 0.0        1          0  \n",
       "455209                 0.0        1          0  \n",
       "455232                 7.0        1          0  \n",
       "455256                10.0        0          0  \n",
       "455257                10.0        0          0  "
      ]
     },
     "execution_count": 51,
     "metadata": {},
     "output_type": "execute_result"
    }
   ],
   "source": [
    "Edelman_targets.head()"
   ]
  },
  {
   "cell_type": "code",
   "execution_count": 52,
   "metadata": {},
   "outputs": [
    {
     "data": {
      "text/html": [
       "<div>\n",
       "<style scoped>\n",
       "    .dataframe tbody tr th:only-of-type {\n",
       "        vertical-align: middle;\n",
       "    }\n",
       "\n",
       "    .dataframe tbody tr th {\n",
       "        vertical-align: top;\n",
       "    }\n",
       "\n",
       "    .dataframe thead th {\n",
       "        text-align: right;\n",
       "    }\n",
       "</style>\n",
       "<table border=\"1\" class=\"dataframe\">\n",
       "  <thead>\n",
       "    <tr style=\"text-align: right;\">\n",
       "      <th></th>\n",
       "      <th>game_date</th>\n",
       "      <th>posteam</th>\n",
       "      <th>play_type</th>\n",
       "      <th>desc</th>\n",
       "      <th>down</th>\n",
       "      <th>ydstogo</th>\n",
       "      <th>score_differential</th>\n",
       "      <th>shotgun</th>\n",
       "      <th>no_huddle</th>\n",
       "    </tr>\n",
       "  </thead>\n",
       "  <tbody>\n",
       "    <tr>\n",
       "      <th>455215</th>\n",
       "      <td>2019-09-08</td>\n",
       "      <td>NE</td>\n",
       "      <td>pass</td>\n",
       "      <td>(5:35) (No Huddle, Shotgun) J.Edelman pass sho...</td>\n",
       "      <td>1.0</td>\n",
       "      <td>10</td>\n",
       "      <td>0.0</td>\n",
       "      <td>1</td>\n",
       "      <td>1</td>\n",
       "    </tr>\n",
       "    <tr>\n",
       "      <th>455226</th>\n",
       "      <td>2019-09-08</td>\n",
       "      <td>NE</td>\n",
       "      <td>pass</td>\n",
       "      <td>(1:32) (Shotgun) T.Brady pass short right to J...</td>\n",
       "      <td>1.0</td>\n",
       "      <td>10</td>\n",
       "      <td>7.0</td>\n",
       "      <td>1</td>\n",
       "      <td>0</td>\n",
       "    </tr>\n",
       "    <tr>\n",
       "      <th>455235</th>\n",
       "      <td>2019-09-08</td>\n",
       "      <td>NE</td>\n",
       "      <td>pass</td>\n",
       "      <td>(12:32) T.Brady pass short right to J.White to...</td>\n",
       "      <td>1.0</td>\n",
       "      <td>9</td>\n",
       "      <td>7.0</td>\n",
       "      <td>0</td>\n",
       "      <td>0</td>\n",
       "    </tr>\n",
       "    <tr>\n",
       "      <th>455246</th>\n",
       "      <td>2019-09-08</td>\n",
       "      <td>NE</td>\n",
       "      <td>pass</td>\n",
       "      <td>(9:22) (Shotgun) T.Brady pass incomplete short...</td>\n",
       "      <td>3.0</td>\n",
       "      <td>7</td>\n",
       "      <td>10.0</td>\n",
       "      <td>1</td>\n",
       "      <td>0</td>\n",
       "    </tr>\n",
       "    <tr>\n",
       "      <th>455255</th>\n",
       "      <td>2019-09-08</td>\n",
       "      <td>NE</td>\n",
       "      <td>pass</td>\n",
       "      <td>(5:53) T.Brady pass short left to J.White to N...</td>\n",
       "      <td>3.0</td>\n",
       "      <td>3</td>\n",
       "      <td>10.0</td>\n",
       "      <td>0</td>\n",
       "      <td>0</td>\n",
       "    </tr>\n",
       "  </tbody>\n",
       "</table>\n",
       "</div>"
      ],
      "text/plain": [
       "         game_date posteam play_type  \\\n",
       "455215  2019-09-08      NE      pass   \n",
       "455226  2019-09-08      NE      pass   \n",
       "455235  2019-09-08      NE      pass   \n",
       "455246  2019-09-08      NE      pass   \n",
       "455255  2019-09-08      NE      pass   \n",
       "\n",
       "                                                     desc  down  ydstogo  \\\n",
       "455215  (5:35) (No Huddle, Shotgun) J.Edelman pass sho...   1.0       10   \n",
       "455226  (1:32) (Shotgun) T.Brady pass short right to J...   1.0       10   \n",
       "455235  (12:32) T.Brady pass short right to J.White to...   1.0        9   \n",
       "455246  (9:22) (Shotgun) T.Brady pass incomplete short...   3.0        7   \n",
       "455255  (5:53) T.Brady pass short left to J.White to N...   3.0        3   \n",
       "\n",
       "        score_differential  shotgun  no_huddle  \n",
       "455215                 0.0        1          1  \n",
       "455226                 7.0        1          0  \n",
       "455235                 7.0        0          0  \n",
       "455246                10.0        1          0  \n",
       "455255                10.0        0          0  "
      ]
     },
     "execution_count": 52,
     "metadata": {},
     "output_type": "execute_result"
    }
   ],
   "source": [
    "White_targets.head()"
   ]
  },
  {
   "cell_type": "code",
   "execution_count": 53,
   "metadata": {},
   "outputs": [
    {
     "data": {
      "text/plain": [
       "150"
      ]
     },
     "execution_count": 53,
     "metadata": {},
     "output_type": "execute_result"
    }
   ],
   "source": [
    "len(Edelman_targets)  #Edelman is the clear #1 WR"
   ]
  },
  {
   "cell_type": "code",
   "execution_count": 54,
   "metadata": {},
   "outputs": [
    {
     "data": {
      "text/plain": [
       "97"
      ]
     },
     "execution_count": 54,
     "metadata": {},
     "output_type": "execute_result"
    }
   ],
   "source": [
    "len(White_targets)"
   ]
  },
  {
   "cell_type": "code",
   "execution_count": 55,
   "metadata": {},
   "outputs": [
    {
     "data": {
      "image/png": "[encoded data removed]",
      "text/plain": [
       "<Figure size 408.625x360 with 1 Axes>"
      ]
     },
     "metadata": {
      "needs_background": "light"
     },
     "output_type": "display_data"
    }
   ],
   "source": [
    "sns.catplot(x=\"down\", kind=\"count\", hue='shotgun', data=Edelman_targets);\n",
    "plt.title('Julian Edelman Total Targets per down')\n",
    "plt.show()"
   ]
  },
  {
   "cell_type": "code",
   "execution_count": 56,
   "metadata": {
    "scrolled": false
   },
   "outputs": [
    {
     "data": {
      "image/png": "[encoded data removed]",
      "text/plain": [
       "<Figure size 408.625x360 with 1 Axes>"
      ]
     },
     "metadata": {
      "needs_background": "light"
     },
     "output_type": "display_data"
    }
   ],
   "source": [
    "sns.catplot(x=\"down\", kind=\"count\", hue='shotgun', data=White_targets);\n",
    "plt.title('James White Total Targets per Down ')\n",
    "plt.show()"
   ]
  },
  {
   "cell_type": "markdown",
   "metadata": {},
   "source": [
    "##  As we can see from the above graphs, When in shotgun, Julian Edelman is targeted alot especially on second down. This makes sense as most teams put him in double coverage on third down. Because of this James White becomes the go to target on third down. "
   ]
  },
  {
   "cell_type": "markdown",
   "metadata": {},
   "source": [
    "# New England Running Back Distribution in 2019"
   ]
  },
  {
   "cell_type": "markdown",
   "metadata": {},
   "source": [
    "## The main running back for the New England Patriots is Sony Michel. "
   ]
  },
  {
   "cell_type": "code",
   "execution_count": 57,
   "metadata": {},
   "outputs": [],
   "source": [
    "Michel_targets = NE_target_2019[(NE_target_2019.desc.str.contains('S.Michel'))]"
   ]
  },
  {
   "cell_type": "code",
   "execution_count": 58,
   "metadata": {},
   "outputs": [
    {
     "data": {
      "text/html": [
       "<div>\n",
       "<style scoped>\n",
       "    .dataframe tbody tr th:only-of-type {\n",
       "        vertical-align: middle;\n",
       "    }\n",
       "\n",
       "    .dataframe tbody tr th {\n",
       "        vertical-align: top;\n",
       "    }\n",
       "\n",
       "    .dataframe thead th {\n",
       "        text-align: right;\n",
       "    }\n",
       "</style>\n",
       "<table border=\"1\" class=\"dataframe\">\n",
       "  <thead>\n",
       "    <tr style=\"text-align: right;\">\n",
       "      <th></th>\n",
       "      <th>game_date</th>\n",
       "      <th>posteam</th>\n",
       "      <th>play_type</th>\n",
       "      <th>desc</th>\n",
       "      <th>down</th>\n",
       "      <th>ydstogo</th>\n",
       "      <th>score_differential</th>\n",
       "      <th>shotgun</th>\n",
       "      <th>no_huddle</th>\n",
       "    </tr>\n",
       "  </thead>\n",
       "  <tbody>\n",
       "    <tr>\n",
       "      <th>455194</th>\n",
       "      <td>2019-09-08</td>\n",
       "      <td>NE</td>\n",
       "      <td>run</td>\n",
       "      <td>(14:56) NE 12-Brady 4th player all-time to spe...</td>\n",
       "      <td>1.0</td>\n",
       "      <td>10</td>\n",
       "      <td>0.0</td>\n",
       "      <td>0</td>\n",
       "      <td>0</td>\n",
       "    </tr>\n",
       "    <tr>\n",
       "      <th>455197</th>\n",
       "      <td>2019-09-08</td>\n",
       "      <td>NE</td>\n",
       "      <td>run</td>\n",
       "      <td>(13:14) S.Michel left tackle to NE 38 for 3 ya...</td>\n",
       "      <td>1.0</td>\n",
       "      <td>10</td>\n",
       "      <td>0.0</td>\n",
       "      <td>0</td>\n",
       "      <td>0</td>\n",
       "    </tr>\n",
       "    <tr>\n",
       "      <th>455198</th>\n",
       "      <td>2019-09-08</td>\n",
       "      <td>NE</td>\n",
       "      <td>run</td>\n",
       "      <td>(12:43) S.Michel right end to NE 35 for -3 yar...</td>\n",
       "      <td>2.0</td>\n",
       "      <td>7</td>\n",
       "      <td>0.0</td>\n",
       "      <td>0</td>\n",
       "      <td>0</td>\n",
       "    </tr>\n",
       "    <tr>\n",
       "      <th>455227</th>\n",
       "      <td>2019-09-08</td>\n",
       "      <td>NE</td>\n",
       "      <td>run</td>\n",
       "      <td>(:53) S.Michel right guard to PIT 31 for 5 yar...</td>\n",
       "      <td>2.0</td>\n",
       "      <td>6</td>\n",
       "      <td>7.0</td>\n",
       "      <td>0</td>\n",
       "      <td>0</td>\n",
       "    </tr>\n",
       "    <tr>\n",
       "      <th>455228</th>\n",
       "      <td>2019-09-08</td>\n",
       "      <td>NE</td>\n",
       "      <td>run</td>\n",
       "      <td>(:32) S.Michel right guard to PIT 29 for 2 yar...</td>\n",
       "      <td>3.0</td>\n",
       "      <td>1</td>\n",
       "      <td>7.0</td>\n",
       "      <td>0</td>\n",
       "      <td>0</td>\n",
       "    </tr>\n",
       "  </tbody>\n",
       "</table>\n",
       "</div>"
      ],
      "text/plain": [
       "         game_date posteam play_type  \\\n",
       "455194  2019-09-08      NE       run   \n",
       "455197  2019-09-08      NE       run   \n",
       "455198  2019-09-08      NE       run   \n",
       "455227  2019-09-08      NE       run   \n",
       "455228  2019-09-08      NE       run   \n",
       "\n",
       "                                                     desc  down  ydstogo  \\\n",
       "455194  (14:56) NE 12-Brady 4th player all-time to spe...   1.0       10   \n",
       "455197  (13:14) S.Michel left tackle to NE 38 for 3 ya...   1.0       10   \n",
       "455198  (12:43) S.Michel right end to NE 35 for -3 yar...   2.0        7   \n",
       "455227  (:53) S.Michel right guard to PIT 31 for 5 yar...   2.0        6   \n",
       "455228  (:32) S.Michel right guard to PIT 29 for 2 yar...   3.0        1   \n",
       "\n",
       "        score_differential  shotgun  no_huddle  \n",
       "455194                 0.0        0          0  \n",
       "455197                 0.0        0          0  \n",
       "455198                 0.0        0          0  \n",
       "455227                 7.0        0          0  \n",
       "455228                 7.0        0          0  "
      ]
     },
     "execution_count": 58,
     "metadata": {},
     "output_type": "execute_result"
    }
   ],
   "source": [
    "Michel_targets.head()"
   ]
  },
  {
   "cell_type": "code",
   "execution_count": 59,
   "metadata": {
    "scrolled": false
   },
   "outputs": [
    {
     "data": {
      "image/png": "[encoded data removed]",
      "text/plain": [
       "<Figure size 408.625x360 with 1 Axes>"
      ]
     },
     "metadata": {
      "needs_background": "light"
     },
     "output_type": "display_data"
    }
   ],
   "source": [
    "sns.catplot(x=\"play_type\", kind=\"count\", hue='shotgun', data=Michel_targets);\n",
    "plt.title('Sony Michel Total Targets per Play Type ')\n",
    "plt.show()"
   ]
  },
  {
   "cell_type": "code",
   "execution_count": 60,
   "metadata": {},
   "outputs": [],
   "source": [
    "\n",
    "Michel_run = NE_target_2019[(NE_target_2019.desc.str.contains('S.Michel') + NE_target_2019.play_type.str.contains('run'))]\n"
   ]
  },
  {
   "cell_type": "code",
   "execution_count": 61,
   "metadata": {},
   "outputs": [
    {
     "data": {
      "text/html": [
       "<div>\n",
       "<style scoped>\n",
       "    .dataframe tbody tr th:only-of-type {\n",
       "        vertical-align: middle;\n",
       "    }\n",
       "\n",
       "    .dataframe tbody tr th {\n",
       "        vertical-align: top;\n",
       "    }\n",
       "\n",
       "    .dataframe thead th {\n",
       "        text-align: right;\n",
       "    }\n",
       "</style>\n",
       "<table border=\"1\" class=\"dataframe\">\n",
       "  <thead>\n",
       "    <tr style=\"text-align: right;\">\n",
       "      <th></th>\n",
       "      <th>game_date</th>\n",
       "      <th>posteam</th>\n",
       "      <th>play_type</th>\n",
       "      <th>desc</th>\n",
       "      <th>down</th>\n",
       "      <th>ydstogo</th>\n",
       "      <th>score_differential</th>\n",
       "      <th>shotgun</th>\n",
       "      <th>no_huddle</th>\n",
       "    </tr>\n",
       "  </thead>\n",
       "  <tbody>\n",
       "    <tr>\n",
       "      <th>455194</th>\n",
       "      <td>2019-09-08</td>\n",
       "      <td>NE</td>\n",
       "      <td>run</td>\n",
       "      <td>(14:56) NE 12-Brady 4th player all-time to spe...</td>\n",
       "      <td>1.0</td>\n",
       "      <td>10</td>\n",
       "      <td>0.0</td>\n",
       "      <td>0</td>\n",
       "      <td>0</td>\n",
       "    </tr>\n",
       "    <tr>\n",
       "      <th>455195</th>\n",
       "      <td>2019-09-08</td>\n",
       "      <td>NE</td>\n",
       "      <td>run</td>\n",
       "      <td>(14:17) B.Bolden right end pushed ob at NE 26 ...</td>\n",
       "      <td>2.0</td>\n",
       "      <td>11</td>\n",
       "      <td>0.0</td>\n",
       "      <td>0</td>\n",
       "      <td>0</td>\n",
       "    </tr>\n",
       "    <tr>\n",
       "      <th>455196</th>\n",
       "      <td>2019-09-08</td>\n",
       "      <td>NE</td>\n",
       "      <td>run</td>\n",
       "      <td>(13:43) (Shotgun) J.White right end pushed ob ...</td>\n",
       "      <td>3.0</td>\n",
       "      <td>4</td>\n",
       "      <td>0.0</td>\n",
       "      <td>1</td>\n",
       "      <td>0</td>\n",
       "    </tr>\n",
       "    <tr>\n",
       "      <th>455197</th>\n",
       "      <td>2019-09-08</td>\n",
       "      <td>NE</td>\n",
       "      <td>run</td>\n",
       "      <td>(13:14) S.Michel left tackle to NE 38 for 3 ya...</td>\n",
       "      <td>1.0</td>\n",
       "      <td>10</td>\n",
       "      <td>0.0</td>\n",
       "      <td>0</td>\n",
       "      <td>0</td>\n",
       "    </tr>\n",
       "    <tr>\n",
       "      <th>455198</th>\n",
       "      <td>2019-09-08</td>\n",
       "      <td>NE</td>\n",
       "      <td>run</td>\n",
       "      <td>(12:43) S.Michel right end to NE 35 for -3 yar...</td>\n",
       "      <td>2.0</td>\n",
       "      <td>7</td>\n",
       "      <td>0.0</td>\n",
       "      <td>0</td>\n",
       "      <td>0</td>\n",
       "    </tr>\n",
       "  </tbody>\n",
       "</table>\n",
       "</div>"
      ],
      "text/plain": [
       "         game_date posteam play_type  \\\n",
       "455194  2019-09-08      NE       run   \n",
       "455195  2019-09-08      NE       run   \n",
       "455196  2019-09-08      NE       run   \n",
       "455197  2019-09-08      NE       run   \n",
       "455198  2019-09-08      NE       run   \n",
       "\n",
       "                                                     desc  down  ydstogo  \\\n",
       "455194  (14:56) NE 12-Brady 4th player all-time to spe...   1.0       10   \n",
       "455195  (14:17) B.Bolden right end pushed ob at NE 26 ...   2.0       11   \n",
       "455196  (13:43) (Shotgun) J.White right end pushed ob ...   3.0        4   \n",
       "455197  (13:14) S.Michel left tackle to NE 38 for 3 ya...   1.0       10   \n",
       "455198  (12:43) S.Michel right end to NE 35 for -3 yar...   2.0        7   \n",
       "\n",
       "        score_differential  shotgun  no_huddle  \n",
       "455194                 0.0        0          0  \n",
       "455195                 0.0        0          0  \n",
       "455196                 0.0        1          0  \n",
       "455197                 0.0        0          0  \n",
       "455198                 0.0        0          0  "
      ]
     },
     "execution_count": 61,
     "metadata": {},
     "output_type": "execute_result"
    }
   ],
   "source": [
    "Michel_run.head()"
   ]
  },
  {
   "cell_type": "code",
   "execution_count": 62,
   "metadata": {
    "scrolled": false
   },
   "outputs": [
    {
     "data": {
      "image/png": "[encoded data removed]",
      "text/plain": [
       "<Figure size 408.625x360 with 1 Axes>"
      ]
     },
     "metadata": {
      "needs_background": "light"
     },
     "output_type": "display_data"
    }
   ],
   "source": [
    "sns.catplot(x=\"down\", kind=\"count\", hue='shotgun', data=Michel_run);\n",
    "plt.title('Sony Michel Total Targets per Down ')\n",
    "plt.show()"
   ]
  },
  {
   "cell_type": "markdown",
   "metadata": {},
   "source": [
    "## And as we can see, Sony is used the most when the patriots are not in shotgun formation. He is used alot on first down situations and then his use decreases as the Patriots start throwing it more on second and third down."
   ]
  },
  {
   "cell_type": "markdown",
   "metadata": {},
   "source": [
    "# Lets look at Where New England throws the ball in 2019. \n",
    "\n",
    "## This includes incompletions "
   ]
  },
  {
   "cell_type": "code",
   "execution_count": 63,
   "metadata": {},
   "outputs": [],
   "source": [
    "short_right = NE_target_2019[(NE_target_2019.desc.str.contains('pass incomplete short right')) + \n",
    "                               (NE_target_2019.desc.str.contains('pass short right'))]\n",
    "\n",
    "\n",
    "short_left = NE_target_2019[(NE_target_2019.desc.str.contains('pass incomplete short left')) + \n",
    "                               (NE_target_2019.desc.str.contains('pass short left'))]\n",
    "\n",
    "\n",
    "short_middle = NE_target_2019[(NE_target_2019.desc.str.contains('pass incomplete short middle')) + \n",
    "                               (NE_target_2019.desc.str.contains('pass short middle'))]"
   ]
  },
  {
   "cell_type": "code",
   "execution_count": 64,
   "metadata": {},
   "outputs": [],
   "source": [
    "deep_right = NE_target_2019[(NE_target_2019.desc.str.contains('pass incomplete deep right')) + \n",
    "                               (NE_target_2019.desc.str.contains('pass deep right'))]\n",
    "\n",
    "\n",
    "deep_left = NE_target_2019[(NE_target_2019.desc.str.contains('pass incomplete deep left')) + \n",
    "                               (NE_target_2019.desc.str.contains('pass deep left'))]\n",
    "\n",
    "\n",
    "deep_middle = NE_target_2019[(NE_target_2019.desc.str.contains('pass incomplete deep middle')) + \n",
    "                               (NE_target_2019.desc.str.contains('pass deep middle'))]"
   ]
  },
  {
   "cell_type": "code",
   "execution_count": 65,
   "metadata": {
    "scrolled": true
   },
   "outputs": [
    {
     "data": {
      "text/html": [
       "<div>\n",
       "<style scoped>\n",
       "    .dataframe tbody tr th:only-of-type {\n",
       "        vertical-align: middle;\n",
       "    }\n",
       "\n",
       "    .dataframe tbody tr th {\n",
       "        vertical-align: top;\n",
       "    }\n",
       "\n",
       "    .dataframe thead th {\n",
       "        text-align: right;\n",
       "    }\n",
       "</style>\n",
       "<table border=\"1\" class=\"dataframe\">\n",
       "  <thead>\n",
       "    <tr style=\"text-align: right;\">\n",
       "      <th></th>\n",
       "      <th>game_date</th>\n",
       "      <th>posteam</th>\n",
       "      <th>play_type</th>\n",
       "      <th>desc</th>\n",
       "      <th>down</th>\n",
       "      <th>ydstogo</th>\n",
       "      <th>score_differential</th>\n",
       "      <th>shotgun</th>\n",
       "      <th>no_huddle</th>\n",
       "    </tr>\n",
       "  </thead>\n",
       "  <tbody>\n",
       "    <tr>\n",
       "      <th>455258</th>\n",
       "      <td>2019-09-08</td>\n",
       "      <td>NE</td>\n",
       "      <td>pass</td>\n",
       "      <td>(3:54) (Shotgun) T.Brady pass deep right to P....</td>\n",
       "      <td>1.0</td>\n",
       "      <td>10</td>\n",
       "      <td>10.0</td>\n",
       "      <td>1</td>\n",
       "      <td>0</td>\n",
       "    </tr>\n",
       "    <tr>\n",
       "      <th>455272</th>\n",
       "      <td>2019-09-08</td>\n",
       "      <td>NE</td>\n",
       "      <td>pass</td>\n",
       "      <td>(1:03) (No Huddle, Shotgun) T.Brady pass incom...</td>\n",
       "      <td>2.0</td>\n",
       "      <td>5</td>\n",
       "      <td>17.0</td>\n",
       "      <td>1</td>\n",
       "      <td>1</td>\n",
       "    </tr>\n",
       "    <tr>\n",
       "      <th>455299</th>\n",
       "      <td>2019-09-08</td>\n",
       "      <td>NE</td>\n",
       "      <td>pass</td>\n",
       "      <td>(8:13) (Shotgun) T.Brady pass deep right to P....</td>\n",
       "      <td>3.0</td>\n",
       "      <td>10</td>\n",
       "      <td>17.0</td>\n",
       "      <td>1</td>\n",
       "      <td>0</td>\n",
       "    </tr>\n",
       "    <tr>\n",
       "      <th>457560</th>\n",
       "      <td>2019-09-15</td>\n",
       "      <td>NE</td>\n",
       "      <td>pass</td>\n",
       "      <td>(10:21) (Shotgun) T.Brady pass incomplete deep...</td>\n",
       "      <td>2.0</td>\n",
       "      <td>5</td>\n",
       "      <td>13.0</td>\n",
       "      <td>1</td>\n",
       "      <td>0</td>\n",
       "    </tr>\n",
       "    <tr>\n",
       "      <th>457626</th>\n",
       "      <td>2019-09-15</td>\n",
       "      <td>NE</td>\n",
       "      <td>pass</td>\n",
       "      <td>(5:09) (Shotgun) T.Brady pass deep right to R....</td>\n",
       "      <td>1.0</td>\n",
       "      <td>10</td>\n",
       "      <td>37.0</td>\n",
       "      <td>1</td>\n",
       "      <td>0</td>\n",
       "    </tr>\n",
       "  </tbody>\n",
       "</table>\n",
       "</div>"
      ],
      "text/plain": [
       "         game_date posteam play_type  \\\n",
       "455258  2019-09-08      NE      pass   \n",
       "455272  2019-09-08      NE      pass   \n",
       "455299  2019-09-08      NE      pass   \n",
       "457560  2019-09-15      NE      pass   \n",
       "457626  2019-09-15      NE      pass   \n",
       "\n",
       "                                                     desc  down  ydstogo  \\\n",
       "455258  (3:54) (Shotgun) T.Brady pass deep right to P....   1.0       10   \n",
       "455272  (1:03) (No Huddle, Shotgun) T.Brady pass incom...   2.0        5   \n",
       "455299  (8:13) (Shotgun) T.Brady pass deep right to P....   3.0       10   \n",
       "457560  (10:21) (Shotgun) T.Brady pass incomplete deep...   2.0        5   \n",
       "457626  (5:09) (Shotgun) T.Brady pass deep right to R....   1.0       10   \n",
       "\n",
       "        score_differential  shotgun  no_huddle  \n",
       "455258                10.0        1          0  \n",
       "455272                17.0        1          1  \n",
       "455299                17.0        1          0  \n",
       "457560                13.0        1          0  \n",
       "457626                37.0        1          0  "
      ]
     },
     "execution_count": 65,
     "metadata": {},
     "output_type": "execute_result"
    }
   ],
   "source": [
    "deep_right.head()"
   ]
  },
  {
   "cell_type": "code",
   "execution_count": 66,
   "metadata": {},
   "outputs": [],
   "source": [
    "passing = pbp_test[['game_date','posteam','play_type','pass_location','desc','receiver_player_name','down','ydstogo','score_differential','shotgun','no_huddle']]\n",
    "\n",
    "passing= passing.dropna()"
   ]
  },
  {
   "cell_type": "code",
   "execution_count": 67,
   "metadata": {},
   "outputs": [
    {
     "data": {
      "text/html": [
       "<div>\n",
       "<style scoped>\n",
       "    .dataframe tbody tr th:only-of-type {\n",
       "        vertical-align: middle;\n",
       "    }\n",
       "\n",
       "    .dataframe tbody tr th {\n",
       "        vertical-align: top;\n",
       "    }\n",
       "\n",
       "    .dataframe thead th {\n",
       "        text-align: right;\n",
       "    }\n",
       "</style>\n",
       "<table border=\"1\" class=\"dataframe\">\n",
       "  <thead>\n",
       "    <tr style=\"text-align: right;\">\n",
       "      <th></th>\n",
       "      <th>game_date</th>\n",
       "      <th>posteam</th>\n",
       "      <th>play_type</th>\n",
       "      <th>pass_location</th>\n",
       "      <th>desc</th>\n",
       "      <th>receiver_player_name</th>\n",
       "      <th>down</th>\n",
       "      <th>ydstogo</th>\n",
       "      <th>score_differential</th>\n",
       "      <th>shotgun</th>\n",
       "      <th>no_huddle</th>\n",
       "    </tr>\n",
       "  </thead>\n",
       "  <tbody>\n",
       "    <tr>\n",
       "      <th>1</th>\n",
       "      <td>2009-09-10</td>\n",
       "      <td>PIT</td>\n",
       "      <td>pass</td>\n",
       "      <td>left</td>\n",
       "      <td>(14:53) B.Roethlisberger pass short left to H....</td>\n",
       "      <td>H.Ward</td>\n",
       "      <td>1.0</td>\n",
       "      <td>10</td>\n",
       "      <td>0.0</td>\n",
       "      <td>0</td>\n",
       "      <td>0</td>\n",
       "    </tr>\n",
       "    <tr>\n",
       "      <th>3</th>\n",
       "      <td>2009-09-10</td>\n",
       "      <td>PIT</td>\n",
       "      <td>pass</td>\n",
       "      <td>right</td>\n",
       "      <td>(13:35) (Shotgun) B.Roethlisberger pass incomp...</td>\n",
       "      <td>M.Wallace</td>\n",
       "      <td>3.0</td>\n",
       "      <td>8</td>\n",
       "      <td>0.0</td>\n",
       "      <td>1</td>\n",
       "      <td>0</td>\n",
       "    </tr>\n",
       "    <tr>\n",
       "      <th>6</th>\n",
       "      <td>2009-09-10</td>\n",
       "      <td>TEN</td>\n",
       "      <td>pass</td>\n",
       "      <td>left</td>\n",
       "      <td>(12:40) K.Collins pass short left to A.Hall to...</td>\n",
       "      <td>A.Hall</td>\n",
       "      <td>2.0</td>\n",
       "      <td>10</td>\n",
       "      <td>0.0</td>\n",
       "      <td>0</td>\n",
       "      <td>0</td>\n",
       "    </tr>\n",
       "    <tr>\n",
       "      <th>9</th>\n",
       "      <td>2009-09-10</td>\n",
       "      <td>PIT</td>\n",
       "      <td>pass</td>\n",
       "      <td>right</td>\n",
       "      <td>(11:24) B.Roethlisberger pass short right to M...</td>\n",
       "      <td>M.Wallace</td>\n",
       "      <td>1.0</td>\n",
       "      <td>10</td>\n",
       "      <td>0.0</td>\n",
       "      <td>0</td>\n",
       "      <td>0</td>\n",
       "    </tr>\n",
       "    <tr>\n",
       "      <th>10</th>\n",
       "      <td>2009-09-10</td>\n",
       "      <td>PIT</td>\n",
       "      <td>pass</td>\n",
       "      <td>left</td>\n",
       "      <td>(10:48) B.Roethlisberger pass short left to S....</td>\n",
       "      <td>S.Holmes</td>\n",
       "      <td>2.0</td>\n",
       "      <td>7</td>\n",
       "      <td>0.0</td>\n",
       "      <td>0</td>\n",
       "      <td>0</td>\n",
       "    </tr>\n",
       "  </tbody>\n",
       "</table>\n",
       "</div>"
      ],
      "text/plain": [
       "     game_date posteam play_type pass_location  \\\n",
       "1   2009-09-10     PIT      pass          left   \n",
       "3   2009-09-10     PIT      pass         right   \n",
       "6   2009-09-10     TEN      pass          left   \n",
       "9   2009-09-10     PIT      pass         right   \n",
       "10  2009-09-10     PIT      pass          left   \n",
       "\n",
       "                                                 desc receiver_player_name  \\\n",
       "1   (14:53) B.Roethlisberger pass short left to H....               H.Ward   \n",
       "3   (13:35) (Shotgun) B.Roethlisberger pass incomp...            M.Wallace   \n",
       "6   (12:40) K.Collins pass short left to A.Hall to...               A.Hall   \n",
       "9   (11:24) B.Roethlisberger pass short right to M...            M.Wallace   \n",
       "10  (10:48) B.Roethlisberger pass short left to S....             S.Holmes   \n",
       "\n",
       "    down  ydstogo  score_differential  shotgun  no_huddle  \n",
       "1    1.0       10                 0.0        0          0  \n",
       "3    3.0        8                 0.0        1          0  \n",
       "6    2.0       10                 0.0        0          0  \n",
       "9    1.0       10                 0.0        0          0  \n",
       "10   2.0        7                 0.0        0          0  "
      ]
     },
     "execution_count": 67,
     "metadata": {},
     "output_type": "execute_result"
    }
   ],
   "source": [
    "passing.head()"
   ]
  },
  {
   "cell_type": "code",
   "execution_count": 68,
   "metadata": {},
   "outputs": [],
   "source": [
    "\n",
    "\n",
    "\n",
    "NE_passing = passing[(passing.game_date.str.contains('2019')) & (passing.posteam == 'NE') & \n",
    "                  (passing.down.isin(range(1,5))) &  (passing.play_type == 'pass')]\n"
   ]
  },
  {
   "cell_type": "code",
   "execution_count": 69,
   "metadata": {},
   "outputs": [
    {
     "data": {
      "text/html": [
       "<div>\n",
       "<style scoped>\n",
       "    .dataframe tbody tr th:only-of-type {\n",
       "        vertical-align: middle;\n",
       "    }\n",
       "\n",
       "    .dataframe tbody tr th {\n",
       "        vertical-align: top;\n",
       "    }\n",
       "\n",
       "    .dataframe thead th {\n",
       "        text-align: right;\n",
       "    }\n",
       "</style>\n",
       "<table border=\"1\" class=\"dataframe\">\n",
       "  <thead>\n",
       "    <tr style=\"text-align: right;\">\n",
       "      <th></th>\n",
       "      <th>game_date</th>\n",
       "      <th>posteam</th>\n",
       "      <th>play_type</th>\n",
       "      <th>pass_location</th>\n",
       "      <th>desc</th>\n",
       "      <th>receiver_player_name</th>\n",
       "      <th>down</th>\n",
       "      <th>ydstogo</th>\n",
       "      <th>score_differential</th>\n",
       "      <th>shotgun</th>\n",
       "      <th>no_huddle</th>\n",
       "    </tr>\n",
       "  </thead>\n",
       "  <tbody>\n",
       "    <tr>\n",
       "      <th>455199</th>\n",
       "      <td>2019-09-08</td>\n",
       "      <td>NE</td>\n",
       "      <td>pass</td>\n",
       "      <td>middle</td>\n",
       "      <td>(12:06) (Shotgun) T.Brady pass incomplete deep...</td>\n",
       "      <td>J.Edelman</td>\n",
       "      <td>3.0</td>\n",
       "      <td>10</td>\n",
       "      <td>0.0</td>\n",
       "      <td>1</td>\n",
       "      <td>0</td>\n",
       "    </tr>\n",
       "    <tr>\n",
       "      <th>455209</th>\n",
       "      <td>2019-09-08</td>\n",
       "      <td>NE</td>\n",
       "      <td>pass</td>\n",
       "      <td>left</td>\n",
       "      <td>(7:54) (Shotgun) T.Brady pass incomplete short...</td>\n",
       "      <td>J.Edelman</td>\n",
       "      <td>1.0</td>\n",
       "      <td>10</td>\n",
       "      <td>0.0</td>\n",
       "      <td>1</td>\n",
       "      <td>0</td>\n",
       "    </tr>\n",
       "    <tr>\n",
       "      <th>455210</th>\n",
       "      <td>2019-09-08</td>\n",
       "      <td>NE</td>\n",
       "      <td>pass</td>\n",
       "      <td>middle</td>\n",
       "      <td>(7:50) (Shotgun) T.Brady pass short middle to ...</td>\n",
       "      <td>R.Burkhead</td>\n",
       "      <td>2.0</td>\n",
       "      <td>10</td>\n",
       "      <td>0.0</td>\n",
       "      <td>1</td>\n",
       "      <td>0</td>\n",
       "    </tr>\n",
       "    <tr>\n",
       "      <th>455214</th>\n",
       "      <td>2019-09-08</td>\n",
       "      <td>NE</td>\n",
       "      <td>pass</td>\n",
       "      <td>left</td>\n",
       "      <td>(5:58) (Shotgun) T.Brady pass short left to P....</td>\n",
       "      <td>P.Dorsett</td>\n",
       "      <td>3.0</td>\n",
       "      <td>5</td>\n",
       "      <td>0.0</td>\n",
       "      <td>1</td>\n",
       "      <td>0</td>\n",
       "    </tr>\n",
       "    <tr>\n",
       "      <th>455215</th>\n",
       "      <td>2019-09-08</td>\n",
       "      <td>NE</td>\n",
       "      <td>pass</td>\n",
       "      <td>left</td>\n",
       "      <td>(5:35) (No Huddle, Shotgun) J.Edelman pass sho...</td>\n",
       "      <td>J.White</td>\n",
       "      <td>1.0</td>\n",
       "      <td>10</td>\n",
       "      <td>0.0</td>\n",
       "      <td>1</td>\n",
       "      <td>1</td>\n",
       "    </tr>\n",
       "  </tbody>\n",
       "</table>\n",
       "</div>"
      ],
      "text/plain": [
       "         game_date posteam play_type pass_location  \\\n",
       "455199  2019-09-08      NE      pass        middle   \n",
       "455209  2019-09-08      NE      pass          left   \n",
       "455210  2019-09-08      NE      pass        middle   \n",
       "455214  2019-09-08      NE      pass          left   \n",
       "455215  2019-09-08      NE      pass          left   \n",
       "\n",
       "                                                     desc  \\\n",
       "455199  (12:06) (Shotgun) T.Brady pass incomplete deep...   \n",
       "455209  (7:54) (Shotgun) T.Brady pass incomplete short...   \n",
       "455210  (7:50) (Shotgun) T.Brady pass short middle to ...   \n",
       "455214  (5:58) (Shotgun) T.Brady pass short left to P....   \n",
       "455215  (5:35) (No Huddle, Shotgun) J.Edelman pass sho...   \n",
       "\n",
       "       receiver_player_name  down  ydstogo  score_differential  shotgun  \\\n",
       "455199            J.Edelman   3.0       10                 0.0        1   \n",
       "455209            J.Edelman   1.0       10                 0.0        1   \n",
       "455210           R.Burkhead   2.0       10                 0.0        1   \n",
       "455214            P.Dorsett   3.0        5                 0.0        1   \n",
       "455215              J.White   1.0       10                 0.0        1   \n",
       "\n",
       "        no_huddle  \n",
       "455199          0  \n",
       "455209          0  \n",
       "455210          0  \n",
       "455214          0  \n",
       "455215          1  "
      ]
     },
     "execution_count": 69,
     "metadata": {},
     "output_type": "execute_result"
    }
   ],
   "source": [
    "NE_passing.head()"
   ]
  },
  {
   "cell_type": "code",
   "execution_count": 70,
   "metadata": {
    "scrolled": false
   },
   "outputs": [
    {
     "data": {
      "image/png": "[encoded data removed]",
      "text/plain": [
       "<Figure size 360x360 with 1 Axes>"
      ]
     },
     "metadata": {
      "needs_background": "light"
     },
     "output_type": "display_data"
    }
   ],
   "source": [
    "sns.catplot(x=\"pass_location\", kind=\"count\", data=NE_passing);\n",
    "plt.title('New England Patriots Pass Breakdown ')\n",
    "plt.show()"
   ]
  },
  {
   "cell_type": "code",
   "execution_count": 71,
   "metadata": {},
   "outputs": [
    {
     "name": "stdout",
     "output_type": "stream",
     "text": [
      "Number of passes short right: 200\n",
      "Number of passes short left: 201\n",
      "Number of passes short middle: 116\n"
     ]
    }
   ],
   "source": [
    "print(\"Number of passes short right:\" ,len(short_right)) \n",
    "print(\"Number of passes short left:\"    ,len(short_left) )\n",
    "print(\"Number of passes short middle:\" ,len(short_middle))"
   ]
  },
  {
   "cell_type": "code",
   "execution_count": 72,
   "metadata": {},
   "outputs": [
    {
     "name": "stdout",
     "output_type": "stream",
     "text": [
      "Number of passes deep right: 37\n",
      "Number of passes deep left: 37\n",
      "Number of passes deep middle: 23\n"
     ]
    }
   ],
   "source": [
    "print(\"Number of passes deep right:\" ,len(deep_right)) \n",
    "print(\"Number of passes deep left:\"    ,len(deep_left) )\n",
    "print(\"Number of passes deep middle:\" ,len(deep_middle))"
   ]
  },
  {
   "cell_type": "code",
   "execution_count": 73,
   "metadata": {},
   "outputs": [],
   "source": [
    "Edelman_catching = passing[(passing.game_date.str.contains('2019')) & (passing.posteam == 'NE') & \n",
    "                  (passing.down.isin(range(1,5))) &  (passing.play_type == 'pass') & \n",
    "                           (passing.receiver_player_name == 'J.Edelman')]\n",
    "\n",
    "White_catching = passing[(passing.game_date.str.contains('2019')) & (passing.posteam == 'NE') & \n",
    "                  (passing.down.isin(range(1,5))) &  (passing.play_type == 'pass') & \n",
    "                           (passing.receiver_player_name == 'J.White')]"
   ]
  },
  {
   "cell_type": "code",
   "execution_count": 74,
   "metadata": {},
   "outputs": [
    {
     "data": {
      "image/png": "[encoded data removed]",
      "text/plain": [
       "<Figure size 360x360 with 1 Axes>"
      ]
     },
     "metadata": {
      "needs_background": "light"
     },
     "output_type": "display_data"
    }
   ],
   "source": [
    "sns.catplot(x=\"pass_location\", kind=\"count\", data=Edelman_catching);\n",
    "plt.title('Julian Edelman Pass Breakdown ')\n",
    "plt.show()"
   ]
  },
  {
   "cell_type": "code",
   "execution_count": 75,
   "metadata": {},
   "outputs": [
    {
     "data": {
      "image/png": "[encoded data removed]",
      "text/plain": [
       "<Figure size 360x360 with 1 Axes>"
      ]
     },
     "metadata": {
      "needs_background": "light"
     },
     "output_type": "display_data"
    }
   ],
   "source": [
    "sns.catplot(x=\"pass_location\", kind=\"count\", data=White_catching);\n",
    "plt.title('James White Pass Breakdown ')\n",
    "plt.show()"
   ]
  },
  {
   "cell_type": "markdown",
   "metadata": {},
   "source": [
    "### Patriots pass short right and short left the most as well as equally. \n",
    "\n",
    "### The Patriots also pass deep right and left equally. \n"
   ]
  },
  {
   "cell_type": "markdown",
   "metadata": {},
   "source": [
    "# New Orleans Saints Data and Model"
   ]
  },
  {
   "cell_type": "code",
   "execution_count": 76,
   "metadata": {},
   "outputs": [],
   "source": [
    "\n",
    "training_NO = df[(~df.game_date.str.contains('2019')) & (df.posteam == 'NO') & (df.down.isin(range(1,5))) & ((df.play_type == 'run') | (df.play_type == 'pass'))]\n",
    "\n",
    "testing_NO = df[(df.game_date.str.contains('2019')) & (df.posteam == 'NO') & (df.down.isin(range(1,5))) & ((df.play_type == 'run') | (df.play_type == 'pass'))]"
   ]
  },
  {
   "cell_type": "code",
   "execution_count": 77,
   "metadata": {},
   "outputs": [
    {
     "data": {
      "image/png": "[encoded data removed]",
      "text/plain": [
       "<Figure size 418.875x360 with 1 Axes>"
      ]
     },
     "metadata": {
      "needs_background": "light"
     },
     "output_type": "display_data"
    }
   ],
   "source": [
    "sns.catplot(x=\"down\", kind=\"count\", hue='play_type', data=training_NO);\n",
    "plt.title('New Orleans Saints Play Type on Downs vs Count (2009-2018)')\n",
    "plt.show()"
   ]
  },
  {
   "cell_type": "code",
   "execution_count": 78,
   "metadata": {},
   "outputs": [
    {
     "data": {
      "image/png": "[encoded data removed]",
      "text/plain": [
       "<Figure size 418.875x360 with 1 Axes>"
      ]
     },
     "metadata": {
      "needs_background": "light"
     },
     "output_type": "display_data"
    }
   ],
   "source": [
    "sns.catplot(x=\"down\", kind=\"count\", hue='play_type', data=testing_NO);\n",
    "plt.title('New Orleans Saints Play Type on Downs vs Count (2019)')\n",
    "\n",
    "plt.show()"
   ]
  },
  {
   "cell_type": "code",
   "execution_count": 79,
   "metadata": {
    "scrolled": false
   },
   "outputs": [
    {
     "data": {
      "image/png": "[encoded data removed]",
      "text/plain": [
       "<Figure size 720x360 with 1 Axes>"
      ]
     },
     "metadata": {
      "needs_background": "light"
     },
     "output_type": "display_data"
    }
   ],
   "source": [
    "sns.lmplot(x=\"ydstogo\", y=\"BinaryPlayType\", data=testing_NO, y_jitter=.03, logistic=True, aspect=2);\n",
    "plt.show()"
   ]
  },
  {
   "cell_type": "code",
   "execution_count": 80,
   "metadata": {},
   "outputs": [],
   "source": [
    "training_features_NO = training_NO[['yardline_100','quarter_seconds_remaining','half_seconds_remaining','game_seconds_remaining','qtr','down','goal_to_go','ydstogo','score_differential','shotgun','no_huddle']]\n",
    "\n",
    "training_label_NO = training_NO['play_type']\n",
    "\n",
    "testing_features_NO = testing_NO[['yardline_100','quarter_seconds_remaining','half_seconds_remaining','game_seconds_remaining','qtr','down','goal_to_go','ydstogo','score_differential','shotgun','no_huddle']]\n",
    "\n",
    "testing_label_NO = testing_NO['play_type']"
   ]
  },
  {
   "cell_type": "code",
   "execution_count": 81,
   "metadata": {},
   "outputs": [
    {
     "data": {
      "text/plain": [
       "GradientBoostingClassifier(criterion='friedman_mse', init=None,\n",
       "                           learning_rate=0.02, loss='deviance', max_depth=3,\n",
       "                           max_features=None, max_leaf_nodes=None,\n",
       "                           min_impurity_decrease=0.0, min_impurity_split=None,\n",
       "                           min_samples_leaf=1, min_samples_split=2,\n",
       "                           min_weight_fraction_leaf=0.0, n_estimators=100,\n",
       "                           n_iter_no_change=None, presort='auto',\n",
       "                           random_state=None, subsample=1.0, tol=0.0001,\n",
       "                           validation_fraction=0.1, verbose=0,\n",
       "                           warm_start=False)"
      ]
     },
     "execution_count": 81,
     "metadata": {},
     "output_type": "execute_result"
    }
   ],
   "source": [
    "gbr_NO = ensemble.GradientBoostingClassifier(n_estimators = 100, learning_rate = 0.02)\n",
    "\n",
    "gbr_NO.fit(training_features_NO, training_label_NO)"
   ]
  },
  {
   "cell_type": "code",
   "execution_count": 82,
   "metadata": {},
   "outputs": [
    {
     "name": "stdout",
     "output_type": "stream",
     "text": [
      "Accuracy: 75.89%\n"
     ]
    }
   ],
   "source": [
    "prediction_NO = gbr_NO.predict(testing_features_NO)\n",
    "\n",
    "accuracy_NO = accuracy_score(testing_label_NO, prediction_NO)\n",
    "\n",
    "print(\"Accuracy: \"+\"{:.2%}\".format(accuracy_NO))"
   ]
  },
  {
   "cell_type": "code",
   "execution_count": 83,
   "metadata": {
    "scrolled": true
   },
   "outputs": [
    {
     "name": "stdout",
     "output_type": "stream",
     "text": [
      "              precision    recall  f1-score   support\n",
      "\n",
      "        pass       0.84      0.75      0.79       598\n",
      "         run       0.67      0.77      0.71       385\n",
      "\n",
      "    accuracy                           0.76       983\n",
      "   macro avg       0.75      0.76      0.75       983\n",
      "weighted avg       0.77      0.76      0.76       983\n",
      "\n"
     ]
    }
   ],
   "source": [
    "print(classification_report(testing_label_NO, prediction_NO))"
   ]
  },
  {
   "cell_type": "markdown",
   "metadata": {},
   "source": [
    "# Confusion Matrix for New Orleans Saints "
   ]
  },
  {
   "cell_type": "code",
   "execution_count": 98,
   "metadata": {},
   "outputs": [
    {
     "name": "stdout",
     "output_type": "stream",
     "text": [
      "[[449 149]\n",
      " [ 88 297]]\n"
     ]
    }
   ],
   "source": [
    "cm_NO = metrics.confusion_matrix(testing_label_NO, prediction_NO) #quick confusion matrix \n",
    "print(cm_NO)"
   ]
  },
  {
   "cell_type": "code",
   "execution_count": 101,
   "metadata": {},
   "outputs": [
    {
     "data": {
      "image/png": "[encoded data removed]",
      "text/plain": [
       "<Figure size 432x432 with 2 Axes>"
      ]
     },
     "metadata": {
      "needs_background": "light"
     },
     "output_type": "display_data"
    }
   ],
   "source": [
    "from itertools import *\n",
    "#confusion matrix plot\n",
    "def plot_confusion_matrix(testing_label_NO,prediction_NO, classes,\n",
    "                          normalize=False,\n",
    "                          title='Confusion Matrix for New Orleans Saints',\n",
    "                          cmap=plt.cm.Blues):\n",
    "   \n",
    "    plt.figure(figsize = (6,6))\n",
    "    plt.imshow(cm_NO, interpolation='nearest', cmap=cmap)\n",
    "    plt.title(title)\n",
    "    plt.colorbar()\n",
    "    tick_marks = np.arange(len(classes))\n",
    "    plt.xticks(tick_marks, classes, rotation=90,size = 12)\n",
    "    plt.yticks(tick_marks, classes,size = 12)\n",
    "    plt.ylim([1.5, -.5])\n",
    "    \n",
    "    thresh = cm_NO.max() / 2.\n",
    "    \n",
    "    \n",
    "    for i in range (cm_NO.shape[0]):\n",
    "        for j in range (cm_NO.shape[1]):\n",
    "            \n",
    "            plt.text(j, i, cm_NO[i, j],fontsize=45,\n",
    "                 horizontalalignment=\"center\",\n",
    "                 color=\"white\" if cm_NO[i, j] > thresh else \"black\")\n",
    "    \n",
    "    plt.tight_layout()\n",
    "    plt.ylabel('True label')\n",
    "    plt.xlabel('Predicted label')\n",
    "dict_characters = {0: 'Run', 1: 'Pass'}    \n",
    "plot_confusion_matrix(testing_label_NO,prediction_NO, classes = list(dict_characters.values())) \n",
    "plt.show()"
   ]
  },
  {
   "cell_type": "code",
   "execution_count": 84,
   "metadata": {},
   "outputs": [
    {
     "data": {
      "image/png": "[encoded data removed]",
      "text/plain": [
       "<Figure size 432x288 with 1 Axes>"
      ]
     },
     "metadata": {
      "needs_background": "light"
     },
     "output_type": "display_data"
    }
   ],
   "source": [
    "features = ['yl_100', 'q_sec', 'h_sec', 'g_sec', 'qtr', 'down' ,'g2g', 'yd2g', 'sd', 'shot', 'nh'] \n",
    "\n",
    "feature_importance = gbr_NO.feature_importances_.tolist()\n",
    "# the higher the more important the feature \n",
    "\n",
    "plt.bar(features,feature_importance)\n",
    "plt.title(\"gradient boosting classifier: feature importance\")\n",
    "plt.show()"
   ]
  },
  {
   "cell_type": "code",
   "execution_count": 85,
   "metadata": {},
   "outputs": [],
   "source": [
    "\n",
    "\n",
    "shotgun_NO = df[(df.game_date.str.contains('2019')) & (df.posteam == 'NO') & (df.down.isin(range(1,5))) & ((df.play_type == 'run') | (df.play_type == 'pass')) & (df.shotgun == 1)]\n"
   ]
  },
  {
   "cell_type": "code",
   "execution_count": 86,
   "metadata": {},
   "outputs": [
    {
     "data": {
      "text/html": [
       "<div>\n",
       "<style scoped>\n",
       "    .dataframe tbody tr th:only-of-type {\n",
       "        vertical-align: middle;\n",
       "    }\n",
       "\n",
       "    .dataframe tbody tr th {\n",
       "        vertical-align: top;\n",
       "    }\n",
       "\n",
       "    .dataframe thead th {\n",
       "        text-align: right;\n",
       "    }\n",
       "</style>\n",
       "<table border=\"1\" class=\"dataframe\">\n",
       "  <thead>\n",
       "    <tr style=\"text-align: right;\">\n",
       "      <th></th>\n",
       "      <th>game_date</th>\n",
       "      <th>posteam</th>\n",
       "      <th>yardline_100</th>\n",
       "      <th>quarter_seconds_remaining</th>\n",
       "      <th>half_seconds_remaining</th>\n",
       "      <th>game_seconds_remaining</th>\n",
       "      <th>qtr</th>\n",
       "      <th>down</th>\n",
       "      <th>goal_to_go</th>\n",
       "      <th>ydstogo</th>\n",
       "      <th>play_type</th>\n",
       "      <th>score_differential</th>\n",
       "      <th>shotgun</th>\n",
       "      <th>no_huddle</th>\n",
       "      <th>BinaryPlayType</th>\n",
       "    </tr>\n",
       "  </thead>\n",
       "  <tbody>\n",
       "    <tr>\n",
       "      <th>455378</th>\n",
       "      <td>2019-09-09</td>\n",
       "      <td>NO</td>\n",
       "      <td>86.0</td>\n",
       "      <td>759.0</td>\n",
       "      <td>1659.0</td>\n",
       "      <td>3459.0</td>\n",
       "      <td>1</td>\n",
       "      <td>1.0</td>\n",
       "      <td>0.0</td>\n",
       "      <td>10</td>\n",
       "      <td>pass</td>\n",
       "      <td>0.0</td>\n",
       "      <td>1</td>\n",
       "      <td>0</td>\n",
       "      <td>1</td>\n",
       "    </tr>\n",
       "    <tr>\n",
       "      <th>455379</th>\n",
       "      <td>2019-09-09</td>\n",
       "      <td>NO</td>\n",
       "      <td>77.0</td>\n",
       "      <td>719.0</td>\n",
       "      <td>1619.0</td>\n",
       "      <td>3419.0</td>\n",
       "      <td>1</td>\n",
       "      <td>2.0</td>\n",
       "      <td>0.0</td>\n",
       "      <td>1</td>\n",
       "      <td>pass</td>\n",
       "      <td>0.0</td>\n",
       "      <td>1</td>\n",
       "      <td>0</td>\n",
       "      <td>1</td>\n",
       "    </tr>\n",
       "    <tr>\n",
       "      <th>455380</th>\n",
       "      <td>2019-09-09</td>\n",
       "      <td>NO</td>\n",
       "      <td>53.0</td>\n",
       "      <td>683.0</td>\n",
       "      <td>1583.0</td>\n",
       "      <td>3383.0</td>\n",
       "      <td>1</td>\n",
       "      <td>1.0</td>\n",
       "      <td>0.0</td>\n",
       "      <td>10</td>\n",
       "      <td>pass</td>\n",
       "      <td>0.0</td>\n",
       "      <td>1</td>\n",
       "      <td>0</td>\n",
       "      <td>1</td>\n",
       "    </tr>\n",
       "    <tr>\n",
       "      <th>455382</th>\n",
       "      <td>2019-09-09</td>\n",
       "      <td>NO</td>\n",
       "      <td>49.0</td>\n",
       "      <td>598.0</td>\n",
       "      <td>1498.0</td>\n",
       "      <td>3298.0</td>\n",
       "      <td>1</td>\n",
       "      <td>3.0</td>\n",
       "      <td>0.0</td>\n",
       "      <td>6</td>\n",
       "      <td>pass</td>\n",
       "      <td>0.0</td>\n",
       "      <td>1</td>\n",
       "      <td>0</td>\n",
       "      <td>1</td>\n",
       "    </tr>\n",
       "    <tr>\n",
       "      <th>455389</th>\n",
       "      <td>2019-09-09</td>\n",
       "      <td>NO</td>\n",
       "      <td>49.0</td>\n",
       "      <td>417.0</td>\n",
       "      <td>1317.0</td>\n",
       "      <td>3117.0</td>\n",
       "      <td>1</td>\n",
       "      <td>1.0</td>\n",
       "      <td>0.0</td>\n",
       "      <td>10</td>\n",
       "      <td>run</td>\n",
       "      <td>0.0</td>\n",
       "      <td>1</td>\n",
       "      <td>0</td>\n",
       "      <td>0</td>\n",
       "    </tr>\n",
       "  </tbody>\n",
       "</table>\n",
       "</div>"
      ],
      "text/plain": [
       "         game_date posteam  yardline_100  quarter_seconds_remaining  \\\n",
       "455378  2019-09-09      NO          86.0                      759.0   \n",
       "455379  2019-09-09      NO          77.0                      719.0   \n",
       "455380  2019-09-09      NO          53.0                      683.0   \n",
       "455382  2019-09-09      NO          49.0                      598.0   \n",
       "455389  2019-09-09      NO          49.0                      417.0   \n",
       "\n",
       "        half_seconds_remaining  game_seconds_remaining  qtr  down  goal_to_go  \\\n",
       "455378                  1659.0                  3459.0    1   1.0         0.0   \n",
       "455379                  1619.0                  3419.0    1   2.0         0.0   \n",
       "455380                  1583.0                  3383.0    1   1.0         0.0   \n",
       "455382                  1498.0                  3298.0    1   3.0         0.0   \n",
       "455389                  1317.0                  3117.0    1   1.0         0.0   \n",
       "\n",
       "        ydstogo play_type  score_differential  shotgun  no_huddle  \\\n",
       "455378       10      pass                 0.0        1          0   \n",
       "455379        1      pass                 0.0        1          0   \n",
       "455380       10      pass                 0.0        1          0   \n",
       "455382        6      pass                 0.0        1          0   \n",
       "455389       10       run                 0.0        1          0   \n",
       "\n",
       "        BinaryPlayType  \n",
       "455378               1  \n",
       "455379               1  \n",
       "455380               1  \n",
       "455382               1  \n",
       "455389               0  "
      ]
     },
     "execution_count": 86,
     "metadata": {},
     "output_type": "execute_result"
    }
   ],
   "source": [
    "shotgun_NO.head()"
   ]
  },
  {
   "cell_type": "code",
   "execution_count": 87,
   "metadata": {},
   "outputs": [
    {
     "data": {
      "image/png": "[encoded data removed]",
      "text/plain": [
       "<Figure size 432x288 with 1 Axes>"
      ]
     },
     "metadata": {
      "needs_background": "light"
     },
     "output_type": "display_data"
    }
   ],
   "source": [
    "ax = sns.countplot(x=\"shotgun\",hue='play_type', data=shotgun_NO)\n",
    "plt.title(\"New Orleans Saints' 2019 shotgun formation play-type distribution\")\n",
    "plt.xlabel('Shotgun Formation')\n",
    "\n",
    "total = len(shotgun_NO)\n",
    "for p in ax.patches:\n",
    "    height = p.get_height()\n",
    "    percentage = '{:.1f}%'.format(100 * p.get_width()/total)\n",
    "    ax.text(p.get_x()+p.get_width()/2.,\n",
    "    height + 3,'{:1.2f}'.format(height/total),ha=\"center\") \n",
    "\n",
    "plt.show()"
   ]
  },
  {
   "cell_type": "markdown",
   "metadata": {},
   "source": [
    "### These colors/columns are switched because pass is the first data entry in the saints data where as run is the first data entry in the Patriots data. "
   ]
  },
  {
   "cell_type": "markdown",
   "metadata": {},
   "source": [
    "# New Orleans Saints QB Target Distribution"
   ]
  },
  {
   "cell_type": "code",
   "execution_count": 88,
   "metadata": {
    "scrolled": true
   },
   "outputs": [
    {
     "data": {
      "text/html": [
       "<div>\n",
       "<style scoped>\n",
       "    .dataframe tbody tr th:only-of-type {\n",
       "        vertical-align: middle;\n",
       "    }\n",
       "\n",
       "    .dataframe tbody tr th {\n",
       "        vertical-align: top;\n",
       "    }\n",
       "\n",
       "    .dataframe thead th {\n",
       "        text-align: right;\n",
       "    }\n",
       "</style>\n",
       "<table border=\"1\" class=\"dataframe\">\n",
       "  <thead>\n",
       "    <tr style=\"text-align: right;\">\n",
       "      <th></th>\n",
       "      <th>game_date</th>\n",
       "      <th>posteam</th>\n",
       "      <th>play_type</th>\n",
       "      <th>desc</th>\n",
       "      <th>down</th>\n",
       "      <th>ydstogo</th>\n",
       "      <th>score_differential</th>\n",
       "      <th>shotgun</th>\n",
       "      <th>no_huddle</th>\n",
       "    </tr>\n",
       "  </thead>\n",
       "  <tbody>\n",
       "    <tr>\n",
       "      <th>496751</th>\n",
       "      <td>2019-12-29</td>\n",
       "      <td>NO</td>\n",
       "      <td>run</td>\n",
       "      <td>(12:50) W.Clapp reported in as eligible.  D.Wa...</td>\n",
       "      <td>2.0</td>\n",
       "      <td>11</td>\n",
       "      <td>32.0</td>\n",
       "      <td>0</td>\n",
       "      <td>0</td>\n",
       "    </tr>\n",
       "    <tr>\n",
       "      <th>496752</th>\n",
       "      <td>2019-12-29</td>\n",
       "      <td>NO</td>\n",
       "      <td>pass</td>\n",
       "      <td>(12:17) (Shotgun) T.Bridgewater sacked at NO 3...</td>\n",
       "      <td>3.0</td>\n",
       "      <td>8</td>\n",
       "      <td>32.0</td>\n",
       "      <td>1</td>\n",
       "      <td>0</td>\n",
       "    </tr>\n",
       "    <tr>\n",
       "      <th>496761</th>\n",
       "      <td>2019-12-29</td>\n",
       "      <td>NO</td>\n",
       "      <td>run</td>\n",
       "      <td>(8:33) W.Clapp reported in as eligible.  L.Mur...</td>\n",
       "      <td>1.0</td>\n",
       "      <td>10</td>\n",
       "      <td>32.0</td>\n",
       "      <td>0</td>\n",
       "      <td>0</td>\n",
       "    </tr>\n",
       "    <tr>\n",
       "      <th>496762</th>\n",
       "      <td>2019-12-29</td>\n",
       "      <td>NO</td>\n",
       "      <td>run</td>\n",
       "      <td>(7:53) L.Murray left guard to NO 24 for -7 yar...</td>\n",
       "      <td>2.0</td>\n",
       "      <td>6</td>\n",
       "      <td>32.0</td>\n",
       "      <td>0</td>\n",
       "      <td>0</td>\n",
       "    </tr>\n",
       "    <tr>\n",
       "      <th>496763</th>\n",
       "      <td>2019-12-29</td>\n",
       "      <td>NO</td>\n",
       "      <td>run</td>\n",
       "      <td>(7:09) L.Murray up the middle to NO 31 for 7 y...</td>\n",
       "      <td>3.0</td>\n",
       "      <td>13</td>\n",
       "      <td>32.0</td>\n",
       "      <td>0</td>\n",
       "      <td>0</td>\n",
       "    </tr>\n",
       "  </tbody>\n",
       "</table>\n",
       "</div>"
      ],
      "text/plain": [
       "         game_date posteam play_type  \\\n",
       "496751  2019-12-29      NO       run   \n",
       "496752  2019-12-29      NO      pass   \n",
       "496761  2019-12-29      NO       run   \n",
       "496762  2019-12-29      NO       run   \n",
       "496763  2019-12-29      NO       run   \n",
       "\n",
       "                                                     desc  down  ydstogo  \\\n",
       "496751  (12:50) W.Clapp reported in as eligible.  D.Wa...   2.0       11   \n",
       "496752  (12:17) (Shotgun) T.Bridgewater sacked at NO 3...   3.0        8   \n",
       "496761  (8:33) W.Clapp reported in as eligible.  L.Mur...   1.0       10   \n",
       "496762  (7:53) L.Murray left guard to NO 24 for -7 yar...   2.0        6   \n",
       "496763  (7:09) L.Murray up the middle to NO 31 for 7 y...   3.0       13   \n",
       "\n",
       "        score_differential  shotgun  no_huddle  \n",
       "496751                32.0        0          0  \n",
       "496752                32.0        1          0  \n",
       "496761                32.0        0          0  \n",
       "496762                32.0        0          0  \n",
       "496763                32.0        0          0  "
      ]
     },
     "execution_count": 88,
     "metadata": {},
     "output_type": "execute_result"
    }
   ],
   "source": [
    "Saints_target = target[(target.game_date.str.contains('2019')) & (target.posteam == 'NO') & (target.down.isin(range(1,5))) & ((target.play_type == 'run') | (target.play_type == 'pass'))]\n",
    "Saints_target.tail()"
   ]
  },
  {
   "cell_type": "markdown",
   "metadata": {},
   "source": [
    "### Saints top passing targets are Michael Thomas and Alvin Kamara "
   ]
  },
  {
   "cell_type": "code",
   "execution_count": 89,
   "metadata": {},
   "outputs": [],
   "source": [
    "Thomas_targets = Saints_target[(Saints_target.desc.str.contains('to M.Thomas'))] #WR\n",
    "Kamara_targets = Saints_target[(Saints_target.desc.str.contains('to A.Kamara'))] #RB\n",
    "Cook_targets = Saints_target[(Saints_target.desc.str.contains('to J.Cook'))] #TE\n",
    "Ginn_targets = Saints_target[(Saints_target.desc.str.contains('to T.Ginn'))] #WR"
   ]
  },
  {
   "cell_type": "code",
   "execution_count": 90,
   "metadata": {
    "scrolled": true
   },
   "outputs": [
    {
     "name": "stdout",
     "output_type": "stream",
     "text": [
      "185\n"
     ]
    }
   ],
   "source": [
    "print(len(Thomas_targets))"
   ]
  },
  {
   "cell_type": "code",
   "execution_count": 91,
   "metadata": {},
   "outputs": [
    {
     "data": {
      "text/plain": [
       "55"
      ]
     },
     "execution_count": 91,
     "metadata": {},
     "output_type": "execute_result"
    }
   ],
   "source": [
    "len(Ginn_targets)"
   ]
  },
  {
   "cell_type": "code",
   "execution_count": 92,
   "metadata": {
    "scrolled": true
   },
   "outputs": [
    {
     "name": "stdout",
     "output_type": "stream",
     "text": [
      "96\n"
     ]
    }
   ],
   "source": [
    "print(len(Kamara_targets))"
   ]
  },
  {
   "cell_type": "code",
   "execution_count": 93,
   "metadata": {},
   "outputs": [
    {
     "name": "stdout",
     "output_type": "stream",
     "text": [
      "64\n"
     ]
    }
   ],
   "source": [
    "print(len(Cook_targets))"
   ]
  },
  {
   "cell_type": "code",
   "execution_count": 94,
   "metadata": {},
   "outputs": [
    {
     "data": {
      "image/png": "[encoded data removed]",
      "text/plain": [
       "<Figure size 408.625x360 with 1 Axes>"
      ]
     },
     "metadata": {
      "needs_background": "light"
     },
     "output_type": "display_data"
    }
   ],
   "source": [
    "sns.catplot(x=\"down\", kind=\"count\", hue='shotgun', data=Thomas_targets);\n",
    "plt.title('Michael Thomas Total Targets per down')\n",
    "plt.show()"
   ]
  },
  {
   "cell_type": "code",
   "execution_count": 95,
   "metadata": {},
   "outputs": [
    {
     "data": {
      "image/png": "[encoded data removed]",
      "text/plain": [
       "<Figure size 408.625x360 with 1 Axes>"
      ]
     },
     "metadata": {
      "needs_background": "light"
     },
     "output_type": "display_data"
    }
   ],
   "source": [
    "sns.catplot(x=\"down\", kind=\"count\", hue='shotgun', data=Kamara_targets);\n",
    "plt.title('Alvin Kamara Total Targets per down')\n",
    "plt.show()"
   ]
  },
  {
   "cell_type": "code",
   "execution_count": 96,
   "metadata": {},
   "outputs": [
    {
     "data": {
      "image/png": "[encoded data removed]",
      "text/plain": [
       "<Figure size 408.625x360 with 1 Axes>"
      ]
     },
     "metadata": {
      "needs_background": "light"
     },
     "output_type": "display_data"
    }
   ],
   "source": [
    "sns.catplot(x=\"down\", kind=\"count\", hue='shotgun', data=Cook_targets);\n",
    "plt.title('Jared Cook Total Targets per down')\n",
    "plt.show()"
   ]
  },
  {
   "cell_type": "markdown",
   "metadata": {},
   "source": [
    "# Michael Thomas is one of the best WRs in the NFL currently and had a record season this year. So it is no surprise that the saints lean on him heavily. \n",
    "\n",
    "# In shotgun, the Saints look for Thomas pretty much on every down and Alvin Kamara, their pass catching RB, has been targeted alot on second down"
   ]
  },
  {
   "cell_type": "markdown",
   "metadata": {},
   "source": [
    "# New Orleans Saints Pass Breakdown"
   ]
  },
  {
   "cell_type": "code",
   "execution_count": 104,
   "metadata": {},
   "outputs": [],
   "source": [
    "NO_passing = passing[(passing.game_date.str.contains('2019')) & (passing.posteam == 'NO') & \n",
    "                  (passing.down.isin(range(1,5))) &  (passing.play_type == 'pass')]"
   ]
  },
  {
   "cell_type": "code",
   "execution_count": 105,
   "metadata": {},
   "outputs": [],
   "source": [
    "Thomas_catching = passing[(passing.game_date.str.contains('2019')) & (passing.posteam == 'NO') & \n",
    "                  (passing.down.isin(range(1,5))) &  (passing.play_type == 'pass')\n",
    "                         & (passing.receiver_player_name == 'M.Thomas')]\n",
    "\n",
    "Kamara_catching = passing[(passing.game_date.str.contains('2019')) & (passing.posteam == 'NO') & \n",
    "                  (passing.down.isin(range(1,5))) &  (passing.play_type == 'pass')\n",
    "                         & (passing.receiver_player_name == 'A.Kamara')]"
   ]
  },
  {
   "cell_type": "code",
   "execution_count": 106,
   "metadata": {},
   "outputs": [
    {
     "data": {
      "image/png": "[encoded data removed]",
      "text/plain": [
       "<Figure size 360x360 with 1 Axes>"
      ]
     },
     "metadata": {
      "needs_background": "light"
     },
     "output_type": "display_data"
    }
   ],
   "source": [
    "sns.catplot(x=\"pass_location\", kind=\"count\", data=NO_passing);\n",
    "plt.title('New Orleans Saints Pass Breakdown ')\n",
    "plt.show()"
   ]
  },
  {
   "cell_type": "code",
   "execution_count": 107,
   "metadata": {},
   "outputs": [
    {
     "data": {
      "image/png": "[encoded data removed]",
      "text/plain": [
       "<Figure size 360x360 with 1 Axes>"
      ]
     },
     "metadata": {
      "needs_background": "light"
     },
     "output_type": "display_data"
    }
   ],
   "source": [
    "sns.catplot(x=\"pass_location\", kind=\"count\", data=Thomas_catching);\n",
    "plt.title('Michael Thomas Pass Breakdown ')\n",
    "plt.show()"
   ]
  },
  {
   "cell_type": "code",
   "execution_count": 108,
   "metadata": {},
   "outputs": [
    {
     "data": {
      "image/png": "[encoded data removed]",
      "text/plain": [
       "<Figure size 360x360 with 1 Axes>"
      ]
     },
     "metadata": {
      "needs_background": "light"
     },
     "output_type": "display_data"
    }
   ],
   "source": [
    "sns.catplot(x=\"pass_location\", kind=\"count\", data=Kamara_catching);\n",
    "plt.title('Alvin Kamara Pass Breakdown ')\n",
    "plt.show()"
   ]
  },
  {
   "cell_type": "markdown",
   "metadata": {},
   "source": [
    "# New Orleans Running Back Distribution"
   ]
  },
  {
   "cell_type": "code",
   "execution_count": 109,
   "metadata": {},
   "outputs": [],
   "source": [
    "\n",
    "Saints_run = Saints_target[(Saints_target.play_type.str.contains('run'))]\n",
    "Kamara_run = Saints_run[(Saints_run.desc.str.contains('A.Kamara'))]\n",
    "Murray_run = Saints_run[(Saints_run.desc.str.contains('L.Murray'))]\n"
   ]
  },
  {
   "cell_type": "code",
   "execution_count": 110,
   "metadata": {
    "scrolled": true
   },
   "outputs": [
    {
     "data": {
      "text/html": [
       "<div>\n",
       "<style scoped>\n",
       "    .dataframe tbody tr th:only-of-type {\n",
       "        vertical-align: middle;\n",
       "    }\n",
       "\n",
       "    .dataframe tbody tr th {\n",
       "        vertical-align: top;\n",
       "    }\n",
       "\n",
       "    .dataframe thead th {\n",
       "        text-align: right;\n",
       "    }\n",
       "</style>\n",
       "<table border=\"1\" class=\"dataframe\">\n",
       "  <thead>\n",
       "    <tr style=\"text-align: right;\">\n",
       "      <th></th>\n",
       "      <th>game_date</th>\n",
       "      <th>posteam</th>\n",
       "      <th>play_type</th>\n",
       "      <th>desc</th>\n",
       "      <th>down</th>\n",
       "      <th>ydstogo</th>\n",
       "      <th>score_differential</th>\n",
       "      <th>shotgun</th>\n",
       "      <th>no_huddle</th>\n",
       "    </tr>\n",
       "  </thead>\n",
       "  <tbody>\n",
       "    <tr>\n",
       "      <th>455389</th>\n",
       "      <td>2019-09-09</td>\n",
       "      <td>NO</td>\n",
       "      <td>run</td>\n",
       "      <td>(6:57) (Shotgun) A.Kamara left tackle to HOU 4...</td>\n",
       "      <td>1.0</td>\n",
       "      <td>10</td>\n",
       "      <td>0.0</td>\n",
       "      <td>1</td>\n",
       "      <td>0</td>\n",
       "    </tr>\n",
       "    <tr>\n",
       "      <th>455392</th>\n",
       "      <td>2019-09-09</td>\n",
       "      <td>NO</td>\n",
       "      <td>run</td>\n",
       "      <td>(5:48) A.Kamara left end to HOU 27 for 1 yard ...</td>\n",
       "      <td>1.0</td>\n",
       "      <td>10</td>\n",
       "      <td>0.0</td>\n",
       "      <td>0</td>\n",
       "      <td>0</td>\n",
       "    </tr>\n",
       "    <tr>\n",
       "      <th>455395</th>\n",
       "      <td>2019-09-09</td>\n",
       "      <td>NO</td>\n",
       "      <td>run</td>\n",
       "      <td>(3:39) L.Murray left guard to HOU 11 for 5 yar...</td>\n",
       "      <td>1.0</td>\n",
       "      <td>10</td>\n",
       "      <td>0.0</td>\n",
       "      <td>0</td>\n",
       "      <td>0</td>\n",
       "    </tr>\n",
       "    <tr>\n",
       "      <th>455413</th>\n",
       "      <td>2019-09-09</td>\n",
       "      <td>NO</td>\n",
       "      <td>run</td>\n",
       "      <td>(12:22) A.Kamara left guard to HOU 22 for 5 ya...</td>\n",
       "      <td>1.0</td>\n",
       "      <td>10</td>\n",
       "      <td>-7.0</td>\n",
       "      <td>0</td>\n",
       "      <td>0</td>\n",
       "    </tr>\n",
       "    <tr>\n",
       "      <th>455414</th>\n",
       "      <td>2019-09-09</td>\n",
       "      <td>NO</td>\n",
       "      <td>run</td>\n",
       "      <td>(11:43) Lining up at quarterback is #7 T.Hill....</td>\n",
       "      <td>2.0</td>\n",
       "      <td>5</td>\n",
       "      <td>-7.0</td>\n",
       "      <td>1</td>\n",
       "      <td>0</td>\n",
       "    </tr>\n",
       "  </tbody>\n",
       "</table>\n",
       "</div>"
      ],
      "text/plain": [
       "         game_date posteam play_type  \\\n",
       "455389  2019-09-09      NO       run   \n",
       "455392  2019-09-09      NO       run   \n",
       "455395  2019-09-09      NO       run   \n",
       "455413  2019-09-09      NO       run   \n",
       "455414  2019-09-09      NO       run   \n",
       "\n",
       "                                                     desc  down  ydstogo  \\\n",
       "455389  (6:57) (Shotgun) A.Kamara left tackle to HOU 4...   1.0       10   \n",
       "455392  (5:48) A.Kamara left end to HOU 27 for 1 yard ...   1.0       10   \n",
       "455395  (3:39) L.Murray left guard to HOU 11 for 5 yar...   1.0       10   \n",
       "455413  (12:22) A.Kamara left guard to HOU 22 for 5 ya...   1.0       10   \n",
       "455414  (11:43) Lining up at quarterback is #7 T.Hill....   2.0        5   \n",
       "\n",
       "        score_differential  shotgun  no_huddle  \n",
       "455389                 0.0        1          0  \n",
       "455392                 0.0        0          0  \n",
       "455395                 0.0        0          0  \n",
       "455413                -7.0        0          0  \n",
       "455414                -7.0        1          0  "
      ]
     },
     "execution_count": 110,
     "metadata": {},
     "output_type": "execute_result"
    }
   ],
   "source": [
    "Saints_run.head()"
   ]
  },
  {
   "cell_type": "code",
   "execution_count": 111,
   "metadata": {},
   "outputs": [
    {
     "data": {
      "text/html": [
       "<div>\n",
       "<style scoped>\n",
       "    .dataframe tbody tr th:only-of-type {\n",
       "        vertical-align: middle;\n",
       "    }\n",
       "\n",
       "    .dataframe tbody tr th {\n",
       "        vertical-align: top;\n",
       "    }\n",
       "\n",
       "    .dataframe thead th {\n",
       "        text-align: right;\n",
       "    }\n",
       "</style>\n",
       "<table border=\"1\" class=\"dataframe\">\n",
       "  <thead>\n",
       "    <tr style=\"text-align: right;\">\n",
       "      <th></th>\n",
       "      <th>game_date</th>\n",
       "      <th>posteam</th>\n",
       "      <th>play_type</th>\n",
       "      <th>desc</th>\n",
       "      <th>down</th>\n",
       "      <th>ydstogo</th>\n",
       "      <th>score_differential</th>\n",
       "      <th>shotgun</th>\n",
       "      <th>no_huddle</th>\n",
       "    </tr>\n",
       "  </thead>\n",
       "  <tbody>\n",
       "    <tr>\n",
       "      <th>455389</th>\n",
       "      <td>2019-09-09</td>\n",
       "      <td>NO</td>\n",
       "      <td>run</td>\n",
       "      <td>(6:57) (Shotgun) A.Kamara left tackle to HOU 4...</td>\n",
       "      <td>1.0</td>\n",
       "      <td>10</td>\n",
       "      <td>0.0</td>\n",
       "      <td>1</td>\n",
       "      <td>0</td>\n",
       "    </tr>\n",
       "    <tr>\n",
       "      <th>455392</th>\n",
       "      <td>2019-09-09</td>\n",
       "      <td>NO</td>\n",
       "      <td>run</td>\n",
       "      <td>(5:48) A.Kamara left end to HOU 27 for 1 yard ...</td>\n",
       "      <td>1.0</td>\n",
       "      <td>10</td>\n",
       "      <td>0.0</td>\n",
       "      <td>0</td>\n",
       "      <td>0</td>\n",
       "    </tr>\n",
       "    <tr>\n",
       "      <th>455413</th>\n",
       "      <td>2019-09-09</td>\n",
       "      <td>NO</td>\n",
       "      <td>run</td>\n",
       "      <td>(12:22) A.Kamara left guard to HOU 22 for 5 ya...</td>\n",
       "      <td>1.0</td>\n",
       "      <td>10</td>\n",
       "      <td>-7.0</td>\n",
       "      <td>0</td>\n",
       "      <td>0</td>\n",
       "    </tr>\n",
       "    <tr>\n",
       "      <th>455414</th>\n",
       "      <td>2019-09-09</td>\n",
       "      <td>NO</td>\n",
       "      <td>run</td>\n",
       "      <td>(11:43) Lining up at quarterback is #7 T.Hill....</td>\n",
       "      <td>2.0</td>\n",
       "      <td>5</td>\n",
       "      <td>-7.0</td>\n",
       "      <td>1</td>\n",
       "      <td>0</td>\n",
       "    </tr>\n",
       "    <tr>\n",
       "      <th>455416</th>\n",
       "      <td>2019-09-09</td>\n",
       "      <td>NO</td>\n",
       "      <td>run</td>\n",
       "      <td>(10:17) A.Kamara left tackle to HOU 14 for 1 y...</td>\n",
       "      <td>1.0</td>\n",
       "      <td>10</td>\n",
       "      <td>-7.0</td>\n",
       "      <td>0</td>\n",
       "      <td>0</td>\n",
       "    </tr>\n",
       "  </tbody>\n",
       "</table>\n",
       "</div>"
      ],
      "text/plain": [
       "         game_date posteam play_type  \\\n",
       "455389  2019-09-09      NO       run   \n",
       "455392  2019-09-09      NO       run   \n",
       "455413  2019-09-09      NO       run   \n",
       "455414  2019-09-09      NO       run   \n",
       "455416  2019-09-09      NO       run   \n",
       "\n",
       "                                                     desc  down  ydstogo  \\\n",
       "455389  (6:57) (Shotgun) A.Kamara left tackle to HOU 4...   1.0       10   \n",
       "455392  (5:48) A.Kamara left end to HOU 27 for 1 yard ...   1.0       10   \n",
       "455413  (12:22) A.Kamara left guard to HOU 22 for 5 ya...   1.0       10   \n",
       "455414  (11:43) Lining up at quarterback is #7 T.Hill....   2.0        5   \n",
       "455416  (10:17) A.Kamara left tackle to HOU 14 for 1 y...   1.0       10   \n",
       "\n",
       "        score_differential  shotgun  no_huddle  \n",
       "455389                 0.0        1          0  \n",
       "455392                 0.0        0          0  \n",
       "455413                -7.0        0          0  \n",
       "455414                -7.0        1          0  \n",
       "455416                -7.0        0          0  "
      ]
     },
     "execution_count": 111,
     "metadata": {},
     "output_type": "execute_result"
    }
   ],
   "source": [
    "Kamara_run.head()"
   ]
  },
  {
   "cell_type": "code",
   "execution_count": 112,
   "metadata": {},
   "outputs": [
    {
     "data": {
      "text/html": [
       "<div>\n",
       "<style scoped>\n",
       "    .dataframe tbody tr th:only-of-type {\n",
       "        vertical-align: middle;\n",
       "    }\n",
       "\n",
       "    .dataframe tbody tr th {\n",
       "        vertical-align: top;\n",
       "    }\n",
       "\n",
       "    .dataframe thead th {\n",
       "        text-align: right;\n",
       "    }\n",
       "</style>\n",
       "<table border=\"1\" class=\"dataframe\">\n",
       "  <thead>\n",
       "    <tr style=\"text-align: right;\">\n",
       "      <th></th>\n",
       "      <th>game_date</th>\n",
       "      <th>posteam</th>\n",
       "      <th>play_type</th>\n",
       "      <th>desc</th>\n",
       "      <th>down</th>\n",
       "      <th>ydstogo</th>\n",
       "      <th>score_differential</th>\n",
       "      <th>shotgun</th>\n",
       "      <th>no_huddle</th>\n",
       "    </tr>\n",
       "  </thead>\n",
       "  <tbody>\n",
       "    <tr>\n",
       "      <th>455395</th>\n",
       "      <td>2019-09-09</td>\n",
       "      <td>NO</td>\n",
       "      <td>run</td>\n",
       "      <td>(3:39) L.Murray left guard to HOU 11 for 5 yar...</td>\n",
       "      <td>1.0</td>\n",
       "      <td>10</td>\n",
       "      <td>0.0</td>\n",
       "      <td>0</td>\n",
       "      <td>0</td>\n",
       "    </tr>\n",
       "    <tr>\n",
       "      <th>455457</th>\n",
       "      <td>2019-09-09</td>\n",
       "      <td>NO</td>\n",
       "      <td>run</td>\n",
       "      <td>(14:22) L.Murray left tackle to NO 29 for 1 ya...</td>\n",
       "      <td>1.0</td>\n",
       "      <td>10</td>\n",
       "      <td>-11.0</td>\n",
       "      <td>0</td>\n",
       "      <td>0</td>\n",
       "    </tr>\n",
       "    <tr>\n",
       "      <th>455460</th>\n",
       "      <td>2019-09-09</td>\n",
       "      <td>NO</td>\n",
       "      <td>run</td>\n",
       "      <td>(12:57) (Shotgun) L.Murray left guard for 30 y...</td>\n",
       "      <td>2.0</td>\n",
       "      <td>10</td>\n",
       "      <td>-11.0</td>\n",
       "      <td>1</td>\n",
       "      <td>0</td>\n",
       "    </tr>\n",
       "    <tr>\n",
       "      <th>455477</th>\n",
       "      <td>2019-09-09</td>\n",
       "      <td>NO</td>\n",
       "      <td>run</td>\n",
       "      <td>(7:03) L.Murray right guard to NO 47 for 4 yar...</td>\n",
       "      <td>2.0</td>\n",
       "      <td>3</td>\n",
       "      <td>-11.0</td>\n",
       "      <td>0</td>\n",
       "      <td>0</td>\n",
       "    </tr>\n",
       "    <tr>\n",
       "      <th>455509</th>\n",
       "      <td>2019-09-09</td>\n",
       "      <td>NO</td>\n",
       "      <td>run</td>\n",
       "      <td>(9:56) L.Murray right tackle to NO 45 for -1 y...</td>\n",
       "      <td>1.0</td>\n",
       "      <td>10</td>\n",
       "      <td>3.0</td>\n",
       "      <td>0</td>\n",
       "      <td>0</td>\n",
       "    </tr>\n",
       "  </tbody>\n",
       "</table>\n",
       "</div>"
      ],
      "text/plain": [
       "         game_date posteam play_type  \\\n",
       "455395  2019-09-09      NO       run   \n",
       "455457  2019-09-09      NO       run   \n",
       "455460  2019-09-09      NO       run   \n",
       "455477  2019-09-09      NO       run   \n",
       "455509  2019-09-09      NO       run   \n",
       "\n",
       "                                                     desc  down  ydstogo  \\\n",
       "455395  (3:39) L.Murray left guard to HOU 11 for 5 yar...   1.0       10   \n",
       "455457  (14:22) L.Murray left tackle to NO 29 for 1 ya...   1.0       10   \n",
       "455460  (12:57) (Shotgun) L.Murray left guard for 30 y...   2.0       10   \n",
       "455477  (7:03) L.Murray right guard to NO 47 for 4 yar...   2.0        3   \n",
       "455509  (9:56) L.Murray right tackle to NO 45 for -1 y...   1.0       10   \n",
       "\n",
       "        score_differential  shotgun  no_huddle  \n",
       "455395                 0.0        0          0  \n",
       "455457               -11.0        0          0  \n",
       "455460               -11.0        1          0  \n",
       "455477               -11.0        0          0  \n",
       "455509                 3.0        0          0  "
      ]
     },
     "execution_count": 112,
     "metadata": {},
     "output_type": "execute_result"
    }
   ],
   "source": [
    "Murray_run.head()"
   ]
  },
  {
   "cell_type": "code",
   "execution_count": 113,
   "metadata": {},
   "outputs": [
    {
     "data": {
      "image/png": "[encoded data removed]",
      "text/plain": [
       "<Figure size 408.625x360 with 1 Axes>"
      ]
     },
     "metadata": {
      "needs_background": "light"
     },
     "output_type": "display_data"
    }
   ],
   "source": [
    "sns.catplot(x=\"down\", kind=\"count\", hue='shotgun', data=Saints_run);\n",
    "plt.title('Saints Run Plays')\n",
    "plt.show()"
   ]
  },
  {
   "cell_type": "code",
   "execution_count": 114,
   "metadata": {},
   "outputs": [
    {
     "data": {
      "image/png": "[encoded data removed]",
      "text/plain": [
       "<Figure size 408.625x360 with 1 Axes>"
      ]
     },
     "metadata": {
      "needs_background": "light"
     },
     "output_type": "display_data"
    }
   ],
   "source": [
    "sns.catplot(x=\"down\", kind=\"count\", hue='shotgun', data=Kamara_run);\n",
    "plt.title('Kamara Run Plays')\n",
    "plt.show()"
   ]
  },
  {
   "cell_type": "code",
   "execution_count": 115,
   "metadata": {
    "scrolled": true
   },
   "outputs": [
    {
     "data": {
      "image/png": "[encoded data removed]",
      "text/plain": [
       "<Figure size 408.625x360 with 1 Axes>"
      ]
     },
     "metadata": {
      "needs_background": "light"
     },
     "output_type": "display_data"
    }
   ],
   "source": [
    "sns.catplot(x=\"down\", kind=\"count\", hue='shotgun', data=Murray_run);\n",
    "plt.title('Murray Run Plays')\n",
    "plt.show()"
   ]
  },
  {
   "cell_type": "code",
   "execution_count": 117,
   "metadata": {},
   "outputs": [
    {
     "name": "stdout",
     "output_type": "stream",
     "text": [
      "<class 'pandas.core.frame.DataFrame'>\n",
      "Int64Index: 146 entries, 455395 to 496763\n",
      "Data columns (total 9 columns):\n",
      "game_date             146 non-null object\n",
      "posteam               146 non-null object\n",
      "play_type             146 non-null object\n",
      "desc                  146 non-null object\n",
      "down                  146 non-null float64\n",
      "ydstogo               146 non-null int64\n",
      "score_differential    146 non-null float64\n",
      "shotgun               146 non-null int64\n",
      "no_huddle             146 non-null int64\n",
      "dtypes: float64(2), int64(3), object(4)\n",
      "memory usage: 16.4+ KB\n"
     ]
    }
   ],
   "source": [
    "Murray_run.info()"
   ]
  },
  {
   "cell_type": "code",
   "execution_count": 118,
   "metadata": {},
   "outputs": [
    {
     "name": "stdout",
     "output_type": "stream",
     "text": [
      "<class 'pandas.core.frame.DataFrame'>\n",
      "Int64Index: 171 entries, 455389 to 496668\n",
      "Data columns (total 9 columns):\n",
      "game_date             171 non-null object\n",
      "posteam               171 non-null object\n",
      "play_type             171 non-null object\n",
      "desc                  171 non-null object\n",
      "down                  171 non-null float64\n",
      "ydstogo               171 non-null int64\n",
      "score_differential    171 non-null float64\n",
      "shotgun               171 non-null int64\n",
      "no_huddle             171 non-null int64\n",
      "dtypes: float64(2), int64(3), object(4)\n",
      "memory usage: 18.4+ KB\n"
     ]
    }
   ],
   "source": [
    "Kamara_run.info()"
   ]
  },
  {
   "cell_type": "markdown",
   "metadata": {},
   "source": [
    "### Kamara is used on first down run situations and also some in shotgun ie Draw Plays. But the load of run plays are split between Murray and Kamara. I think this is because Murray is used more for short yard situations and Kamara is used more to keep the defense in more pass defense packages. "
   ]
  },
  {
   "cell_type": "markdown",
   "metadata": {},
   "source": [
    "# Using New England Patriots (2009-2018) data to predict New Orleans Saints (2019) "
   ]
  },
  {
   "cell_type": "markdown",
   "metadata": {},
   "source": [
    "## I am interested to see if the Patriots training data set can be used to predict New Orleans Saints offensive play calling. As we have learned, they differ in how they spread the ball out and how the run game is distributed. "
   ]
  },
  {
   "cell_type": "code",
   "execution_count": 119,
   "metadata": {},
   "outputs": [],
   "source": [
    "training_NE = df[(~df.game_date.str.contains('2019')) & (df.posteam == 'NE') & (df.down.isin(range(1,5))) & ((df.play_type == 'run') | (df.play_type == 'pass'))]\n",
    "\n",
    "testing_NE_NO = df[(df.game_date.str.contains('2019')) & (df.posteam == 'NO') & (df.down.isin(range(1,5))) & ((df.play_type == 'run') | (df.play_type == 'pass'))]"
   ]
  },
  {
   "cell_type": "code",
   "execution_count": 120,
   "metadata": {},
   "outputs": [
    {
     "data": {
      "text/html": [
       "<div>\n",
       "<style scoped>\n",
       "    .dataframe tbody tr th:only-of-type {\n",
       "        vertical-align: middle;\n",
       "    }\n",
       "\n",
       "    .dataframe tbody tr th {\n",
       "        vertical-align: top;\n",
       "    }\n",
       "\n",
       "    .dataframe thead th {\n",
       "        text-align: right;\n",
       "    }\n",
       "</style>\n",
       "<table border=\"1\" class=\"dataframe\">\n",
       "  <thead>\n",
       "    <tr style=\"text-align: right;\">\n",
       "      <th></th>\n",
       "      <th>game_date</th>\n",
       "      <th>posteam</th>\n",
       "      <th>yardline_100</th>\n",
       "      <th>quarter_seconds_remaining</th>\n",
       "      <th>half_seconds_remaining</th>\n",
       "      <th>game_seconds_remaining</th>\n",
       "      <th>qtr</th>\n",
       "      <th>down</th>\n",
       "      <th>goal_to_go</th>\n",
       "      <th>ydstogo</th>\n",
       "      <th>play_type</th>\n",
       "      <th>score_differential</th>\n",
       "      <th>shotgun</th>\n",
       "      <th>no_huddle</th>\n",
       "      <th>BinaryPlayType</th>\n",
       "    </tr>\n",
       "  </thead>\n",
       "  <tbody>\n",
       "    <tr>\n",
       "      <th>455378</th>\n",
       "      <td>2019-09-09</td>\n",
       "      <td>NO</td>\n",
       "      <td>86.0</td>\n",
       "      <td>759.0</td>\n",
       "      <td>1659.0</td>\n",
       "      <td>3459.0</td>\n",
       "      <td>1</td>\n",
       "      <td>1.0</td>\n",
       "      <td>0.0</td>\n",
       "      <td>10</td>\n",
       "      <td>pass</td>\n",
       "      <td>0.0</td>\n",
       "      <td>1</td>\n",
       "      <td>0</td>\n",
       "      <td>1</td>\n",
       "    </tr>\n",
       "    <tr>\n",
       "      <th>455379</th>\n",
       "      <td>2019-09-09</td>\n",
       "      <td>NO</td>\n",
       "      <td>77.0</td>\n",
       "      <td>719.0</td>\n",
       "      <td>1619.0</td>\n",
       "      <td>3419.0</td>\n",
       "      <td>1</td>\n",
       "      <td>2.0</td>\n",
       "      <td>0.0</td>\n",
       "      <td>1</td>\n",
       "      <td>pass</td>\n",
       "      <td>0.0</td>\n",
       "      <td>1</td>\n",
       "      <td>0</td>\n",
       "      <td>1</td>\n",
       "    </tr>\n",
       "    <tr>\n",
       "      <th>455380</th>\n",
       "      <td>2019-09-09</td>\n",
       "      <td>NO</td>\n",
       "      <td>53.0</td>\n",
       "      <td>683.0</td>\n",
       "      <td>1583.0</td>\n",
       "      <td>3383.0</td>\n",
       "      <td>1</td>\n",
       "      <td>1.0</td>\n",
       "      <td>0.0</td>\n",
       "      <td>10</td>\n",
       "      <td>pass</td>\n",
       "      <td>0.0</td>\n",
       "      <td>1</td>\n",
       "      <td>0</td>\n",
       "      <td>1</td>\n",
       "    </tr>\n",
       "    <tr>\n",
       "      <th>455381</th>\n",
       "      <td>2019-09-09</td>\n",
       "      <td>NO</td>\n",
       "      <td>50.0</td>\n",
       "      <td>638.0</td>\n",
       "      <td>1538.0</td>\n",
       "      <td>3338.0</td>\n",
       "      <td>1</td>\n",
       "      <td>2.0</td>\n",
       "      <td>0.0</td>\n",
       "      <td>7</td>\n",
       "      <td>pass</td>\n",
       "      <td>0.0</td>\n",
       "      <td>0</td>\n",
       "      <td>0</td>\n",
       "      <td>1</td>\n",
       "    </tr>\n",
       "    <tr>\n",
       "      <th>455382</th>\n",
       "      <td>2019-09-09</td>\n",
       "      <td>NO</td>\n",
       "      <td>49.0</td>\n",
       "      <td>598.0</td>\n",
       "      <td>1498.0</td>\n",
       "      <td>3298.0</td>\n",
       "      <td>1</td>\n",
       "      <td>3.0</td>\n",
       "      <td>0.0</td>\n",
       "      <td>6</td>\n",
       "      <td>pass</td>\n",
       "      <td>0.0</td>\n",
       "      <td>1</td>\n",
       "      <td>0</td>\n",
       "      <td>1</td>\n",
       "    </tr>\n",
       "  </tbody>\n",
       "</table>\n",
       "</div>"
      ],
      "text/plain": [
       "         game_date posteam  yardline_100  quarter_seconds_remaining  \\\n",
       "455378  2019-09-09      NO          86.0                      759.0   \n",
       "455379  2019-09-09      NO          77.0                      719.0   \n",
       "455380  2019-09-09      NO          53.0                      683.0   \n",
       "455381  2019-09-09      NO          50.0                      638.0   \n",
       "455382  2019-09-09      NO          49.0                      598.0   \n",
       "\n",
       "        half_seconds_remaining  game_seconds_remaining  qtr  down  goal_to_go  \\\n",
       "455378                  1659.0                  3459.0    1   1.0         0.0   \n",
       "455379                  1619.0                  3419.0    1   2.0         0.0   \n",
       "455380                  1583.0                  3383.0    1   1.0         0.0   \n",
       "455381                  1538.0                  3338.0    1   2.0         0.0   \n",
       "455382                  1498.0                  3298.0    1   3.0         0.0   \n",
       "\n",
       "        ydstogo play_type  score_differential  shotgun  no_huddle  \\\n",
       "455378       10      pass                 0.0        1          0   \n",
       "455379        1      pass                 0.0        1          0   \n",
       "455380       10      pass                 0.0        1          0   \n",
       "455381        7      pass                 0.0        0          0   \n",
       "455382        6      pass                 0.0        1          0   \n",
       "\n",
       "        BinaryPlayType  \n",
       "455378               1  \n",
       "455379               1  \n",
       "455380               1  \n",
       "455381               1  \n",
       "455382               1  "
      ]
     },
     "execution_count": 120,
     "metadata": {},
     "output_type": "execute_result"
    }
   ],
   "source": [
    "testing_NE_NO.head()"
   ]
  },
  {
   "cell_type": "code",
   "execution_count": 121,
   "metadata": {},
   "outputs": [],
   "source": [
    "training_features_NE = training_NE[['yardline_100','quarter_seconds_remaining','half_seconds_remaining','game_seconds_remaining','qtr','down','goal_to_go','ydstogo','score_differential','shotgun','no_huddle']]\n",
    "\n",
    "training_label_NE = training_NE['play_type']\n",
    "\n",
    "testing_features_NE_NO = testing_NE_NO[['yardline_100','quarter_seconds_remaining','half_seconds_remaining','game_seconds_remaining','qtr','down','goal_to_go','ydstogo','score_differential','shotgun','no_huddle']]\n",
    "\n",
    "testing_label_NE_NO = testing_NE_NO['play_type']"
   ]
  },
  {
   "cell_type": "code",
   "execution_count": 122,
   "metadata": {},
   "outputs": [
    {
     "data": {
      "text/plain": [
       "GradientBoostingClassifier(criterion='friedman_mse', init=None,\n",
       "                           learning_rate=0.02, loss='deviance', max_depth=3,\n",
       "                           max_features=None, max_leaf_nodes=None,\n",
       "                           min_impurity_decrease=0.0, min_impurity_split=None,\n",
       "                           min_samples_leaf=1, min_samples_split=2,\n",
       "                           min_weight_fraction_leaf=0.0, n_estimators=100,\n",
       "                           n_iter_no_change=None, presort='auto',\n",
       "                           random_state=None, subsample=1.0, tol=0.0001,\n",
       "                           validation_fraction=0.1, verbose=0,\n",
       "                           warm_start=False)"
      ]
     },
     "execution_count": 122,
     "metadata": {},
     "output_type": "execute_result"
    }
   ],
   "source": [
    "gbr_NE_NO = ensemble.GradientBoostingClassifier(n_estimators = 100, learning_rate = 0.02)\n",
    "\n",
    "gbr_NE_NO.fit(training_features_NE, training_label_NE)"
   ]
  },
  {
   "cell_type": "code",
   "execution_count": 123,
   "metadata": {},
   "outputs": [
    {
     "name": "stdout",
     "output_type": "stream",
     "text": [
      "Accuracy: 75.79%\n"
     ]
    }
   ],
   "source": [
    "prediction_NE_NO = gbr_NE_NO.predict(testing_features_NE_NO)\n",
    "\n",
    "accuracy_NE_NO = accuracy_score(testing_label_NE_NO, prediction_NE_NO)\n",
    "\n",
    "print(\"Accuracy: \"+\"{:.2%}\".format(accuracy_NE_NO))"
   ]
  },
  {
   "cell_type": "code",
   "execution_count": 124,
   "metadata": {},
   "outputs": [
    {
     "name": "stdout",
     "output_type": "stream",
     "text": [
      "[[449 149]\n",
      " [ 89 296]]\n"
     ]
    }
   ],
   "source": [
    "cm_NE_NO = metrics.confusion_matrix(testing_label_NE_NO, prediction_NE_NO) #quick confusion matrix \n",
    "print(cm_NE_NO)"
   ]
  },
  {
   "cell_type": "code",
   "execution_count": 127,
   "metadata": {},
   "outputs": [
    {
     "data": {
      "image/png": "[encoded data removed]",
      "text/plain": [
       "<Figure size 432x432 with 2 Axes>"
      ]
     },
     "metadata": {
      "needs_background": "light"
     },
     "output_type": "display_data"
    }
   ],
   "source": [
    "from itertools import *\n",
    "#confusion matrix plot\n",
    "def plot_confusion_matrix(testing_label_NE_NO,prediction_NE_NO, classes,\n",
    "                          normalize=False,\n",
    "                          title='Confusion Matrix for Patriots data predicting Saints',\n",
    "                          cmap=plt.cm.Blues):\n",
    "   \n",
    "    plt.figure(figsize = (6,6))\n",
    "    plt.imshow(cm_NE_NO, interpolation='nearest', cmap=cmap)\n",
    "    plt.title(title)\n",
    "    plt.colorbar()\n",
    "    tick_marks = np.arange(len(classes))\n",
    "    plt.xticks(tick_marks, classes, rotation=90,size = 12)\n",
    "    plt.yticks(tick_marks, classes,size = 12)\n",
    "    plt.ylim([1.5, -.5])\n",
    "    \n",
    "    thresh = cm_NE_NO.max() / 2.\n",
    "    \n",
    "    \n",
    "    for i in range (cm_NE_NO.shape[0]):\n",
    "        for j in range (cm_NE_NO.shape[1]):\n",
    "            \n",
    "            plt.text(j, i, cm_NE_NO[i, j],fontsize=45,\n",
    "                 horizontalalignment=\"center\",\n",
    "                 color=\"white\" if cm_NE_NO[i, j] > thresh else \"black\")\n",
    "    \n",
    "    plt.tight_layout()\n",
    "    plt.ylabel('True label')\n",
    "    plt.xlabel('Predicted label')\n",
    "dict_characters = {0: 'Run', 1: 'Pass'}    \n",
    "plot_confusion_matrix(testing_label_NE_NO,prediction_NE_NO, classes = list(dict_characters.values())) \n",
    "plt.show()"
   ]
  },
  {
   "cell_type": "markdown",
   "metadata": {},
   "source": [
    "### Using New England (2009-2018) data as training data and New Orleans Saints (2019) data as testing data\n",
    "\n",
    "### we get a 75.79% accuracy score. This is similar than if we used Saints (2009-2018) data! (75.89%)"
   ]
  },
  {
   "cell_type": "code",
   "execution_count": 129,
   "metadata": {
    "scrolled": true
   },
   "outputs": [
    {
     "data": {
      "image/png": "[encoded data removed]",
      "text/plain": [
       "<Figure size 432x288 with 1 Axes>"
      ]
     },
     "metadata": {
      "needs_background": "light"
     },
     "output_type": "display_data"
    }
   ],
   "source": [
    "features = ['yl_100', 'q_sec', 'h_sec', 'g_sec', 'qtr', 'down' ,'g2g', 'yd2g', 'sd', 'shot', 'nh'] \n",
    "\n",
    "feature_importance = gbr_NE_NO.feature_importances_.tolist()\n",
    "# the higher the more important the feature \n",
    "\n",
    "plt.bar(features,feature_importance)\n",
    "plt.title(\"gradient boosting classifier: feature importance\")\n",
    "plt.show()"
   ]
  },
  {
   "cell_type": "markdown",
   "metadata": {},
   "source": [
    "### Same percentage as using New England data. Lets try all the other teams"
   ]
  },
  {
   "cell_type": "code",
   "execution_count": 130,
   "metadata": {},
   "outputs": [
    {
     "data": {
      "text/plain": [
       "35"
      ]
     },
     "execution_count": 130,
     "metadata": {},
     "output_type": "execute_result"
    }
   ],
   "source": [
    "df.posteam.unique()\n",
    "len(df.posteam.unique())"
   ]
  },
  {
   "cell_type": "code",
   "execution_count": 131,
   "metadata": {},
   "outputs": [
    {
     "data": {
      "text/plain": [
       "32"
      ]
     },
     "execution_count": 131,
     "metadata": {},
     "output_type": "execute_result"
    }
   ],
   "source": [
    "df['posteam'].replace('STL','LA',inplace=True)\n",
    "df['posteam'].replace('SD','LAC',inplace=True)\n",
    "df['posteam'].replace('JAC','JAX',inplace=True)\n",
    "\n",
    "len(df.posteam.unique())"
   ]
  },
  {
   "cell_type": "code",
   "execution_count": 133,
   "metadata": {},
   "outputs": [],
   "source": [
    "results = pd.DataFrame(columns =['accuracy'])\n",
    "\n",
    "for tm in df.posteam.unique():\n",
    "    \n",
    "    training_all = df[(~df.game_date.str.contains('2019')) & (df.posteam == tm) & (df.down.isin(range(1,5))) & ((df.play_type == 'run') | (df.play_type == 'pass'))]\n",
    "    testing_all = df[(df.game_date.str.contains('2019')) & (df.posteam == tm) & (df.down.isin(range(1,5))) & ((df.play_type == 'run') | (df.play_type == 'pass'))]\n",
    "\n",
    "    training_features_all = training_all[['yardline_100','quarter_seconds_remaining','half_seconds_remaining','game_seconds_remaining','qtr','down','goal_to_go','ydstogo','score_differential','shotgun','no_huddle']]\n",
    "    training_label_all = training_all['play_type']\n",
    "    \n",
    "    testing_features_all = testing_all[['yardline_100','quarter_seconds_remaining','half_seconds_remaining','game_seconds_remaining','qtr','down','goal_to_go','ydstogo','score_differential','shotgun','no_huddle']]\n",
    "    testing_label_all = testing_all['play_type']\n",
    "    \n",
    "    prediction_all = gbr.predict(testing_features_all)\n",
    "    accuracy_all = accuracy_score(testing_label_all, prediction_all)\n",
    "   \n",
    "    results.loc[tm] = [accuracy_all]"
   ]
  },
  {
   "cell_type": "code",
   "execution_count": 134,
   "metadata": {},
   "outputs": [
    {
     "data": {
      "image/png": "[encoded data removed]",
      "text/plain": [
       "<Figure size 432x288 with 1 Axes>"
      ]
     },
     "metadata": {
      "needs_background": "light"
     },
     "output_type": "display_data"
    }
   ],
   "source": [
    "plt.bar(results.index,results.accuracy)\n",
    "plt.xticks(rotation=90)\n",
    "plt.title(\"accuracy of predictive model trained on saints for all 32 nfl teams\")\n",
    "plt.subplots_adjust(left=0, bottom=0, right=1, top=1, wspace=0, hspace=0)\n",
    "plt.show()"
   ]
  },
  {
   "cell_type": "code",
   "execution_count": 135,
   "metadata": {},
   "outputs": [],
   "source": [
    "Top = results[results['accuracy'] > .75]\n",
    "Bottom = results[results['accuracy'] < .6]"
   ]
  },
  {
   "cell_type": "code",
   "execution_count": 136,
   "metadata": {},
   "outputs": [
    {
     "data": {
      "text/plain": [
       "7"
      ]
     },
     "execution_count": 136,
     "metadata": {},
     "output_type": "execute_result"
    }
   ],
   "source": [
    "len(Top)"
   ]
  },
  {
   "cell_type": "code",
   "execution_count": 137,
   "metadata": {},
   "outputs": [
    {
     "data": {
      "text/plain": [
       "1"
      ]
     },
     "execution_count": 137,
     "metadata": {},
     "output_type": "execute_result"
    }
   ],
   "source": [
    "len(Bottom)"
   ]
  },
  {
   "cell_type": "code",
   "execution_count": 138,
   "metadata": {},
   "outputs": [
    {
     "name": "stdout",
     "output_type": "stream",
     "text": [
      "     accuracy\n",
      "JAX  0.793241\n",
      "LAC  0.769623\n",
      "NYG  0.762425\n",
      "NE   0.761194\n",
      "NO   0.757884\n",
      "OAK  0.753579\n",
      "TB   0.752354\n"
     ]
    }
   ],
   "source": [
    "print(Top.sort_values(by = 'accuracy',ascending=False))"
   ]
  },
  {
   "cell_type": "code",
   "execution_count": 139,
   "metadata": {},
   "outputs": [
    {
     "data": {
      "text/html": [
       "<div>\n",
       "<style scoped>\n",
       "    .dataframe tbody tr th:only-of-type {\n",
       "        vertical-align: middle;\n",
       "    }\n",
       "\n",
       "    .dataframe tbody tr th {\n",
       "        vertical-align: top;\n",
       "    }\n",
       "\n",
       "    .dataframe thead th {\n",
       "        text-align: right;\n",
       "    }\n",
       "</style>\n",
       "<table border=\"1\" class=\"dataframe\">\n",
       "  <thead>\n",
       "    <tr style=\"text-align: right;\">\n",
       "      <th></th>\n",
       "      <th>accuracy</th>\n",
       "    </tr>\n",
       "  </thead>\n",
       "  <tbody>\n",
       "    <tr>\n",
       "      <th>BAL</th>\n",
       "      <td>0.465767</td>\n",
       "    </tr>\n",
       "  </tbody>\n",
       "</table>\n",
       "</div>"
      ],
      "text/plain": [
       "     accuracy\n",
       "BAL  0.465767"
      ]
     },
     "execution_count": 139,
     "metadata": {},
     "output_type": "execute_result"
    }
   ],
   "source": [
    "Bottom"
   ]
  },
  {
   "cell_type": "markdown",
   "metadata": {},
   "source": [
    "### Lets take a look at why Baltimore Ravens performed so poorly and why Jacksonville Jaguars is our highest accuracy!"
   ]
  },
  {
   "cell_type": "code",
   "execution_count": 140,
   "metadata": {},
   "outputs": [],
   "source": [
    "#training_JAC = df[(~df.game_date.str.contains('2019')) & (df.posteam == 'NO') & (df.down.isin(range(1,5))) & ((df.play_type == 'run') | (df.play_type == 'pass'))]\n",
    "\n",
    "testing_JAX = df[(df.game_date.str.contains('2019')) & (df.posteam == 'JAX') & (df.down.isin(range(1,5))) & ((df.play_type == 'run') | (df.play_type == 'pass'))]\n",
    "\n",
    "\n"
   ]
  },
  {
   "cell_type": "code",
   "execution_count": 141,
   "metadata": {},
   "outputs": [
    {
     "data": {
      "text/html": [
       "<div>\n",
       "<style scoped>\n",
       "    .dataframe tbody tr th:only-of-type {\n",
       "        vertical-align: middle;\n",
       "    }\n",
       "\n",
       "    .dataframe tbody tr th {\n",
       "        vertical-align: top;\n",
       "    }\n",
       "\n",
       "    .dataframe thead th {\n",
       "        text-align: right;\n",
       "    }\n",
       "</style>\n",
       "<table border=\"1\" class=\"dataframe\">\n",
       "  <thead>\n",
       "    <tr style=\"text-align: right;\">\n",
       "      <th></th>\n",
       "      <th>game_date</th>\n",
       "      <th>posteam</th>\n",
       "      <th>yardline_100</th>\n",
       "      <th>quarter_seconds_remaining</th>\n",
       "      <th>half_seconds_remaining</th>\n",
       "      <th>game_seconds_remaining</th>\n",
       "      <th>qtr</th>\n",
       "      <th>down</th>\n",
       "      <th>goal_to_go</th>\n",
       "      <th>ydstogo</th>\n",
       "      <th>play_type</th>\n",
       "      <th>score_differential</th>\n",
       "      <th>shotgun</th>\n",
       "      <th>no_huddle</th>\n",
       "      <th>BinaryPlayType</th>\n",
       "    </tr>\n",
       "  </thead>\n",
       "  <tbody>\n",
       "    <tr>\n",
       "      <th>453926</th>\n",
       "      <td>2019-09-08</td>\n",
       "      <td>JAX</td>\n",
       "      <td>75.0</td>\n",
       "      <td>804.0</td>\n",
       "      <td>1704.0</td>\n",
       "      <td>3504.0</td>\n",
       "      <td>1</td>\n",
       "      <td>1.0</td>\n",
       "      <td>0.0</td>\n",
       "      <td>10</td>\n",
       "      <td>run</td>\n",
       "      <td>-7.0</td>\n",
       "      <td>1</td>\n",
       "      <td>0</td>\n",
       "      <td>0</td>\n",
       "    </tr>\n",
       "    <tr>\n",
       "      <th>453927</th>\n",
       "      <td>2019-09-08</td>\n",
       "      <td>JAX</td>\n",
       "      <td>76.0</td>\n",
       "      <td>767.0</td>\n",
       "      <td>1667.0</td>\n",
       "      <td>3467.0</td>\n",
       "      <td>1</td>\n",
       "      <td>2.0</td>\n",
       "      <td>0.0</td>\n",
       "      <td>11</td>\n",
       "      <td>pass</td>\n",
       "      <td>-7.0</td>\n",
       "      <td>1</td>\n",
       "      <td>0</td>\n",
       "      <td>1</td>\n",
       "    </tr>\n",
       "    <tr>\n",
       "      <th>453928</th>\n",
       "      <td>2019-09-08</td>\n",
       "      <td>JAX</td>\n",
       "      <td>69.0</td>\n",
       "      <td>718.0</td>\n",
       "      <td>1618.0</td>\n",
       "      <td>3418.0</td>\n",
       "      <td>1</td>\n",
       "      <td>3.0</td>\n",
       "      <td>0.0</td>\n",
       "      <td>4</td>\n",
       "      <td>pass</td>\n",
       "      <td>-7.0</td>\n",
       "      <td>1</td>\n",
       "      <td>0</td>\n",
       "      <td>1</td>\n",
       "    </tr>\n",
       "    <tr>\n",
       "      <th>453937</th>\n",
       "      <td>2019-09-08</td>\n",
       "      <td>JAX</td>\n",
       "      <td>75.0</td>\n",
       "      <td>537.0</td>\n",
       "      <td>1437.0</td>\n",
       "      <td>3237.0</td>\n",
       "      <td>1</td>\n",
       "      <td>1.0</td>\n",
       "      <td>0.0</td>\n",
       "      <td>10</td>\n",
       "      <td>pass</td>\n",
       "      <td>-10.0</td>\n",
       "      <td>1</td>\n",
       "      <td>0</td>\n",
       "      <td>1</td>\n",
       "    </tr>\n",
       "    <tr>\n",
       "      <th>453939</th>\n",
       "      <td>2019-09-08</td>\n",
       "      <td>JAX</td>\n",
       "      <td>85.0</td>\n",
       "      <td>505.0</td>\n",
       "      <td>1405.0</td>\n",
       "      <td>3205.0</td>\n",
       "      <td>1</td>\n",
       "      <td>2.0</td>\n",
       "      <td>0.0</td>\n",
       "      <td>20</td>\n",
       "      <td>pass</td>\n",
       "      <td>-10.0</td>\n",
       "      <td>1</td>\n",
       "      <td>0</td>\n",
       "      <td>1</td>\n",
       "    </tr>\n",
       "  </tbody>\n",
       "</table>\n",
       "</div>"
      ],
      "text/plain": [
       "         game_date posteam  yardline_100  quarter_seconds_remaining  \\\n",
       "453926  2019-09-08     JAX          75.0                      804.0   \n",
       "453927  2019-09-08     JAX          76.0                      767.0   \n",
       "453928  2019-09-08     JAX          69.0                      718.0   \n",
       "453937  2019-09-08     JAX          75.0                      537.0   \n",
       "453939  2019-09-08     JAX          85.0                      505.0   \n",
       "\n",
       "        half_seconds_remaining  game_seconds_remaining  qtr  down  goal_to_go  \\\n",
       "453926                  1704.0                  3504.0    1   1.0         0.0   \n",
       "453927                  1667.0                  3467.0    1   2.0         0.0   \n",
       "453928                  1618.0                  3418.0    1   3.0         0.0   \n",
       "453937                  1437.0                  3237.0    1   1.0         0.0   \n",
       "453939                  1405.0                  3205.0    1   2.0         0.0   \n",
       "\n",
       "        ydstogo play_type  score_differential  shotgun  no_huddle  \\\n",
       "453926       10       run                -7.0        1          0   \n",
       "453927       11      pass                -7.0        1          0   \n",
       "453928        4      pass                -7.0        1          0   \n",
       "453937       10      pass               -10.0        1          0   \n",
       "453939       20      pass               -10.0        1          0   \n",
       "\n",
       "        BinaryPlayType  \n",
       "453926               0  \n",
       "453927               1  \n",
       "453928               1  \n",
       "453937               1  \n",
       "453939               1  "
      ]
     },
     "execution_count": 141,
     "metadata": {},
     "output_type": "execute_result"
    }
   ],
   "source": [
    "testing_JAX.head()"
   ]
  },
  {
   "cell_type": "code",
   "execution_count": 142,
   "metadata": {},
   "outputs": [
    {
     "data": {
      "image/png": "[encoded data removed]",
      "text/plain": [
       "<Figure size 418.875x360 with 1 Axes>"
      ]
     },
     "metadata": {
      "needs_background": "light"
     },
     "output_type": "display_data"
    }
   ],
   "source": [
    "sns.catplot(x=\"down\", kind=\"count\", hue='play_type', data=testing_JAX);\n",
    "plt.title('Jacksonville Jaguars Play Type on Down vs Count')\n",
    "plt.show()"
   ]
  },
  {
   "cell_type": "code",
   "execution_count": 143,
   "metadata": {},
   "outputs": [],
   "source": [
    "shotgun_JAX = df[(df.game_date.str.contains('2019')) & (df.posteam == 'JAX') & (df.down.isin(range(1,5))) & ((df.play_type == 'run') | (df.play_type == 'pass')) & (df.shotgun == 1)]\n"
   ]
  },
  {
   "cell_type": "code",
   "execution_count": 144,
   "metadata": {},
   "outputs": [
    {
     "data": {
      "image/png": "[encoded data removed]",
      "text/plain": [
       "<Figure size 432x288 with 1 Axes>"
      ]
     },
     "metadata": {
      "needs_background": "light"
     },
     "output_type": "display_data"
    }
   ],
   "source": [
    "ax = sns.countplot(x=\"shotgun\",hue='play_type', data=shotgun_JAX)\n",
    "plt.title(\"Jacksonville Jaguars' 2019 shotgun formation play-type distribution\")\n",
    "plt.xlabel('Shotgun Formation')\n",
    "\n",
    "total = len(shotgun_JAX)\n",
    "for p in ax.patches:\n",
    "    height = p.get_height()\n",
    "    percentage = '{:.1f}%'.format(100 * p.get_width()/total)\n",
    "    ax.text(p.get_x()+p.get_width()/2.,\n",
    "    height + 3,'{:1.2f}'.format(height/total),ha=\"center\") \n",
    "\n",
    "plt.show()"
   ]
  },
  {
   "cell_type": "markdown",
   "metadata": {},
   "source": [
    "### This distribution is much more one sided than the Patriots and Saints thus making our model able to predict the play calling more accurately than the other two. "
   ]
  },
  {
   "cell_type": "markdown",
   "metadata": {},
   "source": [
    "###  Lets take a look at Baltimore"
   ]
  },
  {
   "cell_type": "code",
   "execution_count": 145,
   "metadata": {},
   "outputs": [],
   "source": [
    "testing_BAL = df[(df.game_date.str.contains('2019')) & (df.posteam == 'BAL') & (df.down.isin(range(1,5))) & ((df.play_type == 'run') | (df.play_type == 'pass'))]\n",
    "\n",
    "\n",
    "shotgun_BAL = df[(df.game_date.str.contains('2019')) & (df.posteam == 'BAL') & (df.down.isin(range(1,5))) & ((df.play_type == 'run') | (df.play_type == 'pass')) & (df.shotgun == 1)]\n"
   ]
  },
  {
   "cell_type": "code",
   "execution_count": 146,
   "metadata": {},
   "outputs": [
    {
     "data": {
      "text/html": [
       "<div>\n",
       "<style scoped>\n",
       "    .dataframe tbody tr th:only-of-type {\n",
       "        vertical-align: middle;\n",
       "    }\n",
       "\n",
       "    .dataframe tbody tr th {\n",
       "        vertical-align: top;\n",
       "    }\n",
       "\n",
       "    .dataframe thead th {\n",
       "        text-align: right;\n",
       "    }\n",
       "</style>\n",
       "<table border=\"1\" class=\"dataframe\">\n",
       "  <thead>\n",
       "    <tr style=\"text-align: right;\">\n",
       "      <th></th>\n",
       "      <th>game_date</th>\n",
       "      <th>posteam</th>\n",
       "      <th>yardline_100</th>\n",
       "      <th>quarter_seconds_remaining</th>\n",
       "      <th>half_seconds_remaining</th>\n",
       "      <th>game_seconds_remaining</th>\n",
       "      <th>qtr</th>\n",
       "      <th>down</th>\n",
       "      <th>goal_to_go</th>\n",
       "      <th>ydstogo</th>\n",
       "      <th>play_type</th>\n",
       "      <th>score_differential</th>\n",
       "      <th>shotgun</th>\n",
       "      <th>no_huddle</th>\n",
       "      <th>BinaryPlayType</th>\n",
       "    </tr>\n",
       "  </thead>\n",
       "  <tbody>\n",
       "    <tr>\n",
       "      <th>453750</th>\n",
       "      <td>2019-09-08</td>\n",
       "      <td>BAL</td>\n",
       "      <td>89.0</td>\n",
       "      <td>896.0</td>\n",
       "      <td>1796.0</td>\n",
       "      <td>3596.0</td>\n",
       "      <td>1</td>\n",
       "      <td>1.0</td>\n",
       "      <td>0.0</td>\n",
       "      <td>10</td>\n",
       "      <td>run</td>\n",
       "      <td>0.0</td>\n",
       "      <td>1</td>\n",
       "      <td>0</td>\n",
       "      <td>0</td>\n",
       "    </tr>\n",
       "    <tr>\n",
       "      <th>453751</th>\n",
       "      <td>2019-09-08</td>\n",
       "      <td>BAL</td>\n",
       "      <td>40.0</td>\n",
       "      <td>849.0</td>\n",
       "      <td>1749.0</td>\n",
       "      <td>3549.0</td>\n",
       "      <td>1</td>\n",
       "      <td>1.0</td>\n",
       "      <td>0.0</td>\n",
       "      <td>10</td>\n",
       "      <td>pass</td>\n",
       "      <td>0.0</td>\n",
       "      <td>1</td>\n",
       "      <td>0</td>\n",
       "      <td>1</td>\n",
       "    </tr>\n",
       "    <tr>\n",
       "      <th>453752</th>\n",
       "      <td>2019-09-08</td>\n",
       "      <td>BAL</td>\n",
       "      <td>33.0</td>\n",
       "      <td>813.0</td>\n",
       "      <td>1713.0</td>\n",
       "      <td>3513.0</td>\n",
       "      <td>1</td>\n",
       "      <td>2.0</td>\n",
       "      <td>0.0</td>\n",
       "      <td>3</td>\n",
       "      <td>run</td>\n",
       "      <td>0.0</td>\n",
       "      <td>1</td>\n",
       "      <td>0</td>\n",
       "      <td>0</td>\n",
       "    </tr>\n",
       "    <tr>\n",
       "      <th>453753</th>\n",
       "      <td>2019-09-08</td>\n",
       "      <td>BAL</td>\n",
       "      <td>22.0</td>\n",
       "      <td>770.0</td>\n",
       "      <td>1670.0</td>\n",
       "      <td>3470.0</td>\n",
       "      <td>1</td>\n",
       "      <td>1.0</td>\n",
       "      <td>0.0</td>\n",
       "      <td>10</td>\n",
       "      <td>pass</td>\n",
       "      <td>0.0</td>\n",
       "      <td>1</td>\n",
       "      <td>0</td>\n",
       "      <td>1</td>\n",
       "    </tr>\n",
       "    <tr>\n",
       "      <th>453754</th>\n",
       "      <td>2019-09-08</td>\n",
       "      <td>BAL</td>\n",
       "      <td>19.0</td>\n",
       "      <td>747.0</td>\n",
       "      <td>1647.0</td>\n",
       "      <td>3447.0</td>\n",
       "      <td>1</td>\n",
       "      <td>2.0</td>\n",
       "      <td>0.0</td>\n",
       "      <td>7</td>\n",
       "      <td>run</td>\n",
       "      <td>0.0</td>\n",
       "      <td>1</td>\n",
       "      <td>0</td>\n",
       "      <td>0</td>\n",
       "    </tr>\n",
       "  </tbody>\n",
       "</table>\n",
       "</div>"
      ],
      "text/plain": [
       "         game_date posteam  yardline_100  quarter_seconds_remaining  \\\n",
       "453750  2019-09-08     BAL          89.0                      896.0   \n",
       "453751  2019-09-08     BAL          40.0                      849.0   \n",
       "453752  2019-09-08     BAL          33.0                      813.0   \n",
       "453753  2019-09-08     BAL          22.0                      770.0   \n",
       "453754  2019-09-08     BAL          19.0                      747.0   \n",
       "\n",
       "        half_seconds_remaining  game_seconds_remaining  qtr  down  goal_to_go  \\\n",
       "453750                  1796.0                  3596.0    1   1.0         0.0   \n",
       "453751                  1749.0                  3549.0    1   1.0         0.0   \n",
       "453752                  1713.0                  3513.0    1   2.0         0.0   \n",
       "453753                  1670.0                  3470.0    1   1.0         0.0   \n",
       "453754                  1647.0                  3447.0    1   2.0         0.0   \n",
       "\n",
       "        ydstogo play_type  score_differential  shotgun  no_huddle  \\\n",
       "453750       10       run                 0.0        1          0   \n",
       "453751       10      pass                 0.0        1          0   \n",
       "453752        3       run                 0.0        1          0   \n",
       "453753       10      pass                 0.0        1          0   \n",
       "453754        7       run                 0.0        1          0   \n",
       "\n",
       "        BinaryPlayType  \n",
       "453750               0  \n",
       "453751               1  \n",
       "453752               0  \n",
       "453753               1  \n",
       "453754               0  "
      ]
     },
     "execution_count": 146,
     "metadata": {},
     "output_type": "execute_result"
    }
   ],
   "source": [
    "testing_BAL.head()"
   ]
  },
  {
   "cell_type": "code",
   "execution_count": 147,
   "metadata": {},
   "outputs": [
    {
     "data": {
      "image/png": "[encoded data removed]",
      "text/plain": [
       "<Figure size 418.875x360 with 1 Axes>"
      ]
     },
     "metadata": {
      "needs_background": "light"
     },
     "output_type": "display_data"
    }
   ],
   "source": [
    "sns.catplot(x=\"down\", kind=\"count\", hue='play_type', data=testing_BAL);\n",
    "plt.title(\"Baltimore Ravens Play Type on Down vs Count\")\n",
    "plt.show()"
   ]
  },
  {
   "cell_type": "code",
   "execution_count": 148,
   "metadata": {
    "scrolled": true
   },
   "outputs": [
    {
     "data": {
      "image/png": "[encoded data removed]",
      "text/plain": [
       "<Figure size 432x288 with 1 Axes>"
      ]
     },
     "metadata": {
      "needs_background": "light"
     },
     "output_type": "display_data"
    }
   ],
   "source": [
    "ax = sns.countplot(x=\"shotgun\",hue='play_type', data=shotgun_BAL)\n",
    "plt.title(\"Baltimore Ravens' 2019 shotgun formation play-type distribution\")\n",
    "plt.xlabel('Shotgun Formation')\n",
    "\n",
    "total = len(shotgun_BAL)\n",
    "for p in ax.patches:\n",
    "    height = p.get_height()\n",
    "    percentage = '{:.1f}%'.format(100 * p.get_width()/total)\n",
    "    ax.text(p.get_x()+p.get_width()/2.,\n",
    "    height + 3,'{:1.2f}'.format(height/total),ha=\"center\") \n",
    "\n",
    "plt.show()"
   ]
  },
  {
   "cell_type": "markdown",
   "metadata": {},
   "source": [
    "### This is very interesting. They run more than they pass in shotgun. Certainly not common in the NFL "
   ]
  },
  {
   "cell_type": "code",
   "execution_count": 149,
   "metadata": {},
   "outputs": [
    {
     "data": {
      "text/html": [
       "<div>\n",
       "<style scoped>\n",
       "    .dataframe tbody tr th:only-of-type {\n",
       "        vertical-align: middle;\n",
       "    }\n",
       "\n",
       "    .dataframe tbody tr th {\n",
       "        vertical-align: top;\n",
       "    }\n",
       "\n",
       "    .dataframe thead th {\n",
       "        text-align: right;\n",
       "    }\n",
       "</style>\n",
       "<table border=\"1\" class=\"dataframe\">\n",
       "  <thead>\n",
       "    <tr style=\"text-align: right;\">\n",
       "      <th></th>\n",
       "      <th>game_date</th>\n",
       "      <th>posteam</th>\n",
       "      <th>play_type</th>\n",
       "      <th>desc</th>\n",
       "      <th>down</th>\n",
       "      <th>ydstogo</th>\n",
       "      <th>score_differential</th>\n",
       "      <th>shotgun</th>\n",
       "      <th>no_huddle</th>\n",
       "    </tr>\n",
       "  </thead>\n",
       "  <tbody>\n",
       "    <tr>\n",
       "      <th>497675</th>\n",
       "      <td>2019-12-29</td>\n",
       "      <td>BAL</td>\n",
       "      <td>run</td>\n",
       "      <td>(3:25) (Shotgun) R.Griffin III right guard to ...</td>\n",
       "      <td>3.0</td>\n",
       "      <td>8</td>\n",
       "      <td>18.0</td>\n",
       "      <td>1</td>\n",
       "      <td>0</td>\n",
       "    </tr>\n",
       "    <tr>\n",
       "      <th>497676</th>\n",
       "      <td>2019-12-29</td>\n",
       "      <td>BAL</td>\n",
       "      <td>run</td>\n",
       "      <td>(2:41) (Shotgun) G.Edwards right guard to PIT ...</td>\n",
       "      <td>1.0</td>\n",
       "      <td>10</td>\n",
       "      <td>18.0</td>\n",
       "      <td>1</td>\n",
       "      <td>0</td>\n",
       "    </tr>\n",
       "    <tr>\n",
       "      <th>497678</th>\n",
       "      <td>2019-12-29</td>\n",
       "      <td>BAL</td>\n",
       "      <td>run</td>\n",
       "      <td>(2:00) (Shotgun) G.Edwards left guard to PIT 4...</td>\n",
       "      <td>2.0</td>\n",
       "      <td>8</td>\n",
       "      <td>18.0</td>\n",
       "      <td>1</td>\n",
       "      <td>0</td>\n",
       "    </tr>\n",
       "    <tr>\n",
       "      <th>497679</th>\n",
       "      <td>2019-12-29</td>\n",
       "      <td>BAL</td>\n",
       "      <td>run</td>\n",
       "      <td>(1:17) W.Snead IV right end to PIT 45 for no g...</td>\n",
       "      <td>3.0</td>\n",
       "      <td>6</td>\n",
       "      <td>18.0</td>\n",
       "      <td>0</td>\n",
       "      <td>0</td>\n",
       "    </tr>\n",
       "    <tr>\n",
       "      <th>497681</th>\n",
       "      <td>2019-12-29</td>\n",
       "      <td>BAL</td>\n",
       "      <td>pass</td>\n",
       "      <td>(:30) (Shotgun) R.Griffin III pass short middl...</td>\n",
       "      <td>4.0</td>\n",
       "      <td>6</td>\n",
       "      <td>18.0</td>\n",
       "      <td>1</td>\n",
       "      <td>0</td>\n",
       "    </tr>\n",
       "  </tbody>\n",
       "</table>\n",
       "</div>"
      ],
      "text/plain": [
       "         game_date posteam play_type  \\\n",
       "497675  2019-12-29     BAL       run   \n",
       "497676  2019-12-29     BAL       run   \n",
       "497678  2019-12-29     BAL       run   \n",
       "497679  2019-12-29     BAL       run   \n",
       "497681  2019-12-29     BAL      pass   \n",
       "\n",
       "                                                     desc  down  ydstogo  \\\n",
       "497675  (3:25) (Shotgun) R.Griffin III right guard to ...   3.0        8   \n",
       "497676  (2:41) (Shotgun) G.Edwards right guard to PIT ...   1.0       10   \n",
       "497678  (2:00) (Shotgun) G.Edwards left guard to PIT 4...   2.0        8   \n",
       "497679  (1:17) W.Snead IV right end to PIT 45 for no g...   3.0        6   \n",
       "497681  (:30) (Shotgun) R.Griffin III pass short middl...   4.0        6   \n",
       "\n",
       "        score_differential  shotgun  no_huddle  \n",
       "497675                18.0        1          0  \n",
       "497676                18.0        1          0  \n",
       "497678                18.0        1          0  \n",
       "497679                18.0        0          0  \n",
       "497681                18.0        1          0  "
      ]
     },
     "execution_count": 149,
     "metadata": {},
     "output_type": "execute_result"
    }
   ],
   "source": [
    "Ravens_target = target[(target.game_date.str.contains('2019')) & (target.posteam == 'BAL') & (target.down.isin(range(1,5))) & ((target.play_type == 'run') | (target.play_type == 'pass'))]\n",
    "Ravens_target.tail()\n",
    "\n"
   ]
  },
  {
   "cell_type": "code",
   "execution_count": 150,
   "metadata": {},
   "outputs": [
    {
     "name": "stdout",
     "output_type": "stream",
     "text": [
      "990 47\n"
     ]
    }
   ],
   "source": [
    "shotgun = testing_BAL[testing_BAL['shotgun'] == 1]\n",
    "other = testing_BAL[testing_BAL['shotgun'] == 0]\n",
    "\n",
    "print(len(shotgun),len(other))"
   ]
  },
  {
   "cell_type": "code",
   "execution_count": 151,
   "metadata": {},
   "outputs": [
    {
     "data": {
      "text/plain": [
       "Text(0.5, 1.0, 'Baltimore Ravens Shotgun Play Type vs Snap Count')"
      ]
     },
     "execution_count": 151,
     "metadata": {},
     "output_type": "execute_result"
    },
    {
     "data": {
      "image/png": "[encoded data removed]",
      "text/plain": [
       "<Figure size 432x288 with 1 Axes>"
      ]
     },
     "metadata": {
      "needs_background": "light"
     },
     "output_type": "display_data"
    }
   ],
   "source": [
    "ax = sns.countplot(x=\"play_type\",hue='shotgun', data=testing_BAL)\n",
    "plt.title('Baltimore Ravens Shotgun Play Type vs Snap Count')"
   ]
  },
  {
   "cell_type": "markdown",
   "metadata": {},
   "source": [
    "### Ravens are primarily in shotgun formation when they run and pass. So using shotgun formation as the main feature is a disadvantage. \n",
    "\n",
    "### Lets compare this with other teams"
   ]
  },
  {
   "cell_type": "code",
   "execution_count": 152,
   "metadata": {},
   "outputs": [
    {
     "data": {
      "text/plain": [
       "Text(0.5, 1.0, 'New Orleans Saints Shotgun play type vs snap count')"
      ]
     },
     "execution_count": 152,
     "metadata": {},
     "output_type": "execute_result"
    },
    {
     "data": {
      "image/png": "[encoded data removed]",
      "text/plain": [
       "<Figure size 432x288 with 1 Axes>"
      ]
     },
     "metadata": {
      "needs_background": "light"
     },
     "output_type": "display_data"
    }
   ],
   "source": [
    "ax = sns.countplot(x=\"play_type\",hue='shotgun', data=testing_NO)\n",
    "plt.title('New Orleans Saints Shotgun play type vs snap count')"
   ]
  },
  {
   "cell_type": "code",
   "execution_count": 153,
   "metadata": {},
   "outputs": [
    {
     "data": {
      "text/plain": [
       "Text(0.5, 1.0, 'New England Patriots Shotgun play type vs snap count')"
      ]
     },
     "execution_count": 153,
     "metadata": {},
     "output_type": "execute_result"
    },
    {
     "data": {
      "image/png": "[encoded data removed]",
      "text/plain": [
       "<Figure size 432x288 with 1 Axes>"
      ]
     },
     "metadata": {
      "needs_background": "light"
     },
     "output_type": "display_data"
    }
   ],
   "source": [
    "ax = sns.countplot(x=\"play_type\",hue='shotgun', data=testing_df)\n",
    "plt.title('New England Patriots Shotgun play type vs snap count')#New England"
   ]
  },
  {
   "cell_type": "code",
   "execution_count": 154,
   "metadata": {},
   "outputs": [
    {
     "data": {
      "text/plain": [
       "Text(0.5, 1.0, 'Jacksonville Jaguars Shotgun play type vs snap count')"
      ]
     },
     "execution_count": 154,
     "metadata": {},
     "output_type": "execute_result"
    },
    {
     "data": {
      "image/png": "[encoded data removed]",
      "text/plain": [
       "<Figure size 432x288 with 1 Axes>"
      ]
     },
     "metadata": {
      "needs_background": "light"
     },
     "output_type": "display_data"
    }
   ],
   "source": [
    "ax = sns.countplot(x=\"play_type\",hue='shotgun', data=testing_JAX)\n",
    "plt.title('Jacksonville Jaguars Shotgun play type vs snap count')"
   ]
  },
  {
   "cell_type": "markdown",
   "metadata": {},
   "source": [
    "### As we can see above, The top teams our model predicted are pass heavy in shotgun and run heavy when not in shotgun"
   ]
  },
  {
   "cell_type": "markdown",
   "metadata": {},
   "source": [
    "# Overall, The model predicted much better than I though and the two teams I chose were some of the highest accuracy out of all. It makes sense that Ravens were so low, their offense is very different from the rest and introducing another feature is needed to increase accuracy to predict their offense as shotgun formation is not enough. "
   ]
  },
  {
   "cell_type": "code",
   "execution_count": null,
   "metadata": {},
   "outputs": [],
   "source": []
  }
 ],
 "metadata": {
  "kernelspec": {
   "display_name": "Python [conda env:anaconda3]",
   "language": "python",
   "name": "conda-env-anaconda3-py"
  },
  "language_info": {
   "codemirror_mode": {
    "name": "ipython",
    "version": 3
   },
   "file_extension": ".py",
   "mimetype": "text/x-python",
   "name": "python",
   "nbconvert_exporter": "python",
   "pygments_lexer": "ipython3",
   "version": "3.6.6"
  }
 },
 "nbformat": 4,
 "nbformat_minor": 2
}
